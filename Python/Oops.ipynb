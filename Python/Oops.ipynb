{
 "cells": [
  {
   "cell_type": "markdown",
   "id": "1196fb43-75f4-4306-99dd-d0bdf7269a1e",
   "metadata": {},
   "source": [
    "##### Method Overloading"
   ]
  },
  {
   "cell_type": "code",
   "execution_count": 1,
   "id": "4d672a7e-1e50-4ce4-9a9e-b715455112bb",
   "metadata": {},
   "outputs": [],
   "source": [
    "class Operation:\n",
    "    def add(self,a=None,b=None,c=None):\n",
    "        if a is not None and b is not None and c is not None:\n",
    "            return a+b+c\n",
    "        elif a is not None and b is not None:\n",
    "            return a+b\n",
    "        elif a is not None:\n",
    "            return a\n",
    "        else:\n",
    "            return \"No arguments given!\"\n",
    "    "
   ]
  },
  {
   "cell_type": "code",
   "execution_count": 3,
   "id": "56e6d3d9-00b2-4205-b766-7e2fb2244a10",
   "metadata": {},
   "outputs": [],
   "source": [
    "s = Operation()"
   ]
  },
  {
   "cell_type": "code",
   "execution_count": 5,
   "id": "2e76de3d-1328-4871-b2d2-41d4ae48fb5c",
   "metadata": {},
   "outputs": [
    {
     "name": "stdout",
     "output_type": "stream",
     "text": [
      "3\n",
      "6\n",
      "1\n",
      "No arguments given!\n"
     ]
    }
   ],
   "source": [
    "print(s.add(1,2))\n",
    "print(s.add(1,2,3))\n",
    "print(s.add(1))\n",
    "print(s.add())"
   ]
  },
  {
   "cell_type": "markdown",
   "id": "292b7e63-343a-4ce9-9596-1f860ae8e0bc",
   "metadata": {},
   "source": [
    "##### Method overriding"
   ]
  },
  {
   "cell_type": "code",
   "execution_count": null,
   "id": "787a0b3c-3e37-42c9-bb89-1ff2cbde38f2",
   "metadata": {},
   "outputs": [],
   "source": [
    "class Operation:\n",
    "    def add(self,a,b):\n",
    "        return (f'Addition of two numbers is: {a+b}')\n",
    "        \n",
    "\n",
    "class Addition(Operation):\n",
    "    def add(self,a,b): #Overriding add method\n",
    "        return (f'Addition of two numbers is : {float(a)+float(b)}')"
   ]
  },
  {
   "cell_type": "code",
   "execution_count": 9,
   "id": "962c7637-ee9a-4bdf-9d01-fe8caf7adf97",
   "metadata": {},
   "outputs": [
    {
     "name": "stdout",
     "output_type": "stream",
     "text": [
      "Operation class function: Addition of two numbers is: 15\n",
      "Addition class function: Addition of two numbers is : 15.0\n"
     ]
    }
   ],
   "source": [
    "o = Operation()\n",
    "s = Addition()\n",
    "print(f\"Operation class function: {o.add(5,10)}\")\n",
    "print(f\"Addition class function: {s.add(5,10)}\")\n",
    "\n"
   ]
  },
  {
   "cell_type": "markdown",
   "id": "41cf0291-fff7-4945-bb5e-4ae6eae4acd6",
   "metadata": {},
   "source": [
    "##### Encapsulation"
   ]
  },
  {
   "cell_type": "code",
   "execution_count": 13,
   "id": "2c662824-c5db-4c6e-b513-7646f651c450",
   "metadata": {},
   "outputs": [],
   "source": [
    "class Car:\n",
    "    def __init__(self, brand,model,color,year):\n",
    "        self.__brand = brand\n",
    "        self.model = model\n",
    "        self._color = color\n",
    "        self.year = year\n",
    "        \n",
    "    def get_brand(self):\n",
    "        return (f\"The brand of the {self.model} is {self.__brand}\")\n",
    "        \n",
    "    def acceleration(self):\n",
    "        return (f\"{self.model} is accelerating!\")\n",
    "    "
   ]
  },
  {
   "cell_type": "code",
   "execution_count": null,
   "id": "7e8c17fa-2f33-4c6f-bd3c-0bcaeba6491e",
   "metadata": {},
   "outputs": [],
   "source": [
    "car1 = Car(\"Tesla\", \"Model S\", \"Black\", 2023)\n",
    "\n",
    "car1.get_brand()\n",
    "\n",
    "car1.acceleration()"
   ]
  },
  {
   "cell_type": "code",
   "execution_count": 17,
   "id": "9758d7aa-1349-4b90-a5f6-6cf3da3583bb",
   "metadata": {},
   "outputs": [
    {
     "name": "stdout",
     "output_type": "stream",
     "text": [
      "_Car__brand : Tesla\n",
      "model : Model S\n",
      "_color : Black\n",
      "year : 2023\n"
     ]
    }
   ],
   "source": [
    "for key,value in car1.__dict__.items():\n",
    "    print(\"{} : {}\".format(key,value))"
   ]
  },
  {
   "cell_type": "markdown",
   "id": "19ce2cbc-f3aa-4eda-9513-d07418a629ad",
   "metadata": {},
   "source": [
    "##### Polymorphism"
   ]
  },
  {
   "cell_type": "code",
   "execution_count": 18,
   "id": "f59f5f40-d2f6-4567-ab8b-0f0563d83ae0",
   "metadata": {},
   "outputs": [],
   "source": [
    "class Animal:\n",
    "    def make_sound(self):\n",
    "        print(\"All animals make some sound\")\n",
    "class Dog(Animal):\n",
    "    def make_sound(self):\n",
    "        print(\"Dogs Woof!\")\n",
    "class Cat(Animal):\n",
    "    def make_sound(self):\n",
    "        print(\"Cats Meow!\")\n",
    "\n",
    "def speak(animal):\n",
    "    animal.make_sound()\n"
   ]
  },
  {
   "cell_type": "code",
   "execution_count": 19,
   "id": "9629ffbf-614a-4e45-b59c-c7b3b0ab6f81",
   "metadata": {},
   "outputs": [
    {
     "name": "stdout",
     "output_type": "stream",
     "text": [
      "All animals make some sound\n",
      "Dogs Woof!\n",
      "Cats Meow!\n"
     ]
    }
   ],
   "source": [
    "a = Animal()\n",
    "dog = Dog()\n",
    "cat = Cat()\n",
    "\n",
    "speak(a) #access make_sound function of parent class\n",
    "speak(dog) #access make_sound function of child class -Dog\n",
    "speak(cat) #access make_sound function of child class -Cat"
   ]
  },
  {
   "cell_type": "markdown",
   "id": "ce76ff77-7c60-4720-9e76-3f8edf4bbcee",
   "metadata": {},
   "source": [
    "##### Single Inhertitance"
   ]
  },
  {
   "cell_type": "code",
   "execution_count": 20,
   "id": "edb90787-dc53-4634-860f-0a1630f51450",
   "metadata": {},
   "outputs": [],
   "source": [
    "class Animal:\n",
    "    def make_sound(self):\n",
    "        print(\"All animals make some sound\")\n",
    "class Dog(Animal):\n",
    "    def bark(self):\n",
    "        print(\"Dogs Woof!\")"
   ]
  },
  {
   "cell_type": "code",
   "execution_count": 21,
   "id": "3c2af0e0-19ab-4d7b-9cc4-10ec81db400d",
   "metadata": {},
   "outputs": [
    {
     "name": "stdout",
     "output_type": "stream",
     "text": [
      "All animals make some sound\n",
      "Dogs Woof!\n"
     ]
    }
   ],
   "source": [
    "dog = Dog()\n",
    "dog.make_sound() #Dog class inherits make_sound function from Animal class\n",
    "dog.bark()"
   ]
  },
  {
   "cell_type": "markdown",
   "id": "c9261630-b204-4691-b403-4c1637798e67",
   "metadata": {},
   "source": [
    "##### Hierarchical Inheritance (Multiple child classes inheriting functionality of same base class)"
   ]
  },
  {
   "cell_type": "code",
   "execution_count": 22,
   "id": "fb7ffa96-dc82-4831-b9d0-e9e3ba575019",
   "metadata": {},
   "outputs": [],
   "source": [
    "class Animal:\n",
    "    def make_sound(self):\n",
    "        print(\"All animals make some sound\")\n",
    "        \n",
    "class Dog(Animal):\n",
    "    def bark(self):\n",
    "        print(\"Dogs Woof!\")\n",
    "        \n",
    "class Cat(Animal):\n",
    "    def meow(self):\n",
    "        print(\"Cats Meow!\")"
   ]
  },
  {
   "cell_type": "code",
   "execution_count": 23,
   "id": "0f76e648-23a9-43cf-9ea3-a283d32c5af0",
   "metadata": {},
   "outputs": [
    {
     "name": "stdout",
     "output_type": "stream",
     "text": [
      "All animals make some sound\n",
      "Dogs Woof!\n",
      "All animals make some sound\n",
      "Cats Meow!\n"
     ]
    }
   ],
   "source": [
    "dog = Dog()\n",
    "dog.make_sound() #Dog class inherits make_sound function from Animal class\n",
    "dog.bark()\n",
    "\n",
    "cat = Cat()\n",
    "cat.make_sound() #Cat class inherits make_sound function from Animal class\n",
    "cat.meow()"
   ]
  },
  {
   "cell_type": "markdown",
   "id": "e1217d9c-c4dc-4eeb-9fc2-92d47668658a",
   "metadata": {},
   "source": [
    "##### Multiple Inheritance (Child class inheriting functionality of multiple base classes)"
   ]
  },
  {
   "cell_type": "code",
   "execution_count": 25,
   "id": "ee2247fa-58ea-415d-9ecb-177b106690ac",
   "metadata": {},
   "outputs": [],
   "source": [
    "class Father:\n",
    "    def skills(self):\n",
    "        print(\"Father's skills\")\n",
    "\n",
    "class Mother:\n",
    "    def skills(Self):\n",
    "        print(\"Mother's skills\")\n",
    "\n",
    "class Child(Father, Mother):\n",
    "    def skills(self):\n",
    "        super().skills()\n",
    "        print(\"Child's skills\")\n",
    "    \n",
    "    "
   ]
  },
  {
   "cell_type": "code",
   "execution_count": 26,
   "id": "68c0a2f9-cc7b-48b2-89e8-30dbf1677d90",
   "metadata": {},
   "outputs": [
    {
     "name": "stdout",
     "output_type": "stream",
     "text": [
      "Father's skills\n",
      "Child's skills\n"
     ]
    }
   ],
   "source": [
    "child = Child()\n",
    "child.skills()"
   ]
  },
  {
   "cell_type": "code",
   "execution_count": 27,
   "id": "56b26d2e-01d4-4a65-90ef-640882ffda63",
   "metadata": {},
   "outputs": [
    {
     "name": "stdout",
     "output_type": "stream",
     "text": [
      "True\n",
      "True\n"
     ]
    }
   ],
   "source": [
    "print(isinstance(child,Father))\n",
    "print(isinstance(child,Mother))"
   ]
  },
  {
   "cell_type": "markdown",
   "id": "090dbc92-9ddb-4311-9eae-e13dd581d58d",
   "metadata": {},
   "source": [
    "##### Multilevel Inheritance (Derived class inherits functionality of another derived class which in turn inherits functionality of base class)"
   ]
  },
  {
   "cell_type": "code",
   "execution_count": 28,
   "id": "a2a068fc-7683-419d-8298-67b935d6c599",
   "metadata": {},
   "outputs": [],
   "source": [
    "class Animal():\n",
    "    def __init__(self,name):\n",
    "        self.name = name\n",
    "\n",
    "class Dog(Animal):\n",
    "    def is_dog(self):\n",
    "        return f\"{self.name} is a dog.\"\n",
    "\n",
    "class Puppy(Dog):\n",
    "    def cry(self):\n",
    "        return f'{self.name} cries!'\n"
   ]
  },
  {
   "cell_type": "code",
   "execution_count": 29,
   "id": "08dbddd8-fe86-4919-9efc-a35de12ee003",
   "metadata": {},
   "outputs": [
    {
     "name": "stdout",
     "output_type": "stream",
     "text": [
      "Tommy is a dog.\n",
      "Tommy cries!\n"
     ]
    }
   ],
   "source": [
    "pup = Puppy(\"Tommy\")\n",
    "print(pup.is_dog())\n",
    "print(pup.cry())"
   ]
  },
  {
   "cell_type": "markdown",
   "id": "0506b917-f003-4a83-bb81-51bef3b671c4",
   "metadata": {},
   "source": [
    "##### Hybrid Inheritance (Combination of Multiple and Multilevel Inheritance)"
   ]
  },
  {
   "cell_type": "code",
   "execution_count": 30,
   "id": "2fd96447-3141-4bc8-ab54-62b5c2ecaba4",
   "metadata": {},
   "outputs": [],
   "source": [
    "class Animal: #Parent class 1\n",
    "    def __init__(self,name):\n",
    "        self.name = name\n",
    "\n",
    "    def speak(self):\n",
    "        print(f\"{self.name} makes a sound\")\n",
    "\n",
    "class Dog(Animal): #Derived class\n",
    "    def speak(self):\n",
    "        print(f\"{self.name} says Woof!\")\n",
    "\n",
    "class Puppy(Dog): #Derived class # Multilevel inheritance\n",
    "    def speak(self):\n",
    "        print(f\"{self.name} says Yip!\")\n",
    "\n",
    "class Bird: #Parent class 2\n",
    "    def __init__(self,name):\n",
    "        self.name = name\n",
    "\n",
    "    def fly(self):\n",
    "        print(f\"{self.name} can fly!\")\n",
    "        \n",
    "class FlyingDog(Dog,Bird): #Multiple Inheritance\n",
    "    pass\n",
    "\n",
    "class FlyingPuppy(Puppy,FlyingDog): #Hybrid inheritance\n",
    "    pass\n",
    "\n",
    "    \n",
    "\n",
    "    "
   ]
  },
  {
   "cell_type": "code",
   "execution_count": 31,
   "id": "f0519953-0849-4d75-8fea-c303a7b4e2a8",
   "metadata": {},
   "outputs": [],
   "source": [
    "dog = Dog(\"Buddy\")\n",
    "puppy = Puppy(\"Tommy\")\n",
    "flying_dog = FlyingDog(\"Sam\")\n",
    "flying_puppy = FlyingPuppy(\"George\")"
   ]
  },
  {
   "cell_type": "code",
   "execution_count": 32,
   "id": "8025ebee-7ffd-4675-b027-7f006aaa3d06",
   "metadata": {},
   "outputs": [
    {
     "name": "stdout",
     "output_type": "stream",
     "text": [
      "Buddy says Woof!\n",
      "Tommy says Yip!\n",
      "Sam says Woof!\n",
      "Sam can fly!\n",
      "George says Yip!\n",
      "George can fly!\n"
     ]
    }
   ],
   "source": [
    "dog.speak()\n",
    "puppy.speak()\n",
    "flying_dog.speak()\n",
    "flying_dog.fly()\n",
    "flying_puppy.speak()\n",
    "flying_puppy.fly()"
   ]
  },
  {
   "cell_type": "markdown",
   "id": "6836786e-98a0-4313-914a-b531db6abbb2",
   "metadata": {},
   "source": [
    "##### Decorators"
   ]
  },
  {
   "cell_type": "code",
   "execution_count": 33,
   "id": "7ce61830-d6b4-4d0b-aa55-983fed976852",
   "metadata": {},
   "outputs": [],
   "source": [
    "def my_decorator(func):\n",
    "    def wrapper():\n",
    "        result = func().upper()\n",
    "        return result\n",
    "    return wrapper"
   ]
  },
  {
   "cell_type": "code",
   "execution_count": 34,
   "id": "dba612e1-1734-4f9a-8baf-29bef4de8bb1",
   "metadata": {},
   "outputs": [],
   "source": [
    "@my_decorator\n",
    "def greeting():\n",
    "    return(\"Hello!\")"
   ]
  },
  {
   "cell_type": "code",
   "execution_count": 35,
   "id": "78498c52-3bfd-401f-a8a6-0824bbbfdee1",
   "metadata": {},
   "outputs": [
    {
     "data": {
      "text/plain": [
       "'HELLO!'"
      ]
     },
     "execution_count": 35,
     "metadata": {},
     "output_type": "execute_result"
    }
   ],
   "source": [
    "greeting()"
   ]
  },
  {
   "cell_type": "code",
   "execution_count": 36,
   "id": "1134c161-4460-4a3d-841e-dc1ad558c54c",
   "metadata": {},
   "outputs": [],
   "source": [
    "def IntegerOutput(func):\n",
    "    def wrapper(a,b):\n",
    "        if b!=0:\n",
    "            result = int(func(a,b))\n",
    "            return result\n",
    "        else:\n",
    "            return \"Not Divisible\"\n",
    "    return wrapper"
   ]
  },
  {
   "cell_type": "code",
   "execution_count": 37,
   "id": "5ba44e4f-3175-467b-926f-8d767953ad8a",
   "metadata": {},
   "outputs": [],
   "source": [
    "@IntegerOutput\n",
    "def divide(a,b):\n",
    "    return a/b"
   ]
  },
  {
   "cell_type": "code",
   "execution_count": 38,
   "id": "d36863c7-1f69-46c6-aacf-576a46174a20",
   "metadata": {},
   "outputs": [
    {
     "data": {
      "text/plain": [
       "7"
      ]
     },
     "execution_count": 38,
     "metadata": {},
     "output_type": "execute_result"
    }
   ],
   "source": [
    "divide(49,7)"
   ]
  },
  {
   "cell_type": "code",
   "execution_count": 39,
   "id": "9377d140-44ae-4d1c-bf91-e7468cbcf331",
   "metadata": {},
   "outputs": [
    {
     "data": {
      "text/plain": [
       "'Not Divisible'"
      ]
     },
     "execution_count": 39,
     "metadata": {},
     "output_type": "execute_result"
    }
   ],
   "source": [
    "divide(49,0)"
   ]
  },
  {
   "cell_type": "markdown",
   "id": "7e3bc774-87ab-49a4-b627-494d1e9eae98",
   "metadata": {},
   "source": [
    "##### @property decorator (Contains getter, setter and delete functions)"
   ]
  },
  {
   "cell_type": "markdown",
   "id": "d712044f-1be8-4682-b885-61a78f342b60",
   "metadata": {},
   "source": [
    "1. Allows functions to be used as attributes without having to change the complete code. <br>\n",
    "1. Allows instance variables to be used as public variables. <br>"
   ]
  },
  {
   "cell_type": "code",
   "execution_count": 4,
   "id": "624e6ac0-c705-402c-876c-5463c258d50a",
   "metadata": {},
   "outputs": [],
   "source": [
    "class House:\n",
    "    def __init__(self,price):\n",
    "        self._price = price\n",
    "    @property \n",
    "    def price(self):\n",
    "        return self._price\n",
    "        \n",
    "    @price.setter\n",
    "    def price(self,new_price):\n",
    "        if new_price > 0:\n",
    "            self._price = new_price\n",
    "        else:\n",
    "            print(\"Invalid value\")"
   ]
  },
  {
   "cell_type": "code",
   "execution_count": 5,
   "id": "b464a31b-c86f-40b9-8784-68ffab04057e",
   "metadata": {},
   "outputs": [
    {
     "data": {
      "text/plain": [
       "100000"
      ]
     },
     "execution_count": 5,
     "metadata": {},
     "output_type": "execute_result"
    }
   ],
   "source": [
    "house = House(100000)\n",
    "house.price"
   ]
  },
  {
   "cell_type": "code",
   "execution_count": 6,
   "id": "fbc3b74b-732d-4c61-adc8-369ba3bc7bc0",
   "metadata": {},
   "outputs": [
    {
     "name": "stdout",
     "output_type": "stream",
     "text": [
      "Invalid value\n"
     ]
    }
   ],
   "source": [
    "house.price = -100000"
   ]
  },
  {
   "cell_type": "code",
   "execution_count": 7,
   "id": "446aa4ce-6133-4b13-ac4b-905bb5d55db4",
   "metadata": {},
   "outputs": [
    {
     "data": {
      "text/plain": [
       "50000"
      ]
     },
     "execution_count": 7,
     "metadata": {},
     "output_type": "execute_result"
    }
   ],
   "source": [
    "house.price = 50000\n",
    "house.price"
   ]
  },
  {
   "cell_type": "markdown",
   "id": "82de8122-4a46-4f4e-b921-df932ef954a9",
   "metadata": {},
   "source": [
    "##### Abstract Classes"
   ]
  },
  {
   "cell_type": "markdown",
   "id": "8aaa0b28-a7a8-4bac-bae9-40289ac23b86",
   "metadata": {},
   "source": [
    "1. Cannot be instantiated on their own. <br>\n",
    "2. contain abstract methods which can only be declared and not defined.<br>\n",
    "3. Child classes have to define all the abstarct methods of the abstract parent class."
   ]
  },
  {
   "cell_type": "code",
   "execution_count": 8,
   "id": "68576804-5064-4282-b641-d18828cecada",
   "metadata": {},
   "outputs": [],
   "source": [
    "from abc import ABC, abstractmethod #Abstract Base Class"
   ]
  },
  {
   "cell_type": "code",
   "execution_count": 9,
   "id": "28b6def7-f388-4809-b13e-8cb1803e41d8",
   "metadata": {},
   "outputs": [],
   "source": [
    "class Vehicle(ABC):\n",
    "    @abstractmethod\n",
    "    def start(self):\n",
    "        pass\n",
    "    @abstractmethod\n",
    "    def stop(self):\n",
    "        pass"
   ]
  },
  {
   "cell_type": "code",
   "execution_count": 10,
   "id": "2ed2ff0b-8669-4370-b03d-b99cdbfacd2e",
   "metadata": {},
   "outputs": [],
   "source": [
    "class Car(Vehicle):\n",
    "    def start(self):\n",
    "        print(\"The car is starting\")\n"
   ]
  },
  {
   "cell_type": "code",
   "execution_count": 11,
   "id": "23adabc3-56c6-460a-a34e-89445cc12bce",
   "metadata": {},
   "outputs": [
    {
     "ename": "TypeError",
     "evalue": "Can't instantiate abstract class Car without an implementation for abstract method 'stop'",
     "output_type": "error",
     "traceback": [
      "\u001b[1;31m---------------------------------------------------------------------------\u001b[0m",
      "\u001b[1;31mTypeError\u001b[0m                                 Traceback (most recent call last)",
      "Cell \u001b[1;32mIn[11], line 1\u001b[0m\n\u001b[1;32m----> 1\u001b[0m car \u001b[38;5;241m=\u001b[39m \u001b[43mCar\u001b[49m\u001b[43m(\u001b[49m\u001b[43m)\u001b[49m\n\u001b[0;32m      2\u001b[0m car\u001b[38;5;241m.\u001b[39mstart()\n",
      "\u001b[1;31mTypeError\u001b[0m: Can't instantiate abstract class Car without an implementation for abstract method 'stop'"
     ]
    }
   ],
   "source": [
    "car = Car()\n",
    "car.start()"
   ]
  },
  {
   "cell_type": "code",
   "execution_count": 12,
   "id": "d890a755-13d9-4341-859d-146aa190700e",
   "metadata": {},
   "outputs": [],
   "source": [
    "class Car(Vehicle):\n",
    "    def start(self):\n",
    "        print(\"The car is starting\")\n",
    "        \n",
    "    def stop(self):\n",
    "        print(\"The car is stopping\")\n",
    "        "
   ]
  },
  {
   "cell_type": "code",
   "execution_count": 13,
   "id": "75a78ddd-becb-4c2a-b9e8-8001b6cb7ec4",
   "metadata": {},
   "outputs": [
    {
     "name": "stdout",
     "output_type": "stream",
     "text": [
      "The car is starting\n"
     ]
    }
   ],
   "source": [
    "car = Car()\n",
    "car.start()"
   ]
  }
 ],
 "metadata": {
  "kernelspec": {
   "display_name": "Python 3 (ipykernel)",
   "language": "python",
   "name": "python3"
  },
  "language_info": {
   "codemirror_mode": {
    "name": "ipython",
    "version": 3
   },
   "file_extension": ".py",
   "mimetype": "text/x-python",
   "name": "python",
   "nbconvert_exporter": "python",
   "pygments_lexer": "ipython3",
   "version": "3.12.6"
  }
 },
 "nbformat": 4,
 "nbformat_minor": 5
}
