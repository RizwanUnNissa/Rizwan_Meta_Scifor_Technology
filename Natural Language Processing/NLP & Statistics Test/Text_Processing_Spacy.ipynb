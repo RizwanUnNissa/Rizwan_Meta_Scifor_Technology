{
 "cells": [
  {
   "cell_type": "markdown",
   "id": "87334ce1-ff8c-499f-855b-3e927a470418",
   "metadata": {},
   "source": [
    "<h1 style=\"text-align:center\"> Text Processing using Spacy "
   ]
  },
  {
   "cell_type": "code",
   "execution_count": 1,
   "id": "5720dbbb-563d-4c7a-b1f1-970aec570736",
   "metadata": {},
   "outputs": [],
   "source": [
    "import spacy"
   ]
  },
  {
   "cell_type": "code",
   "execution_count": 2,
   "id": "b6702444-843a-4e88-8082-1ae6892d202e",
   "metadata": {},
   "outputs": [],
   "source": [
    "nlp = spacy.load('en_core_web_lg')"
   ]
  },
  {
   "cell_type": "code",
   "execution_count": 3,
   "id": "874bd305-9258-4638-8368-6b44753a83d3",
   "metadata": {},
   "outputs": [],
   "source": [
    "with open(\"Text.txt\",\"r\") as file:\n",
    "    data = file.read().replace(\"\\n\",\" \")"
   ]
  },
  {
   "cell_type": "code",
   "execution_count": 4,
   "id": "defe4861-4366-48ef-808b-b6de692f9739",
   "metadata": {},
   "outputs": [
    {
     "data": {
      "text/plain": [
       "'And Eurypylus, son o'"
      ]
     },
     "execution_count": 4,
     "metadata": {},
     "output_type": "execute_result"
    }
   ],
   "source": [
    "data[:20]"
   ]
  },
  {
   "cell_type": "code",
   "execution_count": 5,
   "id": "5433706f-4ec4-4e89-904d-ec6cdf01efd5",
   "metadata": {},
   "outputs": [],
   "source": [
    "#converting data to lower case\n",
    "data = data.lower()"
   ]
  },
  {
   "cell_type": "code",
   "execution_count": 6,
   "id": "1e23903b-b015-465f-b58d-01ece551b649",
   "metadata": {},
   "outputs": [],
   "source": [
    "#creating nlp object\n",
    "doc = nlp(data)"
   ]
  },
  {
   "cell_type": "markdown",
   "id": "c9ecef29-f045-4f4b-bdaa-bfed4ba84874",
   "metadata": {},
   "source": [
    "## Tokens"
   ]
  },
  {
   "cell_type": "markdown",
   "id": "4982714b-6e61-4836-9ff5-faa7ec64f416",
   "metadata": {},
   "source": [
    "#### sentence tokens"
   ]
  },
  {
   "cell_type": "code",
   "execution_count": 7,
   "id": "f722ba7f-085b-49bf-9392-6d7224c00b72",
   "metadata": {},
   "outputs": [
    {
     "name": "stdout",
     "output_type": "stream",
     "text": [
      "and eurypylus, son\n",
      "eurypylus gave him chase\n",
      "the bloody hand fell\n",
      "thus furiously did the\n",
      "as for the son\n",
      "he rushed across the\n",
      "were the dense phalanxes\n"
     ]
    }
   ],
   "source": [
    "sentences = list(doc.sents)\n",
    "for sentence in sentences :\n",
    "    print(f\"{sentence[:4]}\")"
   ]
  },
  {
   "cell_type": "markdown",
   "id": "c3604f6e-5109-4d55-81d7-9438a9521de4",
   "metadata": {},
   "source": [
    "#### word tokens"
   ]
  },
  {
   "cell_type": "code",
   "execution_count": 8,
   "id": "6a75dd51-8358-496e-b1d3-0e016b72b370",
   "metadata": {},
   "outputs": [
    {
     "name": "stdout",
     "output_type": "stream",
     "text": [
      "and\n",
      "eurypylus\n",
      ",\n",
      "son\n",
      "of\n",
      "euaemon\n",
      ",\n",
      "killed\n",
      "hypsenor\n",
      ",\n"
     ]
    }
   ],
   "source": [
    "for token in doc[:10]:\n",
    "    print(token)"
   ]
  },
  {
   "cell_type": "markdown",
   "id": "f671e07c-e26d-4533-83b5-eb31e900f2df",
   "metadata": {},
   "source": [
    "## Remove punctuations"
   ]
  },
  {
   "cell_type": "code",
   "execution_count": 9,
   "id": "2a62484a-2888-4d4f-8526-b6d0d898fea4",
   "metadata": {},
   "outputs": [],
   "source": [
    "def remove_punc(text):\n",
    "    output = [token for token in text if not token.is_punct]\n",
    "    return output\n",
    "    "
   ]
  },
  {
   "cell_type": "code",
   "execution_count": 10,
   "id": "510b22dd-6234-4d35-ada4-5e9a90c06c60",
   "metadata": {},
   "outputs": [],
   "source": [
    "token_words = remove_punc(doc)"
   ]
  },
  {
   "cell_type": "code",
   "execution_count": 11,
   "id": "5fa71373-b792-40b6-8bfb-ea5315afcf05",
   "metadata": {},
   "outputs": [
    {
     "data": {
      "text/plain": [
       "[and, eurypylus, son, of, euaemon, killed, hypsenor, the, son, of]"
      ]
     },
     "execution_count": 11,
     "metadata": {},
     "output_type": "execute_result"
    }
   ],
   "source": [
    "token_words[:10]"
   ]
  },
  {
   "cell_type": "markdown",
   "id": "1f5b871c-297e-4a78-9a81-c79eeec4195d",
   "metadata": {},
   "source": [
    "## Remove stopwords"
   ]
  },
  {
   "cell_type": "code",
   "execution_count": 12,
   "id": "b6cde310-09ee-4aa3-af7f-09090b8a44ac",
   "metadata": {},
   "outputs": [],
   "source": [
    "stop_words = spacy.lang.en.stop_words.STOP_WORDS\n",
    "stop_words = list(stop_words)"
   ]
  },
  {
   "cell_type": "code",
   "execution_count": 13,
   "id": "d0394be5-8735-4c87-b423-3c9df447dbdf",
   "metadata": {},
   "outputs": [],
   "source": [
    "def remove_stopwords(text):\n",
    "    output = [token for token in text if not token.is_stop]\n",
    "    return output"
   ]
  },
  {
   "cell_type": "code",
   "execution_count": 14,
   "id": "21ab8f1d-544e-4bc1-b261-08dca96ade4e",
   "metadata": {},
   "outputs": [],
   "source": [
    "token_words_sw = remove_stopwords(token_words)"
   ]
  },
  {
   "cell_type": "code",
   "execution_count": 15,
   "id": "c2b50789-6ea0-47bd-8790-35a22a9f186f",
   "metadata": {},
   "outputs": [
    {
     "data": {
      "text/plain": [
       "[eurypylus,\n",
       " son,\n",
       " euaemon,\n",
       " killed,\n",
       " hypsenor,\n",
       " son,\n",
       " noble,\n",
       " dolopion,\n",
       " priest,\n",
       " river]"
      ]
     },
     "execution_count": 15,
     "metadata": {},
     "output_type": "execute_result"
    }
   ],
   "source": [
    "token_words_sw[:10]"
   ]
  },
  {
   "cell_type": "markdown",
   "id": "6c4cafcf-98eb-4b4c-8967-8bf04b701907",
   "metadata": {},
   "source": [
    "## Lemmatization"
   ]
  },
  {
   "cell_type": "code",
   "execution_count": 16,
   "id": "8261583d-ad13-461e-a70c-e6ebc89f998a",
   "metadata": {},
   "outputs": [],
   "source": [
    "def lemmatization(text):\n",
    "    output = []\n",
    "    for token in text:\n",
    "        output.append(str(token.lemma_))\n",
    "    return output"
   ]
  },
  {
   "cell_type": "code",
   "execution_count": 17,
   "id": "d1051c24-5457-4156-8aa2-132539c90f97",
   "metadata": {},
   "outputs": [
    {
     "data": {
      "text/plain": [
       "['eurypylus',\n",
       " 'son',\n",
       " 'euaemon',\n",
       " 'kill',\n",
       " 'hypsenor',\n",
       " 'son',\n",
       " 'noble',\n",
       " 'dolopion',\n",
       " 'priest',\n",
       " 'river']"
      ]
     },
     "execution_count": 17,
     "metadata": {},
     "output_type": "execute_result"
    }
   ],
   "source": [
    "lemma_text = lemmatization(token_words_sw)\n",
    "lemma_text[:10]"
   ]
  },
  {
   "cell_type": "markdown",
   "id": "7865a1e1-a487-4ded-94fb-bc2cfaa1c76b",
   "metadata": {},
   "source": [
    "## Part of speech tagging"
   ]
  },
  {
   "cell_type": "code",
   "execution_count": 18,
   "id": "b88551f3-7d76-4375-ad6f-c8650fa2f046",
   "metadata": {},
   "outputs": [
    {
     "name": "stdout",
     "output_type": "stream",
     "text": [
      "Token:eurypylus\n",
      "    Tag:NNP        Pos:PROPN\n",
      "    Explanation: noun, proper singular\n",
      "Token:son\n",
      "    Tag:NN         Pos:NOUN\n",
      "    Explanation: noun, singular or mass\n",
      "Token:euaemon\n",
      "    Tag:NNP        Pos:PROPN\n",
      "    Explanation: noun, proper singular\n",
      "Token:killed\n",
      "    Tag:VBN        Pos:VERB\n",
      "    Explanation: verb, past participle\n",
      "Token:hypsenor\n",
      "    Tag:NN         Pos:NOUN\n",
      "    Explanation: noun, singular or mass\n"
     ]
    }
   ],
   "source": [
    "for token in token_words_sw[:5]:\n",
    "    print(f\"\"\"Token:{token.text}\n",
    "    Tag:{str(token.tag_):10} Pos:{str(token.pos_):}\n",
    "    Explanation: {spacy.explain(token.tag_)}\"\"\")"
   ]
  },
  {
   "cell_type": "code",
   "execution_count": 19,
   "id": "f26aff35-3b7d-4a11-b21a-531ead93a00a",
   "metadata": {},
   "outputs": [],
   "source": [
    "from spacy import displacy"
   ]
  },
  {
   "cell_type": "code",
   "execution_count": 20,
   "id": "d8c0602b-e440-4d91-9a30-6643ca85b4fd",
   "metadata": {},
   "outputs": [
    {
     "data": {
      "text/html": [
       "<span class=\"tex2jax_ignore\"><svg xmlns=\"http://www.w3.org/2000/svg\" xmlns:xlink=\"http://www.w3.org/1999/xlink\" xml:lang=\"en\" id=\"baa7562873f64595aa8ed31494839283-0\" class=\"displacy\" width=\"1275\" height=\"312.0\" direction=\"ltr\" style=\"max-width: none; height: 312.0px; color: #000000; background: #ffffff; font-family: Arial; direction: ltr\">\n",
       "<text class=\"displacy-token\" fill=\"currentColor\" text-anchor=\"middle\" y=\"222.0\">\n",
       "    <tspan class=\"displacy-word\" fill=\"currentColor\" x=\"50\">and</tspan>\n",
       "    <tspan class=\"displacy-tag\" dy=\"2em\" fill=\"currentColor\" x=\"50\">CCONJ</tspan>\n",
       "</text>\n",
       "\n",
       "<text class=\"displacy-token\" fill=\"currentColor\" text-anchor=\"middle\" y=\"222.0\">\n",
       "    <tspan class=\"displacy-word\" fill=\"currentColor\" x=\"225\">eurypylus,</tspan>\n",
       "    <tspan class=\"displacy-tag\" dy=\"2em\" fill=\"currentColor\" x=\"225\">PROPN</tspan>\n",
       "</text>\n",
       "\n",
       "<text class=\"displacy-token\" fill=\"currentColor\" text-anchor=\"middle\" y=\"222.0\">\n",
       "    <tspan class=\"displacy-word\" fill=\"currentColor\" x=\"400\">son</tspan>\n",
       "    <tspan class=\"displacy-tag\" dy=\"2em\" fill=\"currentColor\" x=\"400\">NOUN</tspan>\n",
       "</text>\n",
       "\n",
       "<text class=\"displacy-token\" fill=\"currentColor\" text-anchor=\"middle\" y=\"222.0\">\n",
       "    <tspan class=\"displacy-word\" fill=\"currentColor\" x=\"575\">of</tspan>\n",
       "    <tspan class=\"displacy-tag\" dy=\"2em\" fill=\"currentColor\" x=\"575\">ADP</tspan>\n",
       "</text>\n",
       "\n",
       "<text class=\"displacy-token\" fill=\"currentColor\" text-anchor=\"middle\" y=\"222.0\">\n",
       "    <tspan class=\"displacy-word\" fill=\"currentColor\" x=\"750\">euaemon,</tspan>\n",
       "    <tspan class=\"displacy-tag\" dy=\"2em\" fill=\"currentColor\" x=\"750\">PROPN</tspan>\n",
       "</text>\n",
       "\n",
       "<text class=\"displacy-token\" fill=\"currentColor\" text-anchor=\"middle\" y=\"222.0\">\n",
       "    <tspan class=\"displacy-word\" fill=\"currentColor\" x=\"925\">killed</tspan>\n",
       "    <tspan class=\"displacy-tag\" dy=\"2em\" fill=\"currentColor\" x=\"925\">VERB</tspan>\n",
       "</text>\n",
       "\n",
       "<text class=\"displacy-token\" fill=\"currentColor\" text-anchor=\"middle\" y=\"222.0\">\n",
       "    <tspan class=\"displacy-word\" fill=\"currentColor\" x=\"1100\">hypsenor,</tspan>\n",
       "    <tspan class=\"displacy-tag\" dy=\"2em\" fill=\"currentColor\" x=\"1100\">NOUN</tspan>\n",
       "</text>\n",
       "\n",
       "<g class=\"displacy-arrow\">\n",
       "    <path class=\"displacy-arc\" id=\"arrow-baa7562873f64595aa8ed31494839283-0-0\" stroke-width=\"2px\" d=\"M70,177.0 C70,89.5 220.0,89.5 220.0,177.0\" fill=\"none\" stroke=\"currentColor\"/>\n",
       "    <text dy=\"1.25em\" style=\"font-size: 0.8em; letter-spacing: 1px\">\n",
       "        <textPath xlink:href=\"#arrow-baa7562873f64595aa8ed31494839283-0-0\" class=\"displacy-label\" startOffset=\"50%\" side=\"left\" fill=\"currentColor\" text-anchor=\"middle\">cc</textPath>\n",
       "    </text>\n",
       "    <path class=\"displacy-arrowhead\" d=\"M70,179.0 L62,167.0 78,167.0\" fill=\"currentColor\"/>\n",
       "</g>\n",
       "\n",
       "<g class=\"displacy-arrow\">\n",
       "    <path class=\"displacy-arc\" id=\"arrow-baa7562873f64595aa8ed31494839283-0-1\" stroke-width=\"2px\" d=\"M245,177.0 C245,89.5 395.0,89.5 395.0,177.0\" fill=\"none\" stroke=\"currentColor\"/>\n",
       "    <text dy=\"1.25em\" style=\"font-size: 0.8em; letter-spacing: 1px\">\n",
       "        <textPath xlink:href=\"#arrow-baa7562873f64595aa8ed31494839283-0-1\" class=\"displacy-label\" startOffset=\"50%\" side=\"left\" fill=\"currentColor\" text-anchor=\"middle\">appos</textPath>\n",
       "    </text>\n",
       "    <path class=\"displacy-arrowhead\" d=\"M395.0,179.0 L403.0,167.0 387.0,167.0\" fill=\"currentColor\"/>\n",
       "</g>\n",
       "\n",
       "<g class=\"displacy-arrow\">\n",
       "    <path class=\"displacy-arc\" id=\"arrow-baa7562873f64595aa8ed31494839283-0-2\" stroke-width=\"2px\" d=\"M420,177.0 C420,89.5 570.0,89.5 570.0,177.0\" fill=\"none\" stroke=\"currentColor\"/>\n",
       "    <text dy=\"1.25em\" style=\"font-size: 0.8em; letter-spacing: 1px\">\n",
       "        <textPath xlink:href=\"#arrow-baa7562873f64595aa8ed31494839283-0-2\" class=\"displacy-label\" startOffset=\"50%\" side=\"left\" fill=\"currentColor\" text-anchor=\"middle\">prep</textPath>\n",
       "    </text>\n",
       "    <path class=\"displacy-arrowhead\" d=\"M570.0,179.0 L578.0,167.0 562.0,167.0\" fill=\"currentColor\"/>\n",
       "</g>\n",
       "\n",
       "<g class=\"displacy-arrow\">\n",
       "    <path class=\"displacy-arc\" id=\"arrow-baa7562873f64595aa8ed31494839283-0-3\" stroke-width=\"2px\" d=\"M595,177.0 C595,89.5 745.0,89.5 745.0,177.0\" fill=\"none\" stroke=\"currentColor\"/>\n",
       "    <text dy=\"1.25em\" style=\"font-size: 0.8em; letter-spacing: 1px\">\n",
       "        <textPath xlink:href=\"#arrow-baa7562873f64595aa8ed31494839283-0-3\" class=\"displacy-label\" startOffset=\"50%\" side=\"left\" fill=\"currentColor\" text-anchor=\"middle\">pobj</textPath>\n",
       "    </text>\n",
       "    <path class=\"displacy-arrowhead\" d=\"M745.0,179.0 L753.0,167.0 737.0,167.0\" fill=\"currentColor\"/>\n",
       "</g>\n",
       "\n",
       "<g class=\"displacy-arrow\">\n",
       "    <path class=\"displacy-arc\" id=\"arrow-baa7562873f64595aa8ed31494839283-0-4\" stroke-width=\"2px\" d=\"M945,177.0 C945,89.5 1095.0,89.5 1095.0,177.0\" fill=\"none\" stroke=\"currentColor\"/>\n",
       "    <text dy=\"1.25em\" style=\"font-size: 0.8em; letter-spacing: 1px\">\n",
       "        <textPath xlink:href=\"#arrow-baa7562873f64595aa8ed31494839283-0-4\" class=\"displacy-label\" startOffset=\"50%\" side=\"left\" fill=\"currentColor\" text-anchor=\"middle\">amod</textPath>\n",
       "    </text>\n",
       "    <path class=\"displacy-arrowhead\" d=\"M945,179.0 L937,167.0 953,167.0\" fill=\"currentColor\"/>\n",
       "</g>\n",
       "\n",
       "<g class=\"displacy-arrow\">\n",
       "    <path class=\"displacy-arc\" id=\"arrow-baa7562873f64595aa8ed31494839283-0-5\" stroke-width=\"2px\" d=\"M245,177.0 C245,2.0 1100.0,2.0 1100.0,177.0\" fill=\"none\" stroke=\"currentColor\"/>\n",
       "    <text dy=\"1.25em\" style=\"font-size: 0.8em; letter-spacing: 1px\">\n",
       "        <textPath xlink:href=\"#arrow-baa7562873f64595aa8ed31494839283-0-5\" class=\"displacy-label\" startOffset=\"50%\" side=\"left\" fill=\"currentColor\" text-anchor=\"middle\">appos</textPath>\n",
       "    </text>\n",
       "    <path class=\"displacy-arrowhead\" d=\"M1100.0,179.0 L1108.0,167.0 1092.0,167.0\" fill=\"currentColor\"/>\n",
       "</g>\n",
       "</svg></span>"
      ],
      "text/plain": [
       "<IPython.core.display.HTML object>"
      ]
     },
     "metadata": {},
     "output_type": "display_data"
    }
   ],
   "source": [
    "displacy.render(doc[:10], style=\"dep\", jupyter=True)"
   ]
  }
 ],
 "metadata": {
  "kernelspec": {
   "display_name": "Python 3 (ipykernel)",
   "language": "python",
   "name": "python3"
  },
  "language_info": {
   "codemirror_mode": {
    "name": "ipython",
    "version": 3
   },
   "file_extension": ".py",
   "mimetype": "text/x-python",
   "name": "python",
   "nbconvert_exporter": "python",
   "pygments_lexer": "ipython3",
   "version": "3.12.6"
  }
 },
 "nbformat": 4,
 "nbformat_minor": 5
}
