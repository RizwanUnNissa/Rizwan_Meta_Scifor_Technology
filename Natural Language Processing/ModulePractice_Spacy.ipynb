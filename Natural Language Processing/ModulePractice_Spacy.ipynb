{
 "cells": [
  {
   "cell_type": "code",
   "execution_count": 1,
   "id": "6df0f0f6-69ac-4194-a3ca-24525d2d45ad",
   "metadata": {},
   "outputs": [],
   "source": [
    "import warnings\n",
    "warnings.filterwarnings(\"ignore\")"
   ]
  },
  {
   "cell_type": "code",
   "execution_count": 2,
   "id": "3c788346-e965-4c80-bca6-427c2c0114ab",
   "metadata": {},
   "outputs": [
    {
     "name": "stdout",
     "output_type": "stream",
     "text": [
      "C:\\Users\\hp\\AppData\\Local\\Programs\\Python\\Python312\\Lib\\site-packages\n"
     ]
    }
   ],
   "source": [
    "import spacy\n",
    "import pytextrank"
   ]
  },
  {
   "cell_type": "code",
   "execution_count": 36,
   "id": "d501d7cb-3938-4c99-8c4b-e4445cc7204e",
   "metadata": {},
   "outputs": [],
   "source": [
    "nlp = spacy.load('en_core_web_lg')"
   ]
  },
  {
   "cell_type": "code",
   "execution_count": 4,
   "id": "28c7435b-6912-46b8-923a-eeba949d23e3",
   "metadata": {},
   "outputs": [],
   "source": [
    "text = '''Fog everywhere. Fog up the river, where it flows among green aits and meadows; fog down the river, where it rolls deified among the tiers of shipping and the waterside pollutions of a great (and dirty) city. Fog on the Essex marshes, fog on the Kentish heights. Fog creeping into the cabooses of collier-brigs; fog lying out on the yards and hovering in the rigging of great ships; fog drooping on the gunwales of barges and small boats. Fog in the eyes and throats of ancient Greenwich pensioners, wheezing by the firesides of their wards; fog in the stem and bowl of the afternoon pipe of the wrathful skipper, down in his close cabin; fog cruelly pinching the toes and fingers of his shivering little apprentice boy on deck. Chance people on the bridges peeping over the parapets into a nether sky of fog, with fog all round them, as if they were up in a balloon and hanging in the misty clouds.'''"
   ]
  },
  {
   "cell_type": "code",
   "execution_count": 37,
   "id": "50a9b605-cd63-4883-85b0-25e3482bc740",
   "metadata": {},
   "outputs": [
    {
     "data": {
      "text/plain": [
       "<pytextrank.base.BaseTextRankFactory at 0x251d2c91520>"
      ]
     },
     "execution_count": 37,
     "metadata": {},
     "output_type": "execute_result"
    }
   ],
   "source": [
    "nlp.add_pipe(\"textrank\")"
   ]
  },
  {
   "cell_type": "code",
   "execution_count": 38,
   "id": "108bfd3c-4b29-4a94-9b6e-30c3dc0f543e",
   "metadata": {},
   "outputs": [],
   "source": [
    "doc = nlp(text)"
   ]
  },
  {
   "cell_type": "markdown",
   "id": "7a907934-e6fb-48ee-8784-eb866c82177e",
   "metadata": {},
   "source": [
    "#### Sentences"
   ]
  },
  {
   "cell_type": "code",
   "execution_count": 39,
   "id": "c82a839d-f9c5-4fae-80b1-9a6585ccbe28",
   "metadata": {},
   "outputs": [],
   "source": [
    "sentences = list(doc.sents)"
   ]
  },
  {
   "cell_type": "code",
   "execution_count": 40,
   "id": "ba5b240c-a739-4fb6-aa85-b21c3d6f80ff",
   "metadata": {},
   "outputs": [
    {
     "name": "stdout",
     "output_type": "stream",
     "text": [
      "6\n",
      "Fog everywhere....\n",
      "Fog up the river...\n",
      "Fog on the Essex...\n",
      "Fog creeping into the...\n",
      "Fog in the eyes...\n",
      "Chance people on the...\n"
     ]
    }
   ],
   "source": [
    "print(len(sentences))\n",
    "for sentence in sentences:\n",
    "    print(f\"{sentence[:4]}...\")"
   ]
  },
  {
   "cell_type": "markdown",
   "id": "e317a9f6-f81d-4a68-9196-dff7f314e848",
   "metadata": {},
   "source": [
    "##### Separating sentences with a ; as delimiter"
   ]
  },
  {
   "cell_type": "code",
   "execution_count": 41,
   "id": "7732c5a9-af08-414a-951a-1e93bcc28953",
   "metadata": {},
   "outputs": [],
   "source": [
    "from spacy.language import Language"
   ]
  },
  {
   "cell_type": "code",
   "execution_count": 42,
   "id": "9ee7b0af-36e9-4950-a781-698b6af96b6e",
   "metadata": {},
   "outputs": [],
   "source": [
    "@Language.component(\"set_custom_boundaries\")\n",
    "def set_custom_boundaries(doc):\n",
    "    for token in doc[:-1]:\n",
    "        if token.text==\";\":\n",
    "            doc[token.i+1].is_sent_start = True\n",
    "    return doc"
   ]
  },
  {
   "cell_type": "code",
   "execution_count": 43,
   "id": "d9f562f8-c905-4189-864f-05919f74bae3",
   "metadata": {},
   "outputs": [
    {
     "data": {
      "text/plain": [
       "<function __main__.set_custom_boundaries(doc)>"
      ]
     },
     "execution_count": 43,
     "metadata": {},
     "output_type": "execute_result"
    }
   ],
   "source": [
    "custom_nlp = spacy.load(\"en_core_web_lg\")\n",
    "custom_nlp.add_pipe(\"set_custom_boundaries\", before=\"parser\")"
   ]
  },
  {
   "cell_type": "code",
   "execution_count": 44,
   "id": "8d1150b4-c56e-4c5d-9960-98693a8339d5",
   "metadata": {},
   "outputs": [
    {
     "name": "stdout",
     "output_type": "stream",
     "text": [
      "Fog everywhere....\n",
      "Fog up the river...\n",
      "fog down the river...\n",
      "Fog on the Essex...\n",
      "Fog creeping into the...\n",
      "fog lying out on...\n",
      "fog drooping on the...\n",
      "Fog in the eyes...\n",
      "fog in the stem...\n",
      "fog cruelly pinching the...\n",
      "Chance people on the...\n"
     ]
    }
   ],
   "source": [
    "custom_doc = custom_nlp(text)\n",
    "custom_sentences = list(custom_doc.sents)\n",
    "for sent in custom_sentences:\n",
    "    print(f\"{sent[:4]}...\")"
   ]
  },
  {
   "cell_type": "markdown",
   "id": "f1617a2b-de3e-44a0-91fa-e6782fe0a360",
   "metadata": {},
   "source": [
    "#### Tokens"
   ]
  },
  {
   "cell_type": "code",
   "execution_count": 45,
   "id": "c8c5b67a-3426-4d9f-bc14-099e217a53b0",
   "metadata": {},
   "outputs": [
    {
     "name": "stdout",
     "output_type": "stream",
     "text": [
      "Fog 0\n",
      "everywhere 4\n",
      ". 14\n",
      "Fog 16\n",
      "up 20\n",
      "the 23\n",
      "river 27\n",
      ", 32\n",
      "where 34\n",
      "it 40\n",
      "flows 43\n",
      "among 49\n",
      "green 55\n",
      "aits 61\n",
      "and 66\n"
     ]
    }
   ],
   "source": [
    "for token in doc[:15]:\n",
    "    print(token, token.idx)"
   ]
  },
  {
   "cell_type": "code",
   "execution_count": 46,
   "id": "bde51918-f021-43b6-9ce2-672eb3a50a0f",
   "metadata": {},
   "outputs": [
    {
     "name": "stdout",
     "output_type": "stream",
     "text": [
      "Text with Whitespace  Is Alphanumeric? Is Punctuation?   Is Stop Word?\n",
      "Fog                   True             False             False\n",
      "everywhere            True             False             True\n",
      ".                     False            True              False\n",
      "Fog                   True             False             False\n",
      "up                    True             False             True\n",
      "the                   True             False             True\n",
      "river                 True             False             False\n",
      ",                     False            True              False\n",
      "where                 True             False             True\n",
      "it                    True             False             True\n",
      "flows                 True             False             False\n",
      "among                 True             False             True\n",
      "green                 True             False             False\n",
      "aits                  True             False             False\n",
      "and                   True             False             True\n"
     ]
    }
   ],
   "source": [
    "print(f\"{\"Text with Whitespace\":22}\"\n",
    "      f\"{\"Is Alphanumeric?\":17}\"\n",
    "      f\"{\"Is Punctuation?\":18}\"\n",
    "      f\"{\"Is Stop Word?\"}\")\n",
    "for token in doc[:15]:\n",
    "    print(f\"{str(token.text_with_ws):22}\"\n",
    "          f\"{str(token.is_alpha):17}\"\n",
    "          f\"{str(token.is_punct):18}\"\n",
    "          f\"{str(token.is_stop)}\")"
   ]
  },
  {
   "cell_type": "markdown",
   "id": "20ef7ae3-d026-4983-a349-99a1c5206416",
   "metadata": {},
   "source": [
    "#### Stopwords"
   ]
  },
  {
   "cell_type": "code",
   "execution_count": 47,
   "id": "5d71cd32-5c75-435b-a5f1-f8055d222977",
   "metadata": {},
   "outputs": [],
   "source": [
    "stopwords = spacy.lang.en.stop_words.STOP_WORDS"
   ]
  },
  {
   "cell_type": "code",
   "execution_count": 48,
   "id": "0f9a5b80-0157-4114-8fac-8415ce3248eb",
   "metadata": {},
   "outputs": [],
   "source": [
    "stopwords = list(stopwords)"
   ]
  },
  {
   "cell_type": "code",
   "execution_count": 49,
   "id": "8a36e05e-1a14-4f86-a644-598d985ce3d8",
   "metadata": {},
   "outputs": [],
   "source": [
    "#[word for word in doc[:20] if not str(word).lower() in stopwords]"
   ]
  },
  {
   "cell_type": "code",
   "execution_count": 50,
   "id": "fda37025-5547-440e-95f3-2e4e39e4cd78",
   "metadata": {},
   "outputs": [
    {
     "data": {
      "text/plain": [
       "[Fog, ., Fog, river, ,, flows, green, aits, meadows, ;, fog]"
      ]
     },
     "execution_count": 50,
     "metadata": {},
     "output_type": "execute_result"
    }
   ],
   "source": [
    "[word for word in doc[:20] if not word.is_stop]"
   ]
  },
  {
   "cell_type": "markdown",
   "id": "edf5e9c3-369f-4613-bd5a-1a91acef3337",
   "metadata": {},
   "source": [
    "#### Lemmatization"
   ]
  },
  {
   "cell_type": "code",
   "execution_count": 51,
   "id": "35ba7dcf-c13c-4111-a4b6-2c70c1b38846",
   "metadata": {},
   "outputs": [],
   "source": [
    "custom_text = doc[:44]"
   ]
  },
  {
   "cell_type": "code",
   "execution_count": 52,
   "id": "8c730442-dba2-4922-896f-10d319bfa303",
   "metadata": {},
   "outputs": [
    {
     "name": "stdout",
     "output_type": "stream",
     "text": [
      "               flows : flow\n",
      "                aits : ait\n",
      "             meadows : meadow\n",
      "               rolls : roll\n",
      "             deified : deify\n",
      "               tiers : tier\n",
      "          pollutions : pollution\n"
     ]
    }
   ],
   "source": [
    "for token in custom_text:\n",
    "    if str(token).lower() != str(token.lemma_):\n",
    "        print(f\"{str(token):>20} : {str(token.lemma_)}\")"
   ]
  },
  {
   "cell_type": "markdown",
   "id": "51aef5b6-91b6-41cd-aa97-ea07566fe3d2",
   "metadata": {},
   "source": [
    "#### Word Frequency"
   ]
  },
  {
   "cell_type": "code",
   "execution_count": 53,
   "id": "ef5c8fc3-1633-4e30-a6f9-3d02e84cb580",
   "metadata": {},
   "outputs": [],
   "source": [
    "from collections import Counter"
   ]
  },
  {
   "cell_type": "code",
   "execution_count": 54,
   "id": "889b8b53-b5ba-4010-abe1-31af9222360e",
   "metadata": {},
   "outputs": [],
   "source": [
    "words = [token.text.lower() for token in doc if not token.is_stop and not token.is_punct]"
   ]
  },
  {
   "cell_type": "code",
   "execution_count": 55,
   "id": "ee63b51e-8451-46f7-a09b-0678fe8d3f0e",
   "metadata": {},
   "outputs": [
    {
     "data": {
      "text/plain": [
       "[('fog', 13), ('river', 2), ('great', 2), ('flows', 1), ('green', 1)]"
      ]
     },
     "execution_count": 55,
     "metadata": {},
     "output_type": "execute_result"
    }
   ],
   "source": [
    "Counter(words).most_common(5)"
   ]
  },
  {
   "cell_type": "markdown",
   "id": "70ec61fa-785a-44e5-b6d1-df8cfed2b4b8",
   "metadata": {},
   "source": [
    "#### Parts of Speech"
   ]
  },
  {
   "cell_type": "code",
   "execution_count": 56,
   "id": "5b5cd528-44d0-46e7-a8e5-007953c1b116",
   "metadata": {},
   "outputs": [
    {
     "name": "stdout",
     "output_type": "stream",
     "text": [
      "Token:Fog\n",
      "    Tag:NN         Pos:NOUN\n",
      "    Explanation: noun, singular or mass\n",
      "Token:everywhere\n",
      "    Tag:RB         Pos:ADV\n",
      "    Explanation: adverb\n",
      "Token:.\n",
      "    Tag:.          Pos:PUNCT\n",
      "    Explanation: punctuation mark, sentence closer\n",
      "Token:Fog\n",
      "    Tag:NN         Pos:NOUN\n",
      "    Explanation: noun, singular or mass\n",
      "Token:up\n",
      "    Tag:RP         Pos:ADP\n",
      "    Explanation: adverb, particle\n"
     ]
    }
   ],
   "source": [
    "for token in doc[:5]:\n",
    "    print(f\"\"\"Token:{token.text}\n",
    "    Tag:{str(token.tag_):10} Pos:{str(token.pos_):}\n",
    "    Explanation: {spacy.explain(token.tag_)}\"\"\")"
   ]
  },
  {
   "cell_type": "markdown",
   "id": "fd9a5c43-caa4-47bf-a8ee-ae6b71487546",
   "metadata": {},
   "source": [
    "#### Visualization using displacy"
   ]
  },
  {
   "cell_type": "code",
   "execution_count": 57,
   "id": "216ee6ed-c0dd-44f1-af0d-396431f076b8",
   "metadata": {},
   "outputs": [],
   "source": [
    "from spacy import displacy"
   ]
  },
  {
   "cell_type": "code",
   "execution_count": 58,
   "id": "81a2d25f-bc69-466d-a1aa-af24c7609732",
   "metadata": {},
   "outputs": [
    {
     "data": {
      "text/html": [
       "<span class=\"tex2jax_ignore\"><svg xmlns=\"http://www.w3.org/2000/svg\" xmlns:xlink=\"http://www.w3.org/1999/xlink\" xml:lang=\"en\" id=\"d3ae54cd479e41d781c2e83bcede8085-0\" class=\"displacy\" width=\"1450\" height=\"487.0\" direction=\"ltr\" style=\"max-width: none; height: 487.0px; color: #000000; background: #ffffff; font-family: Arial; direction: ltr\">\n",
       "<text class=\"displacy-token\" fill=\"currentColor\" text-anchor=\"middle\" y=\"397.0\">\n",
       "    <tspan class=\"displacy-word\" fill=\"currentColor\" x=\"50\">Fog</tspan>\n",
       "    <tspan class=\"displacy-tag\" dy=\"2em\" fill=\"currentColor\" x=\"50\">NOUN</tspan>\n",
       "</text>\n",
       "\n",
       "<text class=\"displacy-token\" fill=\"currentColor\" text-anchor=\"middle\" y=\"397.0\">\n",
       "    <tspan class=\"displacy-word\" fill=\"currentColor\" x=\"225\">everywhere.</tspan>\n",
       "    <tspan class=\"displacy-tag\" dy=\"2em\" fill=\"currentColor\" x=\"225\">ADV</tspan>\n",
       "</text>\n",
       "\n",
       "<text class=\"displacy-token\" fill=\"currentColor\" text-anchor=\"middle\" y=\"397.0\">\n",
       "    <tspan class=\"displacy-word\" fill=\"currentColor\" x=\"400\">Fog</tspan>\n",
       "    <tspan class=\"displacy-tag\" dy=\"2em\" fill=\"currentColor\" x=\"400\">NOUN</tspan>\n",
       "</text>\n",
       "\n",
       "<text class=\"displacy-token\" fill=\"currentColor\" text-anchor=\"middle\" y=\"397.0\">\n",
       "    <tspan class=\"displacy-word\" fill=\"currentColor\" x=\"575\">up</tspan>\n",
       "    <tspan class=\"displacy-tag\" dy=\"2em\" fill=\"currentColor\" x=\"575\">ADP</tspan>\n",
       "</text>\n",
       "\n",
       "<text class=\"displacy-token\" fill=\"currentColor\" text-anchor=\"middle\" y=\"397.0\">\n",
       "    <tspan class=\"displacy-word\" fill=\"currentColor\" x=\"750\">the</tspan>\n",
       "    <tspan class=\"displacy-tag\" dy=\"2em\" fill=\"currentColor\" x=\"750\">DET</tspan>\n",
       "</text>\n",
       "\n",
       "<text class=\"displacy-token\" fill=\"currentColor\" text-anchor=\"middle\" y=\"397.0\">\n",
       "    <tspan class=\"displacy-word\" fill=\"currentColor\" x=\"925\">river,</tspan>\n",
       "    <tspan class=\"displacy-tag\" dy=\"2em\" fill=\"currentColor\" x=\"925\">NOUN</tspan>\n",
       "</text>\n",
       "\n",
       "<text class=\"displacy-token\" fill=\"currentColor\" text-anchor=\"middle\" y=\"397.0\">\n",
       "    <tspan class=\"displacy-word\" fill=\"currentColor\" x=\"1100\">where</tspan>\n",
       "    <tspan class=\"displacy-tag\" dy=\"2em\" fill=\"currentColor\" x=\"1100\">SCONJ</tspan>\n",
       "</text>\n",
       "\n",
       "<text class=\"displacy-token\" fill=\"currentColor\" text-anchor=\"middle\" y=\"397.0\">\n",
       "    <tspan class=\"displacy-word\" fill=\"currentColor\" x=\"1275\">it</tspan>\n",
       "    <tspan class=\"displacy-tag\" dy=\"2em\" fill=\"currentColor\" x=\"1275\">PRON</tspan>\n",
       "</text>\n",
       "\n",
       "<g class=\"displacy-arrow\">\n",
       "    <path class=\"displacy-arc\" id=\"arrow-d3ae54cd479e41d781c2e83bcede8085-0-0\" stroke-width=\"2px\" d=\"M70,352.0 C70,264.5 210.0,264.5 210.0,352.0\" fill=\"none\" stroke=\"currentColor\"/>\n",
       "    <text dy=\"1.25em\" style=\"font-size: 0.8em; letter-spacing: 1px\">\n",
       "        <textPath xlink:href=\"#arrow-d3ae54cd479e41d781c2e83bcede8085-0-0\" class=\"displacy-label\" startOffset=\"50%\" side=\"left\" fill=\"currentColor\" text-anchor=\"middle\">advmod</textPath>\n",
       "    </text>\n",
       "    <path class=\"displacy-arrowhead\" d=\"M210.0,354.0 L218.0,342.0 202.0,342.0\" fill=\"currentColor\"/>\n",
       "</g>\n",
       "\n",
       "<g class=\"displacy-arrow\">\n",
       "    <path class=\"displacy-arc\" id=\"arrow-d3ae54cd479e41d781c2e83bcede8085-0-1\" stroke-width=\"2px\" d=\"M420,352.0 C420,264.5 560.0,264.5 560.0,352.0\" fill=\"none\" stroke=\"currentColor\"/>\n",
       "    <text dy=\"1.25em\" style=\"font-size: 0.8em; letter-spacing: 1px\">\n",
       "        <textPath xlink:href=\"#arrow-d3ae54cd479e41d781c2e83bcede8085-0-1\" class=\"displacy-label\" startOffset=\"50%\" side=\"left\" fill=\"currentColor\" text-anchor=\"middle\">prt</textPath>\n",
       "    </text>\n",
       "    <path class=\"displacy-arrowhead\" d=\"M560.0,354.0 L568.0,342.0 552.0,342.0\" fill=\"currentColor\"/>\n",
       "</g>\n",
       "\n",
       "<g class=\"displacy-arrow\">\n",
       "    <path class=\"displacy-arc\" id=\"arrow-d3ae54cd479e41d781c2e83bcede8085-0-2\" stroke-width=\"2px\" d=\"M770,352.0 C770,264.5 910.0,264.5 910.0,352.0\" fill=\"none\" stroke=\"currentColor\"/>\n",
       "    <text dy=\"1.25em\" style=\"font-size: 0.8em; letter-spacing: 1px\">\n",
       "        <textPath xlink:href=\"#arrow-d3ae54cd479e41d781c2e83bcede8085-0-2\" class=\"displacy-label\" startOffset=\"50%\" side=\"left\" fill=\"currentColor\" text-anchor=\"middle\">det</textPath>\n",
       "    </text>\n",
       "    <path class=\"displacy-arrowhead\" d=\"M770,354.0 L762,342.0 778,342.0\" fill=\"currentColor\"/>\n",
       "</g>\n",
       "\n",
       "<g class=\"displacy-arrow\">\n",
       "    <path class=\"displacy-arc\" id=\"arrow-d3ae54cd479e41d781c2e83bcede8085-0-3\" stroke-width=\"2px\" d=\"M420,352.0 C420,177.0 915.0,177.0 915.0,352.0\" fill=\"none\" stroke=\"currentColor\"/>\n",
       "    <text dy=\"1.25em\" style=\"font-size: 0.8em; letter-spacing: 1px\">\n",
       "        <textPath xlink:href=\"#arrow-d3ae54cd479e41d781c2e83bcede8085-0-3\" class=\"displacy-label\" startOffset=\"50%\" side=\"left\" fill=\"currentColor\" text-anchor=\"middle\">dobj</textPath>\n",
       "    </text>\n",
       "    <path class=\"displacy-arrowhead\" d=\"M915.0,354.0 L923.0,342.0 907.0,342.0\" fill=\"currentColor\"/>\n",
       "</g>\n",
       "\n",
       "<g class=\"displacy-arrow\">\n",
       "    <path class=\"displacy-arc\" id=\"arrow-d3ae54cd479e41d781c2e83bcede8085-0-4\" stroke-width=\"2px\" d=\"M420,352.0 C420,89.5 1095.0,89.5 1095.0,352.0\" fill=\"none\" stroke=\"currentColor\"/>\n",
       "    <text dy=\"1.25em\" style=\"font-size: 0.8em; letter-spacing: 1px\">\n",
       "        <textPath xlink:href=\"#arrow-d3ae54cd479e41d781c2e83bcede8085-0-4\" class=\"displacy-label\" startOffset=\"50%\" side=\"left\" fill=\"currentColor\" text-anchor=\"middle\">dep</textPath>\n",
       "    </text>\n",
       "    <path class=\"displacy-arrowhead\" d=\"M1095.0,354.0 L1103.0,342.0 1087.0,342.0\" fill=\"currentColor\"/>\n",
       "</g>\n",
       "\n",
       "<g class=\"displacy-arrow\">\n",
       "    <path class=\"displacy-arc\" id=\"arrow-d3ae54cd479e41d781c2e83bcede8085-0-5\" stroke-width=\"2px\" d=\"M420,352.0 C420,2.0 1275.0,2.0 1275.0,352.0\" fill=\"none\" stroke=\"currentColor\"/>\n",
       "    <text dy=\"1.25em\" style=\"font-size: 0.8em; letter-spacing: 1px\">\n",
       "        <textPath xlink:href=\"#arrow-d3ae54cd479e41d781c2e83bcede8085-0-5\" class=\"displacy-label\" startOffset=\"50%\" side=\"left\" fill=\"currentColor\" text-anchor=\"middle\">dep</textPath>\n",
       "    </text>\n",
       "    <path class=\"displacy-arrowhead\" d=\"M1275.0,354.0 L1283.0,342.0 1267.0,342.0\" fill=\"currentColor\"/>\n",
       "</g>\n",
       "</svg></span>"
      ],
      "text/plain": [
       "<IPython.core.display.HTML object>"
      ]
     },
     "metadata": {},
     "output_type": "display_data"
    }
   ],
   "source": [
    "displacy.render(doc[:10], style=\"dep\", jupyter=True)"
   ]
  },
  {
   "cell_type": "code",
   "execution_count": 59,
   "id": "d5182219-ace2-40bb-8f65-e7f99232e265",
   "metadata": {},
   "outputs": [
    {
     "name": "stdout",
     "output_type": "stream",
     "text": [
      " Fog\n",
      "    token.tag_ = 'NN'\n",
      "    token.head.text = 'fog'\n",
      "    token.dep_ = 'advcl'\n",
      "    \n",
      " up\n",
      "    token.tag_ = 'RP'\n",
      "    token.head.text = 'Fog'\n",
      "    token.dep_ = 'prt'\n",
      "    \n",
      " the\n",
      "    token.tag_ = 'DT'\n",
      "    token.head.text = 'river'\n",
      "    token.dep_ = 'det'\n",
      "    \n",
      " river\n",
      "    token.tag_ = 'NN'\n",
      "    token.head.text = 'Fog'\n",
      "    token.dep_ = 'dobj'\n",
      "    \n",
      " ,\n",
      "    token.tag_ = ','\n",
      "    token.head.text = 'river'\n",
      "    token.dep_ = 'punct'\n",
      "    \n",
      " where\n",
      "    token.tag_ = 'WRB'\n",
      "    token.head.text = 'flows'\n",
      "    token.dep_ = 'advmod'\n",
      "    \n",
      " it\n",
      "    token.tag_ = 'PRP'\n",
      "    token.head.text = 'flows'\n",
      "    token.dep_ = 'nsubj'\n",
      "    \n",
      " flows\n",
      "    token.tag_ = 'VBZ'\n",
      "    token.head.text = 'river'\n",
      "    token.dep_ = 'relcl'\n",
      "    \n",
      " among\n",
      "    token.tag_ = 'IN'\n",
      "    token.head.text = 'flows'\n",
      "    token.dep_ = 'prep'\n",
      "    \n",
      " green\n",
      "    token.tag_ = 'NNP'\n",
      "    token.head.text = 'aits'\n",
      "    token.dep_ = 'compound'\n",
      "    \n",
      " aits\n",
      "    token.tag_ = 'NNS'\n",
      "    token.head.text = 'among'\n",
      "    token.dep_ = 'pobj'\n",
      "    \n"
     ]
    }
   ],
   "source": [
    "for token in doc[3:14]:\n",
    "    print(f\"\"\" {token.text}\n",
    "    {token.tag_ = }\n",
    "    {token.head.text = }\n",
    "    {token.dep_ = }\n",
    "    \"\"\")"
   ]
  },
  {
   "cell_type": "code",
   "execution_count": 60,
   "id": "a7687b35-9674-422d-821a-2d688c7168d9",
   "metadata": {},
   "outputs": [
    {
     "data": {
      "text/html": [
       "<span class=\"tex2jax_ignore\"><svg xmlns=\"http://www.w3.org/2000/svg\" xmlns:xlink=\"http://www.w3.org/1999/xlink\" xml:lang=\"en\" id=\"4c7b0f780bd64eedb367f78e4aac23a5-0\" class=\"displacy\" width=\"1800\" height=\"399.5\" direction=\"ltr\" style=\"max-width: none; height: 399.5px; color: #000000; background: #ffffff; font-family: Arial; direction: ltr\">\n",
       "<text class=\"displacy-token\" fill=\"currentColor\" text-anchor=\"middle\" y=\"309.5\">\n",
       "    <tspan class=\"displacy-word\" fill=\"currentColor\" x=\"50\">Fog</tspan>\n",
       "    <tspan class=\"displacy-tag\" dy=\"2em\" fill=\"currentColor\" x=\"50\">NOUN</tspan>\n",
       "</text>\n",
       "\n",
       "<text class=\"displacy-token\" fill=\"currentColor\" text-anchor=\"middle\" y=\"309.5\">\n",
       "    <tspan class=\"displacy-word\" fill=\"currentColor\" x=\"225\">up</tspan>\n",
       "    <tspan class=\"displacy-tag\" dy=\"2em\" fill=\"currentColor\" x=\"225\">ADP</tspan>\n",
       "</text>\n",
       "\n",
       "<text class=\"displacy-token\" fill=\"currentColor\" text-anchor=\"middle\" y=\"309.5\">\n",
       "    <tspan class=\"displacy-word\" fill=\"currentColor\" x=\"400\">the</tspan>\n",
       "    <tspan class=\"displacy-tag\" dy=\"2em\" fill=\"currentColor\" x=\"400\">DET</tspan>\n",
       "</text>\n",
       "\n",
       "<text class=\"displacy-token\" fill=\"currentColor\" text-anchor=\"middle\" y=\"309.5\">\n",
       "    <tspan class=\"displacy-word\" fill=\"currentColor\" x=\"575\">river,</tspan>\n",
       "    <tspan class=\"displacy-tag\" dy=\"2em\" fill=\"currentColor\" x=\"575\">NOUN</tspan>\n",
       "</text>\n",
       "\n",
       "<text class=\"displacy-token\" fill=\"currentColor\" text-anchor=\"middle\" y=\"309.5\">\n",
       "    <tspan class=\"displacy-word\" fill=\"currentColor\" x=\"750\">where</tspan>\n",
       "    <tspan class=\"displacy-tag\" dy=\"2em\" fill=\"currentColor\" x=\"750\">SCONJ</tspan>\n",
       "</text>\n",
       "\n",
       "<text class=\"displacy-token\" fill=\"currentColor\" text-anchor=\"middle\" y=\"309.5\">\n",
       "    <tspan class=\"displacy-word\" fill=\"currentColor\" x=\"925\">it</tspan>\n",
       "    <tspan class=\"displacy-tag\" dy=\"2em\" fill=\"currentColor\" x=\"925\">PRON</tspan>\n",
       "</text>\n",
       "\n",
       "<text class=\"displacy-token\" fill=\"currentColor\" text-anchor=\"middle\" y=\"309.5\">\n",
       "    <tspan class=\"displacy-word\" fill=\"currentColor\" x=\"1100\">flows</tspan>\n",
       "    <tspan class=\"displacy-tag\" dy=\"2em\" fill=\"currentColor\" x=\"1100\">VERB</tspan>\n",
       "</text>\n",
       "\n",
       "<text class=\"displacy-token\" fill=\"currentColor\" text-anchor=\"middle\" y=\"309.5\">\n",
       "    <tspan class=\"displacy-word\" fill=\"currentColor\" x=\"1275\">among</tspan>\n",
       "    <tspan class=\"displacy-tag\" dy=\"2em\" fill=\"currentColor\" x=\"1275\">ADP</tspan>\n",
       "</text>\n",
       "\n",
       "<text class=\"displacy-token\" fill=\"currentColor\" text-anchor=\"middle\" y=\"309.5\">\n",
       "    <tspan class=\"displacy-word\" fill=\"currentColor\" x=\"1450\">green</tspan>\n",
       "    <tspan class=\"displacy-tag\" dy=\"2em\" fill=\"currentColor\" x=\"1450\">PROPN</tspan>\n",
       "</text>\n",
       "\n",
       "<text class=\"displacy-token\" fill=\"currentColor\" text-anchor=\"middle\" y=\"309.5\">\n",
       "    <tspan class=\"displacy-word\" fill=\"currentColor\" x=\"1625\">aits</tspan>\n",
       "    <tspan class=\"displacy-tag\" dy=\"2em\" fill=\"currentColor\" x=\"1625\">NOUN</tspan>\n",
       "</text>\n",
       "\n",
       "<g class=\"displacy-arrow\">\n",
       "    <path class=\"displacy-arc\" id=\"arrow-4c7b0f780bd64eedb367f78e4aac23a5-0-0\" stroke-width=\"2px\" d=\"M70,264.5 C70,177.0 215.0,177.0 215.0,264.5\" fill=\"none\" stroke=\"currentColor\"/>\n",
       "    <text dy=\"1.25em\" style=\"font-size: 0.8em; letter-spacing: 1px\">\n",
       "        <textPath xlink:href=\"#arrow-4c7b0f780bd64eedb367f78e4aac23a5-0-0\" class=\"displacy-label\" startOffset=\"50%\" side=\"left\" fill=\"currentColor\" text-anchor=\"middle\">prt</textPath>\n",
       "    </text>\n",
       "    <path class=\"displacy-arrowhead\" d=\"M215.0,266.5 L223.0,254.5 207.0,254.5\" fill=\"currentColor\"/>\n",
       "</g>\n",
       "\n",
       "<g class=\"displacy-arrow\">\n",
       "    <path class=\"displacy-arc\" id=\"arrow-4c7b0f780bd64eedb367f78e4aac23a5-0-1\" stroke-width=\"2px\" d=\"M420,264.5 C420,177.0 565.0,177.0 565.0,264.5\" fill=\"none\" stroke=\"currentColor\"/>\n",
       "    <text dy=\"1.25em\" style=\"font-size: 0.8em; letter-spacing: 1px\">\n",
       "        <textPath xlink:href=\"#arrow-4c7b0f780bd64eedb367f78e4aac23a5-0-1\" class=\"displacy-label\" startOffset=\"50%\" side=\"left\" fill=\"currentColor\" text-anchor=\"middle\">det</textPath>\n",
       "    </text>\n",
       "    <path class=\"displacy-arrowhead\" d=\"M420,266.5 L412,254.5 428,254.5\" fill=\"currentColor\"/>\n",
       "</g>\n",
       "\n",
       "<g class=\"displacy-arrow\">\n",
       "    <path class=\"displacy-arc\" id=\"arrow-4c7b0f780bd64eedb367f78e4aac23a5-0-2\" stroke-width=\"2px\" d=\"M70,264.5 C70,89.5 570.0,89.5 570.0,264.5\" fill=\"none\" stroke=\"currentColor\"/>\n",
       "    <text dy=\"1.25em\" style=\"font-size: 0.8em; letter-spacing: 1px\">\n",
       "        <textPath xlink:href=\"#arrow-4c7b0f780bd64eedb367f78e4aac23a5-0-2\" class=\"displacy-label\" startOffset=\"50%\" side=\"left\" fill=\"currentColor\" text-anchor=\"middle\">dobj</textPath>\n",
       "    </text>\n",
       "    <path class=\"displacy-arrowhead\" d=\"M570.0,266.5 L578.0,254.5 562.0,254.5\" fill=\"currentColor\"/>\n",
       "</g>\n",
       "\n",
       "<g class=\"displacy-arrow\">\n",
       "    <path class=\"displacy-arc\" id=\"arrow-4c7b0f780bd64eedb367f78e4aac23a5-0-3\" stroke-width=\"2px\" d=\"M770,264.5 C770,89.5 1095.0,89.5 1095.0,264.5\" fill=\"none\" stroke=\"currentColor\"/>\n",
       "    <text dy=\"1.25em\" style=\"font-size: 0.8em; letter-spacing: 1px\">\n",
       "        <textPath xlink:href=\"#arrow-4c7b0f780bd64eedb367f78e4aac23a5-0-3\" class=\"displacy-label\" startOffset=\"50%\" side=\"left\" fill=\"currentColor\" text-anchor=\"middle\">advmod</textPath>\n",
       "    </text>\n",
       "    <path class=\"displacy-arrowhead\" d=\"M770,266.5 L762,254.5 778,254.5\" fill=\"currentColor\"/>\n",
       "</g>\n",
       "\n",
       "<g class=\"displacy-arrow\">\n",
       "    <path class=\"displacy-arc\" id=\"arrow-4c7b0f780bd64eedb367f78e4aac23a5-0-4\" stroke-width=\"2px\" d=\"M945,264.5 C945,177.0 1090.0,177.0 1090.0,264.5\" fill=\"none\" stroke=\"currentColor\"/>\n",
       "    <text dy=\"1.25em\" style=\"font-size: 0.8em; letter-spacing: 1px\">\n",
       "        <textPath xlink:href=\"#arrow-4c7b0f780bd64eedb367f78e4aac23a5-0-4\" class=\"displacy-label\" startOffset=\"50%\" side=\"left\" fill=\"currentColor\" text-anchor=\"middle\">nsubj</textPath>\n",
       "    </text>\n",
       "    <path class=\"displacy-arrowhead\" d=\"M945,266.5 L937,254.5 953,254.5\" fill=\"currentColor\"/>\n",
       "</g>\n",
       "\n",
       "<g class=\"displacy-arrow\">\n",
       "    <path class=\"displacy-arc\" id=\"arrow-4c7b0f780bd64eedb367f78e4aac23a5-0-5\" stroke-width=\"2px\" d=\"M595,264.5 C595,2.0 1100.0,2.0 1100.0,264.5\" fill=\"none\" stroke=\"currentColor\"/>\n",
       "    <text dy=\"1.25em\" style=\"font-size: 0.8em; letter-spacing: 1px\">\n",
       "        <textPath xlink:href=\"#arrow-4c7b0f780bd64eedb367f78e4aac23a5-0-5\" class=\"displacy-label\" startOffset=\"50%\" side=\"left\" fill=\"currentColor\" text-anchor=\"middle\">relcl</textPath>\n",
       "    </text>\n",
       "    <path class=\"displacy-arrowhead\" d=\"M1100.0,266.5 L1108.0,254.5 1092.0,254.5\" fill=\"currentColor\"/>\n",
       "</g>\n",
       "\n",
       "<g class=\"displacy-arrow\">\n",
       "    <path class=\"displacy-arc\" id=\"arrow-4c7b0f780bd64eedb367f78e4aac23a5-0-6\" stroke-width=\"2px\" d=\"M1120,264.5 C1120,177.0 1265.0,177.0 1265.0,264.5\" fill=\"none\" stroke=\"currentColor\"/>\n",
       "    <text dy=\"1.25em\" style=\"font-size: 0.8em; letter-spacing: 1px\">\n",
       "        <textPath xlink:href=\"#arrow-4c7b0f780bd64eedb367f78e4aac23a5-0-6\" class=\"displacy-label\" startOffset=\"50%\" side=\"left\" fill=\"currentColor\" text-anchor=\"middle\">prep</textPath>\n",
       "    </text>\n",
       "    <path class=\"displacy-arrowhead\" d=\"M1265.0,266.5 L1273.0,254.5 1257.0,254.5\" fill=\"currentColor\"/>\n",
       "</g>\n",
       "\n",
       "<g class=\"displacy-arrow\">\n",
       "    <path class=\"displacy-arc\" id=\"arrow-4c7b0f780bd64eedb367f78e4aac23a5-0-7\" stroke-width=\"2px\" d=\"M1470,264.5 C1470,177.0 1615.0,177.0 1615.0,264.5\" fill=\"none\" stroke=\"currentColor\"/>\n",
       "    <text dy=\"1.25em\" style=\"font-size: 0.8em; letter-spacing: 1px\">\n",
       "        <textPath xlink:href=\"#arrow-4c7b0f780bd64eedb367f78e4aac23a5-0-7\" class=\"displacy-label\" startOffset=\"50%\" side=\"left\" fill=\"currentColor\" text-anchor=\"middle\">compound</textPath>\n",
       "    </text>\n",
       "    <path class=\"displacy-arrowhead\" d=\"M1470,266.5 L1462,254.5 1478,254.5\" fill=\"currentColor\"/>\n",
       "</g>\n",
       "\n",
       "<g class=\"displacy-arrow\">\n",
       "    <path class=\"displacy-arc\" id=\"arrow-4c7b0f780bd64eedb367f78e4aac23a5-0-8\" stroke-width=\"2px\" d=\"M1295,264.5 C1295,89.5 1620.0,89.5 1620.0,264.5\" fill=\"none\" stroke=\"currentColor\"/>\n",
       "    <text dy=\"1.25em\" style=\"font-size: 0.8em; letter-spacing: 1px\">\n",
       "        <textPath xlink:href=\"#arrow-4c7b0f780bd64eedb367f78e4aac23a5-0-8\" class=\"displacy-label\" startOffset=\"50%\" side=\"left\" fill=\"currentColor\" text-anchor=\"middle\">pobj</textPath>\n",
       "    </text>\n",
       "    <path class=\"displacy-arrowhead\" d=\"M1620.0,266.5 L1628.0,254.5 1612.0,254.5\" fill=\"currentColor\"/>\n",
       "</g>\n",
       "</svg></span>"
      ],
      "text/plain": [
       "<IPython.core.display.HTML object>"
      ]
     },
     "metadata": {},
     "output_type": "display_data"
    }
   ],
   "source": [
    "displacy.render(doc[3:14], style=\"dep\", jupyter=True)"
   ]
  },
  {
   "cell_type": "markdown",
   "id": "637637cb-f87f-47c5-83ee-fee8902b4dd6",
   "metadata": {},
   "source": [
    "#### Noun Detection"
   ]
  },
  {
   "cell_type": "code",
   "execution_count": 61,
   "id": "9c10b776-c139-4233-b41d-750884530979",
   "metadata": {},
   "outputs": [
    {
     "name": "stdout",
     "output_type": "stream",
     "text": [
      "Fog\n",
      "the river\n",
      "it\n"
     ]
    }
   ],
   "source": [
    "for chunk in doc[:10].noun_chunks:\n",
    "    print(chunk)"
   ]
  },
  {
   "cell_type": "markdown",
   "id": "16e8827e-6457-432c-92d4-261ac165a6df",
   "metadata": {},
   "source": [
    "#### Named Entity Recognition"
   ]
  },
  {
   "cell_type": "code",
   "execution_count": 62,
   "id": "6fad1b39-fb79-4671-a5d4-43d7c124395b",
   "metadata": {},
   "outputs": [
    {
     "name": "stdout",
     "output_type": "stream",
     "text": [
      " ent.text ='Essex'\n",
      "    ent.label_='GPE'\n",
      "    ent.start=47\n",
      "    ent.end=48\n",
      "    GPE=Countries, cities, states\n",
      "    \n",
      " ent.text ='Kentish'\n",
      "    ent.label_='GPE'\n",
      "    ent.start=53\n",
      "    ent.end=54\n",
      "    GPE=Countries, cities, states\n",
      "    \n",
      " ent.text ='collier-brigs'\n",
      "    ent.label_='ORG'\n",
      "    ent.start=62\n",
      "    ent.end=65\n",
      "    ORG=Companies, agencies, institutions, etc.\n",
      "    \n",
      " ent.text ='Greenwich'\n",
      "    ent.label_='GPE'\n",
      "    ent.start=100\n",
      "    ent.end=101\n",
      "    GPE=Countries, cities, states\n",
      "    \n",
      " ent.text ='afternoon'\n",
      "    ent.label_='TIME'\n",
      "    ent.start=119\n",
      "    ent.end=120\n",
      "    TIME=Times smaller than a day\n",
      "    \n"
     ]
    }
   ],
   "source": [
    "for ent in doc.ents:\n",
    "    print(f\"\"\" {ent.text =}\n",
    "    {ent.label_=}\n",
    "    {ent.start=}\n",
    "    {ent.end=}\n",
    "    {ent.label_}={spacy.explain(ent.label_)}\n",
    "    \"\"\")"
   ]
  },
  {
   "cell_type": "code",
   "execution_count": 63,
   "id": "1595729b-3494-4780-a69b-9573565ae320",
   "metadata": {},
   "outputs": [
    {
     "data": {
      "text/html": [
       "<span class=\"tex2jax_ignore\"><div class=\"entities\" style=\"line-height: 2.5; direction: ltr\">Fog everywhere. Fog up the river, where it flows among green aits and meadows; fog down the river, where it rolls deified among the tiers of shipping and the waterside pollutions of a great (and dirty) city. Fog on the \n",
       "<mark class=\"entity\" style=\"background: #feca74; padding: 0.45em 0.6em; margin: 0 0.25em; line-height: 1; border-radius: 0.35em;\">\n",
       "    Essex\n",
       "    <span style=\"font-size: 0.8em; font-weight: bold; line-height: 1; border-radius: 0.35em; vertical-align: middle; margin-left: 0.5rem\">GPE</span>\n",
       "</mark>\n",
       " marshes, fog on the \n",
       "<mark class=\"entity\" style=\"background: #feca74; padding: 0.45em 0.6em; margin: 0 0.25em; line-height: 1; border-radius: 0.35em;\">\n",
       "    Kentish\n",
       "    <span style=\"font-size: 0.8em; font-weight: bold; line-height: 1; border-radius: 0.35em; vertical-align: middle; margin-left: 0.5rem\">GPE</span>\n",
       "</mark>\n",
       " heights. Fog creeping into the cabooses of \n",
       "<mark class=\"entity\" style=\"background: #7aecec; padding: 0.45em 0.6em; margin: 0 0.25em; line-height: 1; border-radius: 0.35em;\">\n",
       "    collier-brigs\n",
       "    <span style=\"font-size: 0.8em; font-weight: bold; line-height: 1; border-radius: 0.35em; vertical-align: middle; margin-left: 0.5rem\">ORG</span>\n",
       "</mark>\n",
       "; fog lying out on the yards and hovering in the rigging of great ships; fog drooping on the gunwales of barges and small boats. Fog in the eyes and throats of ancient \n",
       "<mark class=\"entity\" style=\"background: #feca74; padding: 0.45em 0.6em; margin: 0 0.25em; line-height: 1; border-radius: 0.35em;\">\n",
       "    Greenwich\n",
       "    <span style=\"font-size: 0.8em; font-weight: bold; line-height: 1; border-radius: 0.35em; vertical-align: middle; margin-left: 0.5rem\">GPE</span>\n",
       "</mark>\n",
       " pensioners, wheezing by the firesides of their wards; fog in the stem and bowl of the \n",
       "<mark class=\"entity\" style=\"background: #bfe1d9; padding: 0.45em 0.6em; margin: 0 0.25em; line-height: 1; border-radius: 0.35em;\">\n",
       "    afternoon\n",
       "    <span style=\"font-size: 0.8em; font-weight: bold; line-height: 1; border-radius: 0.35em; vertical-align: middle; margin-left: 0.5rem\">TIME</span>\n",
       "</mark>\n",
       " pipe of the wrathful skipper, down in his close cabin; fog cruelly pinching the toes and fingers of his shivering little apprentice boy on deck. Chance people on the bridges peeping over the parapets into a nether sky of fog, with fog all round them, as if they were up in a balloon and hanging in the misty clouds.</div></span>"
      ],
      "text/plain": [
       "<IPython.core.display.HTML object>"
      ]
     },
     "metadata": {},
     "output_type": "display_data"
    }
   ],
   "source": [
    "displacy.render(doc, style=\"ent\", jupyter=True)"
   ]
  },
  {
   "cell_type": "markdown",
   "id": "6da61334-7327-433e-b1e4-d2e8a857aa5f",
   "metadata": {},
   "source": [
    "#### Text Summarization"
   ]
  },
  {
   "cell_type": "code",
   "execution_count": 64,
   "id": "a83da3db-e82f-44ff-a1df-af7fa9c59196",
   "metadata": {},
   "outputs": [
    {
     "name": "stdout",
     "output_type": "stream",
     "text": [
      "Fog creeping into the cabooses of collier-brigs; fog lying out on the yards and hovering in the rigging of great ships; fog drooping on the gunwales of barges and small boats.\n",
      "Summary Length: 36\n",
      "Fog in the eyes and throats of ancient Greenwich pensioners, wheezing by the firesides of their wards; fog in the stem and bowl of the afternoon pipe of the wrathful skipper, down in his close cabin; fog cruelly pinching the toes and fingers of his shivering little apprentice boy on deck.\n",
      "Summary Length: 56\n"
     ]
    }
   ],
   "source": [
    "for sent in doc._.textrank.summary(limit_phrases=2, limit_sentences=2):\n",
    "    print(sent)\n",
    "    print('Summary Length:',len(sent))"
   ]
  },
  {
   "cell_type": "code",
   "execution_count": null,
   "id": "b12c9b2e-5623-4dd7-af4d-a7da4e690b8f",
   "metadata": {},
   "outputs": [],
   "source": []
  }
 ],
 "metadata": {
  "kernelspec": {
   "display_name": "Python 3 (ipykernel)",
   "language": "python",
   "name": "python3"
  },
  "language_info": {
   "codemirror_mode": {
    "name": "ipython",
    "version": 3
   },
   "file_extension": ".py",
   "mimetype": "text/x-python",
   "name": "python",
   "nbconvert_exporter": "python",
   "pygments_lexer": "ipython3",
   "version": "3.12.6"
  }
 },
 "nbformat": 4,
 "nbformat_minor": 5
}
