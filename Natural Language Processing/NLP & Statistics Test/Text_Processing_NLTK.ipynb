{
 "cells": [
  {
   "cell_type": "markdown",
   "id": "c5d48a4a-ecfd-4cb8-9c5b-a197050fcf51",
   "metadata": {},
   "source": [
    "<h1 style=\"text-align:center\"> Text Processing"
   ]
  },
  {
   "cell_type": "code",
   "execution_count": 1,
   "id": "17dc2700-9416-4c63-8874-a15c522bbf26",
   "metadata": {},
   "outputs": [],
   "source": [
    "import nltk\n",
    "from nltk.tokenize import sent_tokenize, word_tokenize"
   ]
  },
  {
   "cell_type": "code",
   "execution_count": 2,
   "id": "5dab10ed-9a36-4f05-b305-7505303c67a1",
   "metadata": {},
   "outputs": [],
   "source": [
    "with open(\"Text.txt\", \"r\") as file:\n",
    "    data = file.read().replace(\"\\n\",\" \")"
   ]
  },
  {
   "cell_type": "code",
   "execution_count": 3,
   "id": "55f4dcd0-1dec-4922-9a06-939c049f9103",
   "metadata": {},
   "outputs": [
    {
     "data": {
      "text/plain": [
       "'And Eurypylus, son of Euaemon, killed Hypsenor, the son of noble Dolopion, who had been made priest '"
      ]
     },
     "execution_count": 3,
     "metadata": {},
     "output_type": "execute_result"
    }
   ],
   "source": [
    "data[:100]"
   ]
  },
  {
   "cell_type": "markdown",
   "id": "41922927-56a2-4628-a9f7-51ee3575244b",
   "metadata": {},
   "source": [
    "## Convert text to lowercase"
   ]
  },
  {
   "cell_type": "code",
   "execution_count": 4,
   "id": "87d0cfac-d375-47c5-9599-d1781fd5b116",
   "metadata": {},
   "outputs": [
    {
     "data": {
      "text/plain": [
       "'and eurypylus, son o'"
      ]
     },
     "execution_count": 4,
     "metadata": {},
     "output_type": "execute_result"
    }
   ],
   "source": [
    "data = data.lower()\n",
    "data[:20]"
   ]
  },
  {
   "cell_type": "markdown",
   "id": "3df2e417-1b79-4e10-8171-49b06c75f71b",
   "metadata": {},
   "source": [
    "## Remove punctuation"
   ]
  },
  {
   "cell_type": "code",
   "execution_count": 5,
   "id": "19cf64d7-b859-40b7-85d1-256cc7c4cbad",
   "metadata": {},
   "outputs": [],
   "source": [
    "import string"
   ]
  },
  {
   "cell_type": "code",
   "execution_count": 6,
   "id": "8765e010-b46c-4465-858c-eef4a4dabdc9",
   "metadata": {},
   "outputs": [],
   "source": [
    "def remove_punctuation(text):\n",
    "    puncs = set(string.punctuation)\n",
    "    s = \"\".join([ch for ch in text if not ch in puncs ])\n",
    "    return s"
   ]
  },
  {
   "cell_type": "code",
   "execution_count": 7,
   "id": "32962ad2-f50d-4a49-9d7f-504be0def254",
   "metadata": {},
   "outputs": [],
   "source": [
    "clean_data = remove_punctuation(data)"
   ]
  },
  {
   "cell_type": "code",
   "execution_count": 8,
   "id": "0bacff9b-b416-4fba-8d23-19895d039729",
   "metadata": {},
   "outputs": [
    {
     "data": {
      "text/plain": [
       "'and eurypylus son of euaemon killed hypsenor the son of noble dolopion who had been made priest of t'"
      ]
     },
     "execution_count": 8,
     "metadata": {},
     "output_type": "execute_result"
    }
   ],
   "source": [
    "clean_data[:100]"
   ]
  },
  {
   "cell_type": "markdown",
   "id": "177f56e2-5628-4a2a-b87e-7429b2b86d78",
   "metadata": {},
   "source": [
    "## Remove whitespaces"
   ]
  },
  {
   "cell_type": "code",
   "execution_count": 9,
   "id": "8d13d7bf-7f4b-453f-a25d-4f04d0ea6572",
   "metadata": {},
   "outputs": [],
   "source": [
    "clean_data = clean_data.strip()"
   ]
  },
  {
   "cell_type": "code",
   "execution_count": 10,
   "id": "7e7639bd-47b2-478d-b479-c58096823f20",
   "metadata": {},
   "outputs": [
    {
     "data": {
      "text/plain": [
       "'and eurypylus son of euaemon killed hypsenor the son of noble dolopion who had been made priest of t'"
      ]
     },
     "execution_count": 10,
     "metadata": {},
     "output_type": "execute_result"
    }
   ],
   "source": [
    "clean_data[:100]"
   ]
  },
  {
   "cell_type": "markdown",
   "id": "6988ce3f-cf6a-45f5-8542-d7ac805ec2b5",
   "metadata": {},
   "source": [
    "## Tokenization"
   ]
  },
  {
   "cell_type": "markdown",
   "id": "f6c7a74a-40e9-4943-87a6-dbbfa6cf692a",
   "metadata": {},
   "source": [
    "#### Sentence tokenization"
   ]
  },
  {
   "cell_type": "code",
   "execution_count": 14,
   "id": "011b332f-1ef8-457d-add2-e76f46953f5b",
   "metadata": {},
   "outputs": [
    {
     "name": "stdout",
     "output_type": "stream",
     "text": [
      "and eurypylus, son of euaemon, killed hypsenor, the son of noble dolopion, who had been made priest of the river scamander, and was honoured among the people as though he were a god.\n",
      "eurypylus gave him chase as he was flying before him, smote him with his sword upon the arm, and lopped his strong hand from off it.\n"
     ]
    }
   ],
   "source": [
    "sentences = sent_tokenize(data)\n",
    "for sentence in sentences[:2]:\n",
    "    print(sentence)"
   ]
  },
  {
   "cell_type": "markdown",
   "id": "78e80674-6272-4dc4-b592-d40abd45f0f7",
   "metadata": {},
   "source": [
    "#### Word tokenization"
   ]
  },
  {
   "cell_type": "code",
   "execution_count": 15,
   "id": "4bbee8a2-e7a9-444b-85fe-220034efafbb",
   "metadata": {},
   "outputs": [
    {
     "name": "stdout",
     "output_type": "stream",
     "text": [
      "and\n",
      "eurypylus\n",
      "son\n",
      "of\n",
      "euaemon\n",
      "killed\n",
      "hypsenor\n",
      "the\n",
      "son\n",
      "of\n"
     ]
    }
   ],
   "source": [
    "words = word_tokenize(clean_data)\n",
    "for word in words[:10]:\n",
    "    print(word)"
   ]
  },
  {
   "cell_type": "markdown",
   "id": "f37535c9-24e7-414d-b5e9-01b17ae1733a",
   "metadata": {},
   "source": [
    "## Remove stopwords "
   ]
  },
  {
   "cell_type": "code",
   "execution_count": 16,
   "id": "9af739dd-d125-4a99-b470-e16ccdbf72cc",
   "metadata": {},
   "outputs": [],
   "source": [
    "from nltk.corpus import stopwords"
   ]
  },
  {
   "cell_type": "code",
   "execution_count": 17,
   "id": "a3eaf497-f43e-4340-b5ca-8d189ee9267f",
   "metadata": {},
   "outputs": [],
   "source": [
    "stop_words = set(stopwords.words(\"english\"))"
   ]
  },
  {
   "cell_type": "code",
   "execution_count": 18,
   "id": "454264a0-f78d-465e-a296-4c0bda1ed349",
   "metadata": {},
   "outputs": [],
   "source": [
    "def remove_stopwords(text):\n",
    "    output_text = [ele for ele in words if not ele in stop_words ]\n",
    "    return output_text"
   ]
  },
  {
   "cell_type": "code",
   "execution_count": 19,
   "id": "0e756e30-db70-420a-b22d-bda9cf55aa02",
   "metadata": {},
   "outputs": [
    {
     "data": {
      "text/plain": [
       "['eurypylus',\n",
       " 'son',\n",
       " 'euaemon',\n",
       " 'killed',\n",
       " 'hypsenor',\n",
       " 'son',\n",
       " 'noble',\n",
       " 'dolopion',\n",
       " 'made',\n",
       " 'priest']"
      ]
     },
     "execution_count": 19,
     "metadata": {},
     "output_type": "execute_result"
    }
   ],
   "source": [
    "clean_data_sw = remove_stopwords(words)\n",
    "clean_data_sw[:10]"
   ]
  },
  {
   "cell_type": "markdown",
   "id": "5bff8c8b-6436-41a1-aa19-9eb8fbafd1c2",
   "metadata": {},
   "source": [
    "## Stemming"
   ]
  },
  {
   "cell_type": "code",
   "execution_count": 20,
   "id": "e384ba85-4230-4c58-8671-38376d8ad5b4",
   "metadata": {},
   "outputs": [],
   "source": [
    "from nltk import PorterStemmer"
   ]
  },
  {
   "cell_type": "code",
   "execution_count": 21,
   "id": "5aff7d1e-d816-4399-9176-2c6276521367",
   "metadata": {},
   "outputs": [],
   "source": [
    "def stemming(text):\n",
    "    stemmer = PorterStemmer()\n",
    "    output = [ stemmer.stem(ele) for ele in text]\n",
    "    return output"
   ]
  },
  {
   "cell_type": "code",
   "execution_count": 22,
   "id": "d60a650d-75ca-4af5-8601-691d840dde8a",
   "metadata": {},
   "outputs": [
    {
     "data": {
      "text/plain": [
       "['eurypylu',\n",
       " 'son',\n",
       " 'euaemon',\n",
       " 'kill',\n",
       " 'hypsenor',\n",
       " 'son',\n",
       " 'nobl',\n",
       " 'dolopion',\n",
       " 'made',\n",
       " 'priest']"
      ]
     },
     "execution_count": 22,
     "metadata": {},
     "output_type": "execute_result"
    }
   ],
   "source": [
    "stem_text = stemming(clean_data_sw)\n",
    "stem_text[:10]"
   ]
  },
  {
   "cell_type": "markdown",
   "id": "7fa533a2-5158-47a6-885f-796a99ed356f",
   "metadata": {},
   "source": [
    "## Lemmatization"
   ]
  },
  {
   "cell_type": "code",
   "execution_count": 23,
   "id": "8d1eadb4-ae2f-4488-8a7b-9f775f257443",
   "metadata": {},
   "outputs": [],
   "source": [
    "from nltk.stem import WordNetLemmatizer"
   ]
  },
  {
   "cell_type": "code",
   "execution_count": 24,
   "id": "f646c00d-21a6-4ad9-9f8a-ca13dc34c885",
   "metadata": {},
   "outputs": [],
   "source": [
    "def lemmatization(text):\n",
    "    lemmatizer = WordNetLemmatizer()\n",
    "    output = [ lemmatizer.lemmatize(ele) for ele in text]\n",
    "    return output"
   ]
  },
  {
   "cell_type": "code",
   "execution_count": 25,
   "id": "24ba767f-ce09-48a9-9134-7c61c9bc9bfc",
   "metadata": {},
   "outputs": [
    {
     "data": {
      "text/plain": [
       "['eurypylus',\n",
       " 'son',\n",
       " 'euaemon',\n",
       " 'killed',\n",
       " 'hypsenor',\n",
       " 'son',\n",
       " 'noble',\n",
       " 'dolopion',\n",
       " 'made',\n",
       " 'priest']"
      ]
     },
     "execution_count": 25,
     "metadata": {},
     "output_type": "execute_result"
    }
   ],
   "source": [
    "lem_text = lemmatization(clean_data_sw)\n",
    "lem_text[:10]"
   ]
  },
  {
   "cell_type": "markdown",
   "id": "38302322-5ef5-4732-aa10-87d2c4039871",
   "metadata": {},
   "source": [
    "## Part of speech tagging"
   ]
  },
  {
   "cell_type": "code",
   "execution_count": 26,
   "id": "34eb66e2-4a6f-49a6-84e8-3f30b076a18f",
   "metadata": {},
   "outputs": [
    {
     "data": {
      "text/plain": [
       "[('eurypylus', 'JJ'),\n",
       " ('son', 'NN'),\n",
       " ('euaemon', 'NN'),\n",
       " ('killed', 'VBD'),\n",
       " ('hypsenor', 'JJ'),\n",
       " ('son', 'NN'),\n",
       " ('noble', 'JJ'),\n",
       " ('dolopion', 'NN'),\n",
       " ('made', 'VBD'),\n",
       " ('priest', 'JJS')]"
      ]
     },
     "execution_count": 26,
     "metadata": {},
     "output_type": "execute_result"
    }
   ],
   "source": [
    "pos = nltk.pos_tag(clean_data_sw)\n",
    "pos[:10]"
   ]
  }
 ],
 "metadata": {
  "kernelspec": {
   "display_name": "Python 3 (ipykernel)",
   "language": "python",
   "name": "python3"
  },
  "language_info": {
   "codemirror_mode": {
    "name": "ipython",
    "version": 3
   },
   "file_extension": ".py",
   "mimetype": "text/x-python",
   "name": "python",
   "nbconvert_exporter": "python",
   "pygments_lexer": "ipython3",
   "version": "3.12.6"
  }
 },
 "nbformat": 4,
 "nbformat_minor": 5
}
