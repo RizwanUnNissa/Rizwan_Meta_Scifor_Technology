{
 "cells": [
  {
   "cell_type": "markdown",
   "id": "75b0dcef-cec3-43bf-9551-1259f45d4f73",
   "metadata": {},
   "source": [
    "Testing if it works\n"
   ]
  },
  {
   "cell_type": "code",
   "execution_count": null,
   "id": "4040c0ec-52df-4941-92eb-fea348ee944f",
   "metadata": {},
   "outputs": [],
   "source": []
  }
 ],
 "metadata": {
  "kernelspec": {
   "display_name": "Python 3 (ipykernel)",
   "language": "python",
   "name": "python3"
  },
  "language_info": {
   "codemirror_mode": {
    "name": "ipython",
    "version": 3
   },
   "file_extension": ".py",
   "mimetype": "text/x-python",
   "name": "python",
   "nbconvert_exporter": "python",
   "pygments_lexer": "ipython3",
   "version": "3.12.6"
  }
 },
 "nbformat": 4,
 "nbformat_minor": 5
}
