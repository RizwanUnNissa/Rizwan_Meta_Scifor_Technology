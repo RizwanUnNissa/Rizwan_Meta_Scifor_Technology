{
 "cells": [
  {
   "cell_type": "markdown",
   "id": "303dae46-9b0e-44ea-8e01-164ca0ee7678",
   "metadata": {},
   "source": [
    "1. What are decorators in python? Provide a code of same \n",
    "2. What do you understand by method overriding and method overloading? Give the complete implementation \n",
    "3. Code for hybrid inheritance\n",
    "4. Explain about the time complexity and space complexity of stacks, queues, Linekdin list \n",
    "5. Explain any 3 widgets in Streamlit \n",
    "6. Explain session in Streamlit \n",
    "7. How will you run any file in Streamlit \n",
    "8. Plot graph such as bar chart, pie chart"
   ]
  },
  {
   "cell_type": "markdown",
   "id": "103a67fc-26a1-476b-817d-cd57512f3e7d",
   "metadata": {},
   "source": [
    "#### 1. What are decorators in python? Provide a code of same"
   ]
  },
  {
   "cell_type": "markdown",
   "id": "d7116eb3-abc5-4da5-9e63-68ce0939044e",
   "metadata": {},
   "source": [
    "Decorators are special functions that wrap other functions within them in order to enhance their functionality. This allows the user to alter the behavior of the function without changing its structure."
   ]
  },
  {
   "cell_type": "code",
   "execution_count": 1,
   "id": "51803720-f987-4bfc-93b3-deda4cc4bbb7",
   "metadata": {},
   "outputs": [],
   "source": [
    "#Decorator function\n",
    "def IntegerOutput(func):\n",
    "    def wrapper(a,b):\n",
    "        if b!=0:\n",
    "            result = int(func(a,b))\n",
    "            return result\n",
    "        else:\n",
    "            return \"Not Divisible\"\n",
    "    return wrapper"
   ]
  },
  {
   "cell_type": "code",
   "execution_count": 2,
   "id": "be1c67e5-6179-4be5-bc2b-ab7bd8f5a71e",
   "metadata": {},
   "outputs": [],
   "source": [
    "#Main Function\n",
    "@IntegerOutput\n",
    "def divide(a,b):\n",
    "    return a/b"
   ]
  },
  {
   "cell_type": "code",
   "execution_count": 3,
   "id": "d5f13c70-aace-45d9-b5c2-eba93ea91baa",
   "metadata": {},
   "outputs": [
    {
     "data": {
      "text/plain": [
       "7"
      ]
     },
     "execution_count": 3,
     "metadata": {},
     "output_type": "execute_result"
    }
   ],
   "source": [
    "divide(49,7)"
   ]
  },
  {
   "cell_type": "code",
   "execution_count": 4,
   "id": "27f4d3d8-e07e-4736-b785-921539f2380c",
   "metadata": {},
   "outputs": [
    {
     "data": {
      "text/plain": [
       "'Not Divisible'"
      ]
     },
     "execution_count": 4,
     "metadata": {},
     "output_type": "execute_result"
    }
   ],
   "source": [
    "divide(4,0)"
   ]
  },
  {
   "cell_type": "markdown",
   "id": "599e9e10-8770-47f1-a673-4f7de44480a8",
   "metadata": {},
   "source": [
    "#### 2. What do you understand by method overriding and method overloading? Give the complete implementation"
   ]
  },
  {
   "cell_type": "markdown",
   "id": "d6c6c003-c15d-4023-a838-3598a6d2a5c9",
   "metadata": {},
   "source": [
    "<b>Method Overriding:</b> It is a run-time polymorphism. When a method that belongs to a parent class is altered to provide different functionlity in a child class, it is known as method overriding."
   ]
  },
  {
   "cell_type": "code",
   "execution_count": 5,
   "id": "44ce7e19-b2f7-412f-bf90-a68f69cc0035",
   "metadata": {},
   "outputs": [],
   "source": [
    "class Animal:\n",
    "    def __init__(self,name):\n",
    "        self.name = name\n",
    "    def sound(self):\n",
    "        print(f\"{self.name} makes a sound\")\n",
    "class Dog(Animal):\n",
    "    def sound(self):\n",
    "        print(f\"{self.name} goes Woof!\")\n",
    "        "
   ]
  },
  {
   "cell_type": "code",
   "execution_count": 6,
   "id": "73ee0b1d-79ed-48eb-bf6e-266e8528ca32",
   "metadata": {},
   "outputs": [
    {
     "name": "stdout",
     "output_type": "stream",
     "text": [
      "Tommy goes Woof!\n"
     ]
    }
   ],
   "source": [
    "dog = Dog(\"Tommy\")\n",
    "dog.sound()"
   ]
  },
  {
   "cell_type": "markdown",
   "id": "8e9d1330-dec9-437c-907a-849f37353d09",
   "metadata": {},
   "source": [
    "<b>Method Overloading:</b> It is a compile-time polymorphism. When a method changes behavior based on the numberof arguments it is given or the type of argument, it is known as method overloading"
   ]
  },
  {
   "cell_type": "code",
   "execution_count": 7,
   "id": "8012e0c7-f998-4d9e-8e43-fe28af09d3d6",
   "metadata": {},
   "outputs": [],
   "source": [
    "class Operation:\n",
    "    def add(self,a=None,b=None,c=None):\n",
    "        if a is not None and b is not None and c is not None:\n",
    "            return a+b+c\n",
    "        elif a is not None and b is not None:\n",
    "            return a+b\n",
    "        elif a is not None:\n",
    "            return a\n",
    "        else:\n",
    "            return \"No arguments given!\"\n",
    "    "
   ]
  },
  {
   "cell_type": "code",
   "execution_count": 8,
   "id": "65174436-d3e8-4225-b8ea-fe3b28bd3fca",
   "metadata": {},
   "outputs": [],
   "source": [
    "obj = Operation()"
   ]
  },
  {
   "cell_type": "code",
   "execution_count": 9,
   "id": "63290b7a-c29b-4d58-8edc-e5af0fbf9b57",
   "metadata": {},
   "outputs": [
    {
     "data": {
      "text/plain": [
       "'No arguments given!'"
      ]
     },
     "execution_count": 9,
     "metadata": {},
     "output_type": "execute_result"
    }
   ],
   "source": [
    "obj.add()"
   ]
  },
  {
   "cell_type": "code",
   "execution_count": 10,
   "id": "00d8bdd3-ad34-48ab-bd11-416e7bfdebc9",
   "metadata": {},
   "outputs": [
    {
     "data": {
      "text/plain": [
       "5"
      ]
     },
     "execution_count": 10,
     "metadata": {},
     "output_type": "execute_result"
    }
   ],
   "source": [
    "obj.add(2,3)"
   ]
  },
  {
   "cell_type": "code",
   "execution_count": 11,
   "id": "a53580c7-c23c-4799-8d81-2b05a077ee49",
   "metadata": {},
   "outputs": [
    {
     "data": {
      "text/plain": [
       "9"
      ]
     },
     "execution_count": 11,
     "metadata": {},
     "output_type": "execute_result"
    }
   ],
   "source": [
    "obj.add(2,3,4)"
   ]
  },
  {
   "cell_type": "markdown",
   "id": "739f35e9-eff1-4d62-885c-67bdc34d0c9c",
   "metadata": {},
   "source": [
    "#### 3. Code for hybrid inheritance"
   ]
  },
  {
   "cell_type": "code",
   "execution_count": 12,
   "id": "14b22ebd-edd4-440d-93d0-8d793a5bef77",
   "metadata": {},
   "outputs": [],
   "source": [
    "class Fruit:\n",
    "    def __init__(self,name):\n",
    "        self.name = name\n",
    "\n",
    "    def taste(self):\n",
    "        print(f\"{self.name} has some taste\")\n",
    "        \n",
    "class CitrusFruit(Fruit): #Single Inheritance\n",
    "\n",
    "    def taste(self):\n",
    "        print(f\"{self.name} is tangy!\")\n",
    "        \n",
    "class Orange(CitrusFruit): # Multilevel inheritance\n",
    "    def taste(self):\n",
    "        print(f\"{self.name} is sweet!\")\n",
    "\n",
    "class Vegetables:\n",
    "    def __init__(self,name):\n",
    "        self.name = name\n",
    "    def cook(self):\n",
    "         print(f'{self.name} can be be cooked!')\n",
    "        \n",
    "\n",
    "class FruitVegetable(CitrusFruit,Vegetables): # Multiple level Inheritance (inherits from parent class and child class of another parent class )\n",
    "    pass\n",
    "\n",
    "class hybrid(Orange, FruitVegetable): #Hybrid inheritance (inherits from multilevel class and a multiple level class)\n",
    "    pass\n",
    "    \n",
    "    \n"
   ]
  },
  {
   "cell_type": "code",
   "execution_count": 13,
   "id": "692df2ae-15e0-4c35-8dee-257d48365caf",
   "metadata": {},
   "outputs": [
    {
     "name": "stdout",
     "output_type": "stream",
     "text": [
      "Tomato is sweet!\n",
      "Tomato can be be cooked!\n"
     ]
    }
   ],
   "source": [
    "obj = hybrid(\"Tomato\")\n",
    "obj.taste() # calls taste func of orange class which inherits and overrides the func from citrusfruit class which in turn overrides the func of parent class.\n",
    "obj.cook() # calls cook func of fruitvegetable class which inherits the func from vegetable class."
   ]
  },
  {
   "cell_type": "markdown",
   "id": "09d7a4b4-4992-4373-b405-5db5085e30e1",
   "metadata": {},
   "source": [
    "#### 4. Explain about the time complexity and space complexity of stacks, queues, Linekdin list"
   ]
  },
  {
   "cell_type": "markdown",
   "id": "c8d00916-838b-4828-b65c-ab0e52b4ba0b",
   "metadata": {},
   "source": [
    "Stacks, Queues and Linked Lists are all linear structures.\n",
    "1. Time Complexity: To insert an element from front O(1).To insert an element from back O(N); N being the number of elements in the linear structure.<br>\n",
    "&nbsp; To delete an element from front 0(1).To delete an element from back 0(N).<br>\n",
    "&nbsp; To search an element O(N))<br>\n",
    "2. Space Complexity : O(N) N = Number of elements in a stack.<br>\n",
    "&nbsp; For operations O(1)"
   ]
  },
  {
   "cell_type": "markdown",
   "id": "c8ba82f8-efef-4c57-b29e-e3d73fe8972e",
   "metadata": {},
   "source": [
    "#### 5. Explain any 3 widgets in Streamlit"
   ]
  },
  {
   "cell_type": "markdown",
   "id": "089a605b-1b08-4a63-a2d4-1264928106c0",
   "metadata": {},
   "source": [
    "<b>1. st.button(label, *):</b> This widget provides an interactive user function. Once the button is clicked by the user, the associted function of the button gets called.<br>\n",
    "<hr>\n",
    "<b>2.st.slider(label,min_value,max_value,*):</b> This is a numeric input widget provides a slider at the user interface. It allows the user to choose any value between a fixed range.<br>\n",
    "<hr>\n",
    "<b>3.st.data_editor(dataframe,*):</b> This is a user friendly editing option. It takes a dataframe and provides a dynamic table at the user interface."
   ]
  },
  {
   "cell_type": "markdown",
   "id": "a01b9358-8a03-440f-ab97-9d7f22266fdd",
   "metadata": {},
   "source": [
    "#### 6. Explain session in Streamlit"
   ]
  },
  {
   "cell_type": "markdown",
   "id": "0c899191-2de4-4933-9039-58d52232f52b",
   "metadata": {},
   "source": [
    "A session refers to a particular instance of the app. If multiple users are using the app, each belongs to a specific session. This ensures that no conflict occurs between app variables. If user A, sets the value of input temperature to 32 degrees, the session state for that user stores the temperature variable to 32. If on the other hand, user B, sets the value to 42 degrees, the session state for that user saves the temperature variable to 42.<br>\n",
    "Sessions also allows the users to provide call back functionality with the help of session_state function."
   ]
  },
  {
   "cell_type": "markdown",
   "id": "2dab99b3-7ca3-490c-b91d-ee483ae137a4",
   "metadata": {},
   "source": [
    "#### 7. How will you run any file in Streamlit"
   ]
  },
  {
   "cell_type": "markdown",
   "id": "38ea0a2a-a6c7-4151-9d9f-009889ad8ca3",
   "metadata": {},
   "source": [
    "streamlit run file_name.py"
   ]
  },
  {
   "cell_type": "markdown",
   "id": "d5669912-c493-406a-a0b0-8e962b007de6",
   "metadata": {},
   "source": [
    "#### 8.  Plot graph such as bar chart, pie chart"
   ]
  },
  {
   "cell_type": "code",
   "execution_count": 14,
   "id": "99f2c031-d639-4a7c-9436-6ce74a47cb52",
   "metadata": {},
   "outputs": [],
   "source": [
    "import pandas as pd\n",
    "import numpy as np\n",
    "import matplotlib.pyplot as plt"
   ]
  },
  {
   "cell_type": "code",
   "execution_count": 15,
   "id": "86e74507-05ff-4f68-bd28-9f35a636dae6",
   "metadata": {},
   "outputs": [
    {
     "data": {
      "text/html": [
       "<div>\n",
       "<style scoped>\n",
       "    .dataframe tbody tr th:only-of-type {\n",
       "        vertical-align: middle;\n",
       "    }\n",
       "\n",
       "    .dataframe tbody tr th {\n",
       "        vertical-align: top;\n",
       "    }\n",
       "\n",
       "    .dataframe thead th {\n",
       "        text-align: right;\n",
       "    }\n",
       "</style>\n",
       "<table border=\"1\" class=\"dataframe\">\n",
       "  <thead>\n",
       "    <tr style=\"text-align: right;\">\n",
       "      <th></th>\n",
       "      <th>a</th>\n",
       "      <th>b</th>\n",
       "      <th>c</th>\n",
       "    </tr>\n",
       "  </thead>\n",
       "  <tbody>\n",
       "    <tr>\n",
       "      <th>0</th>\n",
       "      <td>0.804264</td>\n",
       "      <td>-2.200348</td>\n",
       "      <td>-1.025972</td>\n",
       "    </tr>\n",
       "    <tr>\n",
       "      <th>1</th>\n",
       "      <td>-0.976005</td>\n",
       "      <td>-0.007451</td>\n",
       "      <td>-0.463940</td>\n",
       "    </tr>\n",
       "    <tr>\n",
       "      <th>2</th>\n",
       "      <td>1.003142</td>\n",
       "      <td>-1.264778</td>\n",
       "      <td>1.706754</td>\n",
       "    </tr>\n",
       "    <tr>\n",
       "      <th>3</th>\n",
       "      <td>1.023617</td>\n",
       "      <td>0.213624</td>\n",
       "      <td>-0.925218</td>\n",
       "    </tr>\n",
       "    <tr>\n",
       "      <th>4</th>\n",
       "      <td>0.247037</td>\n",
       "      <td>0.747032</td>\n",
       "      <td>-0.288425</td>\n",
       "    </tr>\n",
       "  </tbody>\n",
       "</table>\n",
       "</div>"
      ],
      "text/plain": [
       "          a         b         c\n",
       "0  0.804264 -2.200348 -1.025972\n",
       "1 -0.976005 -0.007451 -0.463940\n",
       "2  1.003142 -1.264778  1.706754\n",
       "3  1.023617  0.213624 -0.925218\n",
       "4  0.247037  0.747032 -0.288425"
      ]
     },
     "execution_count": 15,
     "metadata": {},
     "output_type": "execute_result"
    }
   ],
   "source": [
    "data = pd.DataFrame(np.random.randn(5, 3), columns=[\"a\",\"b\",\"c\"])\n",
    "data"
   ]
  },
  {
   "cell_type": "code",
   "execution_count": 16,
   "id": "cd5f16b1-5625-45e6-bf49-a8dd481fe705",
   "metadata": {},
   "outputs": [
    {
     "data": {
      "text/plain": [
       "Text(0, 0.5, 'Values')"
      ]
     },
     "execution_count": 16,
     "metadata": {},
     "output_type": "execute_result"
    },
    {
     "data": {
      "image/png": "[encoded data removed]",
      "text/plain": [
       "<Figure size 640x480 with 1 Axes>"
      ]
     },
     "metadata": {},
     "output_type": "display_data"
    }
   ],
   "source": [
    "plt.bar(data['a'].index,data['a'], color=\"green\")\n",
    "plt.xlabel(\"Column A\")\n",
    "plt.ylabel(\"Values\")"
   ]
  },
  {
   "cell_type": "code",
   "execution_count": 17,
   "id": "3189b3f5-54f3-4e26-b188-a391cfc9bf7c",
   "metadata": {},
   "outputs": [],
   "source": [
    "data2 = pd.Series([\"F\",\"M\",\"M\",\"M\",\"F\",\"M\",\"F\",\"M\",])\n",
    "gender = data2.value_counts()\n"
   ]
  },
  {
   "cell_type": "code",
   "execution_count": 18,
   "id": "6f734606-bee9-4819-aa3f-2b6a48a89583",
   "metadata": {},
   "outputs": [
    {
     "data": {
      "text/plain": [
       "Text(0.5, 1.0, 'Gender')"
      ]
     },
     "execution_count": 18,
     "metadata": {},
     "output_type": "execute_result"
    },
    {
     "data": {
      "image/png": "[encoded data removed]",
      "text/plain": [
       "<Figure size 640x480 with 1 Axes>"
      ]
     },
     "metadata": {},
     "output_type": "display_data"
    }
   ],
   "source": [
    "wedges, text, percent =  plt.pie(gender, labels=gender.index, autopct='%.2f%%')\n",
    "plt.legend(wedges,[\"Male\",\"Female\"], loc=\"upper right\")\n",
    "plt.title(\"Gender\")"
   ]
  }
 ],
 "metadata": {
  "kernelspec": {
   "display_name": "Python 3 (ipykernel)",
   "language": "python",
   "name": "python3"
  },
  "language_info": {
   "codemirror_mode": {
    "name": "ipython",
    "version": 3
   },
   "file_extension": ".py",
   "mimetype": "text/x-python",
   "name": "python",
   "nbconvert_exporter": "python",
   "pygments_lexer": "ipython3",
   "version": "3.12.6"
  }
 },
 "nbformat": 4,
 "nbformat_minor": 5
}
