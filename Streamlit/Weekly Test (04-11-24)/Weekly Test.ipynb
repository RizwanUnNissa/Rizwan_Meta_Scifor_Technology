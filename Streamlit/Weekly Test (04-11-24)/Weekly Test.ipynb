{
 "cells": [
  {
   "cell_type": "markdown",
   "id": "8d42e7f6-b9d4-4b1f-ade8-e7a8c9d35aed",
   "metadata": {},
   "source": [
    "### 1. Explain the difference between lists and tuples in Python. Why might you choose one over the other?"
   ]
  },
  {
   "cell_type": "markdown",
   "id": "08c88e8b-963d-4134-9478-059690176bf0",
   "metadata": {},
   "source": [
    "1. Lists are dynamic data structures while as tuples are static data structures.<br>\n",
    "2. Lists are mutable while as tuples are immutable which means insertion and deletion operations can be applied to lists while as tuple elements can only be accessed.<br>\n",
    "     If data needs to be manipulated, lists are more useful. On the other hand, if data needs to be secured and no changes are to be made, using tuples is a better option."
   ]
  },
  {
   "cell_type": "markdown",
   "id": "c7beb39c-3a90-4253-82a3-da178b328838",
   "metadata": {},
   "source": [
    "### 2. Write a function that takes a list of integers and returns a new list with only the even numbers."
   ]
  },
  {
   "cell_type": "code",
   "execution_count": 4,
   "id": "1ca50dd7-8a59-4ac9-9bf4-988aad067d30",
   "metadata": {},
   "outputs": [],
   "source": [
    "def even_numbers(l):\n",
    "    output = [i for i in l if i%2==0]\n",
    "    return output\n",
    "    "
   ]
  },
  {
   "cell_type": "code",
   "execution_count": 5,
   "id": "ef403557-f2ba-4329-a770-07df2068a975",
   "metadata": {},
   "outputs": [
    {
     "data": {
      "text/plain": [
       "[2, 4, 6]"
      ]
     },
     "execution_count": 5,
     "metadata": {},
     "output_type": "execute_result"
    }
   ],
   "source": [
    "even_numbers([1,2,3,4,5,6])"
   ]
  },
  {
   "cell_type": "markdown",
   "id": "11d830ac-4c81-4139-a6de-311d7b66a737",
   "metadata": {},
   "source": [
    "### 3. Describe how Python’s garbage collection works. What are the main methods it uses to manage memory?"
   ]
  },
  {
   "cell_type": "markdown",
   "id": "d0782162-c7a6-4658-98bc-047d328c1edd",
   "metadata": {},
   "source": [
    "Garbage collection is a memory management technique. The main methods used by python are:<br>\n",
    "1. Reference counting: In this method, python keeps track of the reference of an object. If the reference reaches 0, it implies the object is no longer in use and can be removed.<br>\n",
    "2. Generational garbage collection: In this method python divides the objects into three categories:<br>\n",
    " Generation0 (new objects/youngest), Generation 1(Middle-aged), Generation 2(oldest). Objects are moved from generation to generation based on the fact if threshold value is greater than that of allocations and disallocations."
   ]
  },
  {
   "cell_type": "markdown",
   "id": "3248460a-07ea-4355-852d-12c5fbbe34bc",
   "metadata": {},
   "source": [
    "### 4. Given a dictionary where keys are student names and values are lists of their scores, write a function that returns the average score for each student."
   ]
  },
  {
   "cell_type": "code",
   "execution_count": 6,
   "id": "3a598b61-4123-4c3a-8c89-5e804145f55f",
   "metadata": {},
   "outputs": [],
   "source": [
    "def average_score(student_dic):\n",
    "    output ={}\n",
    "    for key,values in student_dic.items():\n",
    "        output[key] = sum(values)/len(values)\n",
    "    return output"
   ]
  },
  {
   "cell_type": "code",
   "execution_count": 7,
   "id": "e65df445-d801-46e1-b180-01195ba5841e",
   "metadata": {},
   "outputs": [
    {
     "data": {
      "text/plain": [
       "{'Alia': 70.5, 'Harris': 77.0}"
      ]
     },
     "execution_count": 7,
     "metadata": {},
     "output_type": "execute_result"
    }
   ],
   "source": [
    "average_score({\"Alia\":[89,72,67,54],\"Harris\":[83,56,78,91]})"
   ]
  },
  {
   "cell_type": "markdown",
   "id": "bfb9d24a-0e98-47bb-88f5-f534d5faafa0",
   "metadata": {},
   "source": [
    "### 5.What are *args and **kwargs in Python functions, and how are they used?"
   ]
  },
  {
   "cell_type": "markdown",
   "id": "1d2be042-ae2f-4ba7-9e2c-da6029e81ead",
   "metadata": {},
   "source": [
    "*args and **kwargs are both used to pass variable number of arguments to a functions.*args are non-keyword arguments(unnamed) while as **kwargs (dictionary) are keyword arguments (named) .<br>\n"
   ]
  },
  {
   "cell_type": "code",
   "execution_count": 9,
   "id": "e3019b38-72be-459a-874e-28c842bfde02",
   "metadata": {},
   "outputs": [],
   "source": [
    "def sum(*args):\n",
    "    add = 0\n",
    "    for arg in args:\n",
    "        add += arg\n",
    "    return add\n",
    "    "
   ]
  },
  {
   "cell_type": "code",
   "execution_count": 10,
   "id": "e3f8bcff-7ba5-41bb-8d06-7040fca70b95",
   "metadata": {},
   "outputs": [
    {
     "name": "stdout",
     "output_type": "stream",
     "text": [
      "5\n"
     ]
    },
    {
     "data": {
      "text/plain": [
       "9"
      ]
     },
     "execution_count": 10,
     "metadata": {},
     "output_type": "execute_result"
    }
   ],
   "source": [
    "print(sum(2,3))\n",
    "sum(2,3,4)"
   ]
  },
  {
   "cell_type": "code",
   "execution_count": 11,
   "id": "f7599a1c-9aee-4980-9fc4-a889537a44b8",
   "metadata": {},
   "outputs": [],
   "source": [
    "def sum(**kwargs):\n",
    "    add = 0\n",
    "    for key,value in kwargs.items():\n",
    "        add += value\n",
    "    return add\n",
    "    "
   ]
  },
  {
   "cell_type": "code",
   "execution_count": 12,
   "id": "4081a83c-3cf6-4843-82e2-6e66b62792d9",
   "metadata": {},
   "outputs": [
    {
     "data": {
      "text/plain": [
       "9"
      ]
     },
     "execution_count": 12,
     "metadata": {},
     "output_type": "execute_result"
    }
   ],
   "source": [
    "sum(a=2,b=3,c=4)"
   ]
  },
  {
   "cell_type": "markdown",
   "id": "b5f89fab-b70c-4829-be25-9b386cc8940f",
   "metadata": {},
   "source": [
    "## Streamlit Questions"
   ]
  },
  {
   "cell_type": "markdown",
   "id": "c64f572d-94df-41bf-897d-633788edf10f",
   "metadata": {},
   "source": [
    "### 1.Explain how Streamlit’s st.cache works and why it is useful. When should you avoid using it?"
   ]
  },
  {
   "cell_type": "markdown",
   "id": "00584ebc-b60d-4ad5-bbd0-094a47b9ea76",
   "metadata": {},
   "source": [
    "Streamlit's st.cache keeps the data in cache memory. It is useful function when you need to load a dataset or use functions that calculate the value only once. St.cache makes the program efficient and it avoids running functions with static outcomes on every rerun. It should not be used if the outcome is dynamic and needs recalculation on rerun.\n"
   ]
  },
  {
   "cell_type": "markdown",
   "id": "9683f9cc-d0c8-4508-a8ea-74f1871f0542",
   "metadata": {},
   "source": [
    "### 2.Write a simple Streamlit app that takes a user’s name as input and displays a personalized greeting message."
   ]
  },
  {
   "cell_type": "markdown",
   "id": "1ac7530d-3c88-4dc3-810f-5d02a11b3864",
   "metadata": {},
   "source": [
    "user = st.text_input(label=\"Enter Your Name\")<br>\n",
    "if user:<br>\n",
    "&nbsp;   st.write(f\"Hello {user}! Welcome to our site. Pleased to introduce our new program. \")<br>\n",
    "Picture associated: greeting.png"
   ]
  },
  {
   "cell_type": "markdown",
   "id": "8462f8fe-ddb9-4fe8-8648-c474a000d23a",
   "metadata": {},
   "source": [
    "### 3.Describe the st.sidebar component in Streamlit. How does it improve user experience in Streamlit applications?"
   ]
  },
  {
   "cell_type": "markdown",
   "id": "a5ed3fde-df73-43bf-b8dc-a3eb7abf2b35",
   "metadata": {},
   "source": [
    "st.sidebar divides the main window into a side panel and a main panel. It allows the developer to create a clean layout for the application and improves client experience. If the app needs user input to diplay content, sidebar helps in creating a line between input and output. It helps in proper organization of the application.<br>\n",
    "To put elements in the sidebar, use st,sidebar.widget or,<br>\n",
    "with sidebar: <br>\n",
    "&nbsp; widgets\n"
   ]
  },
  {
   "cell_type": "markdown",
   "id": "9eae526c-7df4-4bae-a80e-f254b98db9bd",
   "metadata": {},
   "source": [
    "### 4.Create a Streamlit app that displays a line chart of random data. Allow the user to select the number of data points they want in the chart using a slider."
   ]
  },
  {
   "cell_type": "markdown",
   "id": "9315cf49-1866-4272-8d8f-458a18d582ec",
   "metadata": {},
   "source": [
    "import pandas as pd<br>\n",
    "import numpy as np<br>\n",
    "import streamlit as st<br>\n",
    "data = pd.DataFrame(np.random.randn(20, 2), columns=[\"a\", \"b\"])<br>\n",
    "limit = st.slider(\"Select data points to display\", min_value=2, max_value=len(data), step=1)<br>\n",
    "\n",
    "st.line_chart(data[:limit])<br>\n",
    "Picture associated: line_chart.png"
   ]
  },
  {
   "cell_type": "markdown",
   "id": "99863ade-cffd-47de-8a5a-587355eee795",
   "metadata": {},
   "source": [
    "### 5.How does Streamlit handle real-time data updates with st.button or st.checkbox? Explain a scenario where this can be useful."
   ]
  },
  {
   "cell_type": "markdown",
   "id": "b51e6d4a-c297-4215-8f5a-3d2f58d99dea",
   "metadata": {},
   "source": [
    "Streamlit allows the user to interact with data with the help of widgets. If a prompt is created by the user, the corresponding function gets called. \n",
    "For example, in order to create a chart, user needs to input filters and once the input gets registered, only then the graph can be displayed. It can be achieved with the help of buttons.<br>\n",
    "In the similar fashion, using a checkbox data will get dispayed only when the box has been checked.<br>\n",
    "Syntax : If st.checkbox : {Corresponding Function within}<br>\n",
    "if st.button(\"label\"): {Corresponding Function within}"
   ]
  }
 ],
 "metadata": {
  "kernelspec": {
   "display_name": "Python 3 (ipykernel)",
   "language": "python",
   "name": "python3"
  },
  "language_info": {
   "codemirror_mode": {
    "name": "ipython",
    "version": 3
   },
   "file_extension": ".py",
   "mimetype": "text/x-python",
   "name": "python",
   "nbconvert_exporter": "python",
   "pygments_lexer": "ipython3",
   "version": "3.12.6"
  }
 },
 "nbformat": 4,
 "nbformat_minor": 5
}
