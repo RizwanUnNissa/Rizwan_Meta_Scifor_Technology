{
 "cells": [
  {
   "cell_type": "code",
   "execution_count": 1,
   "id": "15978c67-ef69-467d-962d-c44d82ac9553",
   "metadata": {},
   "outputs": [],
   "source": [
    "import warnings \n",
    "warnings.filterwarnings(\"ignore\")"
   ]
  },
  {
   "cell_type": "markdown",
   "id": "c78aaf27-77cf-423b-9b17-5af29b04aefa",
   "metadata": {},
   "source": [
    "## Descriptive Statistics"
   ]
  },
  {
   "cell_type": "code",
   "execution_count": 2,
   "id": "040f7627-94d8-4768-895d-9f982fc0deff",
   "metadata": {},
   "outputs": [],
   "source": [
    "import pandas as pd\n",
    "import numpy as np\n",
    "import seaborn as sns"
   ]
  },
  {
   "cell_type": "code",
   "execution_count": 3,
   "id": "0321f89c-2313-4daa-ba37-358e0452e48a",
   "metadata": {},
   "outputs": [],
   "source": [
    "dataset = pd.DataFrame(np.random.rand(100,3), columns=list('abc'))"
   ]
  },
  {
   "cell_type": "code",
   "execution_count": 4,
   "id": "0bcf67d3-46c1-40f2-af4b-f9e0d57ff901",
   "metadata": {},
   "outputs": [
    {
     "data": {
      "text/html": [
       "<div>\n",
       "<style scoped>\n",
       "    .dataframe tbody tr th:only-of-type {\n",
       "        vertical-align: middle;\n",
       "    }\n",
       "\n",
       "    .dataframe tbody tr th {\n",
       "        vertical-align: top;\n",
       "    }\n",
       "\n",
       "    .dataframe thead th {\n",
       "        text-align: right;\n",
       "    }\n",
       "</style>\n",
       "<table border=\"1\" class=\"dataframe\">\n",
       "  <thead>\n",
       "    <tr style=\"text-align: right;\">\n",
       "      <th></th>\n",
       "      <th>a</th>\n",
       "      <th>b</th>\n",
       "      <th>c</th>\n",
       "    </tr>\n",
       "  </thead>\n",
       "  <tbody>\n",
       "    <tr>\n",
       "      <th>count</th>\n",
       "      <td>100.000000</td>\n",
       "      <td>100.000000</td>\n",
       "      <td>100.000000</td>\n",
       "    </tr>\n",
       "    <tr>\n",
       "      <th>mean</th>\n",
       "      <td>0.481199</td>\n",
       "      <td>0.460217</td>\n",
       "      <td>0.454976</td>\n",
       "    </tr>\n",
       "    <tr>\n",
       "      <th>std</th>\n",
       "      <td>0.282780</td>\n",
       "      <td>0.282036</td>\n",
       "      <td>0.260415</td>\n",
       "    </tr>\n",
       "    <tr>\n",
       "      <th>min</th>\n",
       "      <td>0.005210</td>\n",
       "      <td>0.002666</td>\n",
       "      <td>0.011437</td>\n",
       "    </tr>\n",
       "    <tr>\n",
       "      <th>25%</th>\n",
       "      <td>0.260453</td>\n",
       "      <td>0.239380</td>\n",
       "      <td>0.260781</td>\n",
       "    </tr>\n",
       "    <tr>\n",
       "      <th>50%</th>\n",
       "      <td>0.493461</td>\n",
       "      <td>0.466462</td>\n",
       "      <td>0.459611</td>\n",
       "    </tr>\n",
       "    <tr>\n",
       "      <th>75%</th>\n",
       "      <td>0.714099</td>\n",
       "      <td>0.677027</td>\n",
       "      <td>0.657492</td>\n",
       "    </tr>\n",
       "    <tr>\n",
       "      <th>max</th>\n",
       "      <td>0.992458</td>\n",
       "      <td>0.999667</td>\n",
       "      <td>0.992778</td>\n",
       "    </tr>\n",
       "  </tbody>\n",
       "</table>\n",
       "</div>"
      ],
      "text/plain": [
       "                a           b           c\n",
       "count  100.000000  100.000000  100.000000\n",
       "mean     0.481199    0.460217    0.454976\n",
       "std      0.282780    0.282036    0.260415\n",
       "min      0.005210    0.002666    0.011437\n",
       "25%      0.260453    0.239380    0.260781\n",
       "50%      0.493461    0.466462    0.459611\n",
       "75%      0.714099    0.677027    0.657492\n",
       "max      0.992458    0.999667    0.992778"
      ]
     },
     "execution_count": 4,
     "metadata": {},
     "output_type": "execute_result"
    }
   ],
   "source": [
    "dataset.describe()"
   ]
  },
  {
   "cell_type": "markdown",
   "id": "62a62d6f-7783-496b-adba-4026cc216caf",
   "metadata": {},
   "source": [
    "## Inferential Statistics"
   ]
  },
  {
   "cell_type": "markdown",
   "id": "8a60f93c-f933-4b7e-9dea-fe4bd30e67d1",
   "metadata": {},
   "source": [
    "### Sampling"
   ]
  },
  {
   "cell_type": "markdown",
   "id": "0b58ae8b-b261-4758-b825-531eb2d04e1b",
   "metadata": {},
   "source": [
    "##### Simple Random Sampling"
   ]
  },
  {
   "cell_type": "code",
   "execution_count": 5,
   "id": "3e95f244-ed1a-4dcf-a204-43e652048ba5",
   "metadata": {},
   "outputs": [],
   "source": [
    "import random"
   ]
  },
  {
   "cell_type": "code",
   "execution_count": 6,
   "id": "e523f917-7074-42dc-98ac-27433b326d39",
   "metadata": {},
   "outputs": [
    {
     "data": {
      "text/plain": [
       "[1, 35, 40, 0, 18]"
      ]
     },
     "execution_count": 6,
     "metadata": {},
     "output_type": "execute_result"
    }
   ],
   "source": [
    "#without replacement\n",
    "random.sample(list(range(50)),5)"
   ]
  },
  {
   "cell_type": "code",
   "execution_count": 7,
   "id": "a00eba9b-522f-41b4-8bc9-87359b395767",
   "metadata": {},
   "outputs": [
    {
     "data": {
      "text/plain": [
       "[1, 8, 0, 1, 2]"
      ]
     },
     "execution_count": 7,
     "metadata": {},
     "output_type": "execute_result"
    }
   ],
   "source": [
    "#with replacement\n",
    "random.choices(list(range(10)), weights=[5,5,4,3,2,1,1,1,1,1], k=5)"
   ]
  },
  {
   "cell_type": "markdown",
   "id": "34653132-cb31-410d-84a2-bdda639da777",
   "metadata": {},
   "source": [
    "##### Stratified Sampling"
   ]
  },
  {
   "cell_type": "code",
   "execution_count": 8,
   "id": "44dfdc45-cbc2-4146-a40c-f8c472e07428",
   "metadata": {},
   "outputs": [],
   "source": [
    "rose_color = [\"White\",\"Red\",\"Pink\",\"Pink\",\"Red\",\"Blue\",\"Blue\",\"White\",\"Black\",\"Orange\",\"Orange\",\"Pink\",\"Blue\",\"Black\"]"
   ]
  },
  {
   "cell_type": "code",
   "execution_count": 9,
   "id": "cee347f4-643f-41b6-9424-7725f466e515",
   "metadata": {},
   "outputs": [],
   "source": [
    "data = pd.DataFrame(rose_color, columns=[\"Color\"])"
   ]
  },
  {
   "cell_type": "code",
   "execution_count": 10,
   "id": "d34648a8-3598-485c-bb6e-c6148efb999b",
   "metadata": {},
   "outputs": [
    {
     "data": {
      "text/html": [
       "<div>\n",
       "<style scoped>\n",
       "    .dataframe tbody tr th:only-of-type {\n",
       "        vertical-align: middle;\n",
       "    }\n",
       "\n",
       "    .dataframe tbody tr th {\n",
       "        vertical-align: top;\n",
       "    }\n",
       "\n",
       "    .dataframe thead th {\n",
       "        text-align: right;\n",
       "    }\n",
       "</style>\n",
       "<table border=\"1\" class=\"dataframe\">\n",
       "  <thead>\n",
       "    <tr style=\"text-align: right;\">\n",
       "      <th></th>\n",
       "      <th>Color</th>\n",
       "    </tr>\n",
       "  </thead>\n",
       "  <tbody>\n",
       "    <tr>\n",
       "      <th>13</th>\n",
       "      <td>Black</td>\n",
       "    </tr>\n",
       "    <tr>\n",
       "      <th>8</th>\n",
       "      <td>Black</td>\n",
       "    </tr>\n",
       "    <tr>\n",
       "      <th>5</th>\n",
       "      <td>Blue</td>\n",
       "    </tr>\n",
       "    <tr>\n",
       "      <th>6</th>\n",
       "      <td>Blue</td>\n",
       "    </tr>\n",
       "    <tr>\n",
       "      <th>10</th>\n",
       "      <td>Orange</td>\n",
       "    </tr>\n",
       "    <tr>\n",
       "      <th>9</th>\n",
       "      <td>Orange</td>\n",
       "    </tr>\n",
       "    <tr>\n",
       "      <th>2</th>\n",
       "      <td>Pink</td>\n",
       "    </tr>\n",
       "    <tr>\n",
       "      <th>3</th>\n",
       "      <td>Pink</td>\n",
       "    </tr>\n",
       "    <tr>\n",
       "      <th>4</th>\n",
       "      <td>Red</td>\n",
       "    </tr>\n",
       "    <tr>\n",
       "      <th>1</th>\n",
       "      <td>Red</td>\n",
       "    </tr>\n",
       "    <tr>\n",
       "      <th>7</th>\n",
       "      <td>White</td>\n",
       "    </tr>\n",
       "    <tr>\n",
       "      <th>0</th>\n",
       "      <td>White</td>\n",
       "    </tr>\n",
       "  </tbody>\n",
       "</table>\n",
       "</div>"
      ],
      "text/plain": [
       "     Color\n",
       "13   Black\n",
       "8    Black\n",
       "5     Blue\n",
       "6     Blue\n",
       "10  Orange\n",
       "9   Orange\n",
       "2     Pink\n",
       "3     Pink\n",
       "4      Red\n",
       "1      Red\n",
       "7    White\n",
       "0    White"
      ]
     },
     "execution_count": 10,
     "metadata": {},
     "output_type": "execute_result"
    }
   ],
   "source": [
    "data.groupby(\"Color\", group_keys=False).apply(lambda x: x.sample(2, random_state=42))\n"
   ]
  },
  {
   "cell_type": "markdown",
   "id": "9924a750-5037-41e3-9e8b-cdeb27cb9c4c",
   "metadata": {},
   "source": [
    "##### Systematic Sampling"
   ]
  },
  {
   "cell_type": "code",
   "execution_count": 11,
   "id": "daa19de6-aa1c-4aaf-9d6f-3074a6e03d0f",
   "metadata": {},
   "outputs": [],
   "source": [
    "data = pd.DataFrame(list(range(50)), columns=[\"A\"])"
   ]
  },
  {
   "cell_type": "code",
   "execution_count": 12,
   "id": "0b5a996d-7993-4a2c-a8bf-a568570c0d76",
   "metadata": {},
   "outputs": [
    {
     "data": {
      "text/plain": [
       "array([ 3, 13, 23, 33, 43])"
      ]
     },
     "execution_count": 12,
     "metadata": {},
     "output_type": "execute_result"
    }
   ],
   "source": [
    "data[\"A\"].iloc[3::10].values"
   ]
  },
  {
   "cell_type": "markdown",
   "id": "785fd092-c73f-4c12-846f-6f2665348f4b",
   "metadata": {},
   "source": [
    "### Central Limit Theorem"
   ]
  },
  {
   "cell_type": "code",
   "execution_count": 13,
   "id": "42667e00-11cd-4430-a087-b7421e34f47d",
   "metadata": {},
   "outputs": [],
   "source": [
    "data = range(300)"
   ]
  },
  {
   "cell_type": "code",
   "execution_count": 14,
   "id": "116b1ea4-9614-4f53-a01e-6b986ad9774d",
   "metadata": {},
   "outputs": [
    {
     "data": {
      "text/plain": [
       "[np.float64(170.6),\n",
       " np.float64(154.36666666666667),\n",
       " np.float64(147.9),\n",
       " np.float64(170.93333333333334),\n",
       " np.float64(132.23333333333332),\n",
       " np.float64(182.46666666666667),\n",
       " np.float64(135.9),\n",
       " np.float64(145.93333333333334),\n",
       " np.float64(159.6),\n",
       " np.float64(147.9)]"
      ]
     },
     "execution_count": 14,
     "metadata": {},
     "output_type": "execute_result"
    }
   ],
   "source": [
    "means = []\n",
    "for i in range(10):\n",
    "    sample_data = random.sample(data, k=30)\n",
    "    means.append(np.mean(sample_data))\n",
    "means"
   ]
  },
  {
   "cell_type": "code",
   "execution_count": 15,
   "id": "16dd89ee-662f-4934-b7f6-b2b70b3107b0",
   "metadata": {},
   "outputs": [
    {
     "name": "stdout",
     "output_type": "stream",
     "text": [
      "Mean of means: 154.78333333333336\n",
      "Mean of population: 149.5\n"
     ]
    }
   ],
   "source": [
    "print(f\"\"\"Mean of means: {np.mean(means)}\n",
    "Mean of population: {np.mean(data)}\"\"\")"
   ]
  },
  {
   "cell_type": "markdown",
   "id": "ed3cceaa-6463-475c-b7f7-c9a57a07a44a",
   "metadata": {},
   "source": [
    "## Probability Distribution"
   ]
  },
  {
   "cell_type": "markdown",
   "id": "9f212cf8-0622-4ea0-8251-44bd2ef88633",
   "metadata": {},
   "source": [
    "##### Binomial"
   ]
  },
  {
   "cell_type": "code",
   "execution_count": 16,
   "id": "30ba4019-8ac7-40f6-8fd6-31852d713beb",
   "metadata": {},
   "outputs": [],
   "source": [
    "from scipy.stats import binom\n",
    "import matplotlib.pyplot as plt"
   ]
  },
  {
   "cell_type": "code",
   "execution_count": 17,
   "id": "fb8c3803-fed7-4fae-9661-166ab755aa90",
   "metadata": {},
   "outputs": [
    {
     "data": {
      "text/plain": [
       "[np.float64(0.03124999999999997),\n",
       " np.float64(0.15624999999999997),\n",
       " np.float64(0.3124999999999998),\n",
       " np.float64(0.3124999999999998),\n",
       " np.float64(0.15625),\n",
       " np.float64(0.03125)]"
      ]
     },
     "execution_count": 17,
     "metadata": {},
     "output_type": "execute_result"
    }
   ],
   "source": [
    "n = 5 #number of trials\n",
    "p = 0.5 #probability of success\n",
    "r_values = list(range(n+1)) #number of successes\n",
    "dist = [binom.pmf(r,n,p) for r in r_values]\n",
    "dist"
   ]
  },
  {
   "cell_type": "code",
   "execution_count": 18,
   "id": "093de604-8736-4ac5-a34a-05bdbad99e0a",
   "metadata": {},
   "outputs": [
    {
     "data": {
      "text/plain": [
       "<BarContainer object of 6 artists>"
      ]
     },
     "execution_count": 18,
     "metadata": {},
     "output_type": "execute_result"
    },
    {
     "data": {
      "image/png": "[encoded data removed]",
      "text/plain": [
       "<Figure size 640x480 with 1 Axes>"
      ]
     },
     "metadata": {},
     "output_type": "display_data"
    }
   ],
   "source": [
    "plt.bar(r_values,dist)"
   ]
  },
  {
   "cell_type": "markdown",
   "id": "9b13749c-49c2-4018-97f0-1e2feb4d6c39",
   "metadata": {},
   "source": [
    "##### Bernoulli"
   ]
  },
  {
   "cell_type": "code",
   "execution_count": 19,
   "id": "606ded28-5246-4e9b-a0a9-9d4c720d27a8",
   "metadata": {},
   "outputs": [],
   "source": [
    "from scipy.stats import bernoulli"
   ]
  },
  {
   "cell_type": "code",
   "execution_count": 20,
   "id": "2358d9bd-b2e5-49ff-91b1-60cf0f31badd",
   "metadata": {},
   "outputs": [
    {
     "data": {
      "text/plain": [
       "array([0.8, 0.2])"
      ]
     },
     "execution_count": 20,
     "metadata": {},
     "output_type": "execute_result"
    }
   ],
   "source": [
    "bernoulli(p=0.2).pmf([0,1])"
   ]
  },
  {
   "cell_type": "markdown",
   "id": "3e19c2d2-593b-4cda-8688-488f3d096d77",
   "metadata": {},
   "source": [
    "##### Poisson "
   ]
  },
  {
   "cell_type": "code",
   "execution_count": 21,
   "id": "dede19d2-04da-49ea-83a2-cdad4d3303f1",
   "metadata": {},
   "outputs": [],
   "source": [
    "from scipy.stats import poisson\n"
   ]
  },
  {
   "cell_type": "code",
   "execution_count": 22,
   "id": "95d42ca7-d8cf-403a-822a-0e1ae0ec242d",
   "metadata": {},
   "outputs": [
    {
     "data": {
      "text/plain": [
       "np.float64(0.018132788707821854)"
      ]
     },
     "execution_count": 22,
     "metadata": {},
     "output_type": "execute_result"
    }
   ],
   "source": [
    "poisson.pmf(10, 5) # 10 = number of occurences and 5=event"
   ]
  },
  {
   "cell_type": "markdown",
   "id": "5a26143c-f9ba-4564-a337-425d5f76dad1",
   "metadata": {},
   "source": [
    "##### Normal"
   ]
  },
  {
   "cell_type": "code",
   "execution_count": 23,
   "id": "b93286b7-eba7-45aa-a7c3-5a1cb85c9383",
   "metadata": {},
   "outputs": [
    {
     "data": {
      "text/plain": [
       "<Axes: ylabel='Count'>"
      ]
     },
     "execution_count": 23,
     "metadata": {},
     "output_type": "execute_result"
    },
    {
     "data": {
      "image/png": "[encoded data removed]",
      "text/plain": [
       "<Figure size 640x480 with 1 Axes>"
      ]
     },
     "metadata": {},
     "output_type": "display_data"
    }
   ],
   "source": [
    "sns.histplot(np.random.normal(size=1000), kde=True)"
   ]
  },
  {
   "cell_type": "markdown",
   "id": "1955c850-6f3e-4fc6-ac27-9148dd6c90d2",
   "metadata": {},
   "source": [
    "##### Uniform continuous"
   ]
  },
  {
   "cell_type": "code",
   "execution_count": 24,
   "id": "4926f5e0-88bc-4d81-9e5a-40fa2ba539ba",
   "metadata": {},
   "outputs": [
    {
     "data": {
      "text/plain": [
       "<Axes: ylabel='Count'>"
      ]
     },
     "execution_count": 24,
     "metadata": {},
     "output_type": "execute_result"
    },
    {
     "data": {
      "image/png": "[encoded data removed]",
      "text/plain": [
       "<Figure size 640x480 with 1 Axes>"
      ]
     },
     "metadata": {},
     "output_type": "display_data"
    }
   ],
   "source": [
    "sns.histplot(np.random.uniform(size=1000), kde=True)"
   ]
  }
 ],
 "metadata": {
  "kernelspec": {
   "display_name": "Python 3 (ipykernel)",
   "language": "python",
   "name": "python3"
  },
  "language_info": {
   "codemirror_mode": {
    "name": "ipython",
    "version": 3
   },
   "file_extension": ".py",
   "mimetype": "text/x-python",
   "name": "python",
   "nbconvert_exporter": "python",
   "pygments_lexer": "ipython3",
   "version": "3.12.6"
  }
 },
 "nbformat": 4,
 "nbformat_minor": 5
}
