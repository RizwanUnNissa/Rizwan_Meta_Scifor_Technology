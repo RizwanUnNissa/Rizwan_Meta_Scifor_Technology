{
 "cells": [
  {
   "cell_type": "markdown",
   "id": "463837c6-a403-4a9f-88fe-0e6f95bde8e7",
   "metadata": {},
   "source": [
    "### Sum of elements in a list"
   ]
  },
  {
   "cell_type": "code",
   "execution_count": 1,
   "id": "ab0a396f-ca8e-459d-99d2-b4f47878fd3f",
   "metadata": {},
   "outputs": [],
   "source": [
    "li = [1, 9, 25, 49, 81]"
   ]
  },
  {
   "cell_type": "code",
   "execution_count": 2,
   "id": "8da41ec3-c1b6-446c-9cfe-f7ba7bc47932",
   "metadata": {},
   "outputs": [
    {
     "data": {
      "text/plain": [
       "165"
      ]
     },
     "execution_count": 2,
     "metadata": {},
     "output_type": "execute_result"
    }
   ],
   "source": [
    "#Method1\n",
    "sum(li)"
   ]
  },
  {
   "cell_type": "code",
   "execution_count": 3,
   "id": "f0dea758-c5fe-4758-8cea-fcdd19016359",
   "metadata": {},
   "outputs": [],
   "source": [
    "#Method2\n",
    "def sum_list(li):\n",
    "    sum = 0\n",
    "    for i in li:\n",
    "        sum += i\n",
    "    return sum"
   ]
  },
  {
   "cell_type": "code",
   "execution_count": 4,
   "id": "cf1d04f8-5d66-40f5-9729-a18c6076b9ac",
   "metadata": {},
   "outputs": [
    {
     "data": {
      "text/plain": [
       "165"
      ]
     },
     "execution_count": 4,
     "metadata": {},
     "output_type": "execute_result"
    }
   ],
   "source": [
    "sum_list(li)"
   ]
  },
  {
   "cell_type": "markdown",
   "id": "8e7dd147-f297-4d34-a32c-f7a3b399855b",
   "metadata": {},
   "source": [
    "## Largest number in a list"
   ]
  },
  {
   "cell_type": "code",
   "execution_count": 5,
   "id": "746139a7-8a8c-48ff-a83c-006fa7640355",
   "metadata": {},
   "outputs": [
    {
     "data": {
      "text/plain": [
       "81"
      ]
     },
     "execution_count": 5,
     "metadata": {},
     "output_type": "execute_result"
    }
   ],
   "source": [
    "#Method1\n",
    "max(li)"
   ]
  },
  {
   "cell_type": "code",
   "execution_count": 6,
   "id": "d7ea916b-281a-4400-a7c2-bcee9e18ac57",
   "metadata": {},
   "outputs": [],
   "source": [
    "#Method2\n",
    "def largest_number(li):\n",
    "    largest_num = 0\n",
    "    for i in li:\n",
    "        if i > largest_num:\n",
    "            largest_num = i\n",
    "    return largest_num"
   ]
  },
  {
   "cell_type": "code",
   "execution_count": 7,
   "id": "fc05a67c-f273-4ccf-99c4-ee2de5e80fd7",
   "metadata": {},
   "outputs": [
    {
     "data": {
      "text/plain": [
       "81"
      ]
     },
     "execution_count": 7,
     "metadata": {},
     "output_type": "execute_result"
    }
   ],
   "source": [
    "largest_number(li)"
   ]
  },
  {
   "cell_type": "markdown",
   "id": "2db28dba-a94a-46fc-a696-1fd210f80de5",
   "metadata": {},
   "source": [
    "## Remove duplicates in a list"
   ]
  },
  {
   "cell_type": "code",
   "execution_count": 8,
   "id": "2d46f1a0-7b72-46c7-8f96-bc879232c2b4",
   "metadata": {},
   "outputs": [],
   "source": [
    "li = [1,2,3,4,1,1,5,6,7]"
   ]
  },
  {
   "cell_type": "code",
   "execution_count": 9,
   "id": "cfe8dbbb-eb0a-4bb0-9f55-0b111b4b7bb9",
   "metadata": {},
   "outputs": [
    {
     "data": {
      "text/plain": [
       "[1, 2, 3, 4, 5, 6, 7]"
      ]
     },
     "execution_count": 9,
     "metadata": {},
     "output_type": "execute_result"
    }
   ],
   "source": [
    "#Method1\n",
    "li_unique = list(set(li))\n",
    "li_unique"
   ]
  },
  {
   "cell_type": "code",
   "execution_count": 10,
   "id": "a2e6a931-9d3e-4ceb-acec-d7fac8ac0153",
   "metadata": {},
   "outputs": [],
   "source": [
    "#Metho2\n",
    "def unique_list(li):\n",
    "    li_unique =[]\n",
    "    for i in li:\n",
    "        if i not in li_unique:\n",
    "            li_unique.append(i)\n",
    "    return li_unique"
   ]
  },
  {
   "cell_type": "code",
   "execution_count": 11,
   "id": "925e52ce-5405-4aab-9140-c55ef7986cbc",
   "metadata": {},
   "outputs": [
    {
     "data": {
      "text/plain": [
       "[1, 2, 3, 4, 5, 6, 7]"
      ]
     },
     "execution_count": 11,
     "metadata": {},
     "output_type": "execute_result"
    }
   ],
   "source": [
    "unique_list(li)"
   ]
  },
  {
   "cell_type": "markdown",
   "id": "64eec5c5-2027-4042-8085-a7369d7c2afa",
   "metadata": {},
   "source": [
    "### Reverse a list"
   ]
  },
  {
   "cell_type": "code",
   "execution_count": 12,
   "id": "8009f6ac-8f0e-4bc0-b7b6-7e2b352bf669",
   "metadata": {},
   "outputs": [
    {
     "data": {
      "text/plain": [
       "[7, 6, 5, 1, 1, 4, 3, 2, 1]"
      ]
     },
     "execution_count": 12,
     "metadata": {},
     "output_type": "execute_result"
    }
   ],
   "source": [
    "#Method1\n",
    "reversed_list = li[::-1]\n",
    "reversed_list"
   ]
  },
  {
   "cell_type": "code",
   "execution_count": 13,
   "id": "40862824-7a63-47ff-80c4-d91f8d404eae",
   "metadata": {},
   "outputs": [
    {
     "data": {
      "text/plain": [
       "[7, 6, 5, 1, 1, 4, 3, 2, 1]"
      ]
     },
     "execution_count": 13,
     "metadata": {},
     "output_type": "execute_result"
    }
   ],
   "source": [
    "#Method2\n",
    "reversed_list = list(reversed(li))\n",
    "reversed_list"
   ]
  },
  {
   "cell_type": "markdown",
   "id": "5181a218-2dca-4792-8b6a-48237a0a32bd",
   "metadata": {},
   "source": [
    "### Count number of odd n even_numbers in a list"
   ]
  },
  {
   "cell_type": "code",
   "execution_count": 14,
   "id": "253e3478-83df-46d3-b985-0651f7936949",
   "metadata": {},
   "outputs": [],
   "source": [
    "def odd_even(li):\n",
    "    odd_num = 0\n",
    "    even_num = 0\n",
    "    for i in li:\n",
    "        if i%2 == 0:\n",
    "            even_num += 1\n",
    "        else:\n",
    "            odd_num += 1\n",
    "    print(\"odd numbers are {} and even numbers are {}\".format(odd_num,even_num))"
   ]
  },
  {
   "cell_type": "code",
   "execution_count": 15,
   "id": "fff6af3c-d092-4741-901e-306ec63aabea",
   "metadata": {},
   "outputs": [
    {
     "name": "stdout",
     "output_type": "stream",
     "text": [
      "odd numbers are 6 and even numbers are 3\n"
     ]
    }
   ],
   "source": [
    "odd_even(li)"
   ]
  },
  {
   "cell_type": "markdown",
   "id": "14fafabf-858a-4adf-a0d2-a5acc8b53bf7",
   "metadata": {},
   "source": [
    "### Check if list is a subset of another list "
   ]
  },
  {
   "cell_type": "code",
   "execution_count": 16,
   "id": "616e0481-f982-4cc1-8011-00bc9d567095",
   "metadata": {},
   "outputs": [],
   "source": [
    "def subset(li1,li2):\n",
    "    \n",
    "    for i in li2:\n",
    "        if i in li1:\n",
    "            continue\n",
    "        else:\n",
    "            return False\n",
    "    return True\n",
    "    \n",
    "            "
   ]
  },
  {
   "cell_type": "code",
   "execution_count": 17,
   "id": "44d3bf50-f7ad-4667-abee-8abfb078c4ef",
   "metadata": {},
   "outputs": [],
   "source": [
    "li = [1, 9, 25, 49, 81]"
   ]
  },
  {
   "cell_type": "code",
   "execution_count": 18,
   "id": "c52b3097-4d9f-43d6-8495-c43c7db5f7f9",
   "metadata": {},
   "outputs": [],
   "source": [
    "li2 = [1, 9, 2]"
   ]
  },
  {
   "cell_type": "code",
   "execution_count": 19,
   "id": "72b9f0aa-27cc-434b-a701-40b6cc4c4810",
   "metadata": {},
   "outputs": [
    {
     "data": {
      "text/plain": [
       "False"
      ]
     },
     "execution_count": 19,
     "metadata": {},
     "output_type": "execute_result"
    }
   ],
   "source": [
    "subset(li,li2)"
   ]
  },
  {
   "cell_type": "markdown",
   "id": "3fc8b24d-b2f3-439c-b9fd-70858e135992",
   "metadata": {},
   "source": [
    "### Max difference between consecutive numbers"
   ]
  },
  {
   "cell_type": "code",
   "execution_count": 20,
   "id": "3877fd68-ff41-4dec-ad5b-83cfb6e5b50a",
   "metadata": {},
   "outputs": [],
   "source": [
    "def max_diff(li):\n",
    "    diff = 0\n",
    "    for i in range(len(li)-1):\n",
    "        if abs(li[i] - li[i+1]) > diff:\n",
    "            diff = abs(li[i+1] - li[i])\n",
    "    return diff"
   ]
  },
  {
   "cell_type": "code",
   "execution_count": 21,
   "id": "d0e822c6-22a4-455b-be38-158c771baa15",
   "metadata": {},
   "outputs": [
    {
     "data": {
      "text/plain": [
       "32"
      ]
     },
     "execution_count": 21,
     "metadata": {},
     "output_type": "execute_result"
    }
   ],
   "source": [
    "max_diff(li)"
   ]
  },
  {
   "cell_type": "markdown",
   "id": "33101148-d56b-49b1-8a92-ad13d4b11b12",
   "metadata": {},
   "source": [
    "### Merge two dictionaries"
   ]
  },
  {
   "cell_type": "code",
   "execution_count": 22,
   "id": "5d3b878f-130f-430a-bbfa-6265222e2eb2",
   "metadata": {},
   "outputs": [],
   "source": [
    "d1 = {'a':32, 'b':46}\n",
    "d2 = {'c':45, 'b':32, 'd':23}"
   ]
  },
  {
   "cell_type": "code",
   "execution_count": 23,
   "id": "1974d5db-a9be-4ee1-81f7-bf4afcaf4fff",
   "metadata": {},
   "outputs": [],
   "source": [
    "d1.update(d2)"
   ]
  },
  {
   "cell_type": "code",
   "execution_count": 24,
   "id": "0fcbac99-bba5-4102-90db-2a7aa64941ed",
   "metadata": {},
   "outputs": [
    {
     "data": {
      "text/plain": [
       "{'a': 32, 'b': 32, 'c': 45, 'd': 23}"
      ]
     },
     "execution_count": 24,
     "metadata": {},
     "output_type": "execute_result"
    }
   ],
   "source": [
    "d1"
   ]
  },
  {
   "cell_type": "code",
   "execution_count": 25,
   "id": "e1493c4c-a139-4f9e-91ba-8aae138b032c",
   "metadata": {},
   "outputs": [],
   "source": [
    "def merge_dic(d1,d2):\n",
    "    for i in d2.keys():\n",
    "        d1[i] = d2[i]\n",
    "    return d1"
   ]
  },
  {
   "cell_type": "code",
   "execution_count": 26,
   "id": "133d3f8c-c8c9-487c-8f74-206f5584c2df",
   "metadata": {},
   "outputs": [
    {
     "data": {
      "text/plain": [
       "{'a': 32, 'b': 32, 'c': 45, 'd': 23}"
      ]
     },
     "execution_count": 26,
     "metadata": {},
     "output_type": "execute_result"
    }
   ],
   "source": [
    "merge_dic(d1,d2)"
   ]
  },
  {
   "cell_type": "markdown",
   "id": "c94e4881-f7e3-433b-8fa9-bab48e957458",
   "metadata": {},
   "source": [
    "### Word frequency in a sentence"
   ]
  },
  {
   "cell_type": "code",
   "execution_count": 27,
   "id": "0f1bcaa8-2bcf-4674-bcca-4681a16f9a52",
   "metadata": {},
   "outputs": [],
   "source": [
    "sentence = \"Apple mango Apple mango\""
   ]
  },
  {
   "cell_type": "code",
   "execution_count": 28,
   "id": "6dab87bb-6fe4-4c31-9510-0c7007bc0bb2",
   "metadata": {},
   "outputs": [],
   "source": [
    "words = sentence.lower().split(\" \")"
   ]
  },
  {
   "cell_type": "code",
   "execution_count": 29,
   "id": "19193b86-1996-4a18-b913-78dfa31ca728",
   "metadata": {},
   "outputs": [
    {
     "data": {
      "text/plain": [
       "{'apple': 2, 'mango': 2}"
      ]
     },
     "execution_count": 29,
     "metadata": {},
     "output_type": "execute_result"
    }
   ],
   "source": [
    "count_di = {x:words.count(x) for x in words}\n",
    "count_di"
   ]
  }
 ],
 "metadata": {
  "kernelspec": {
   "display_name": "Python 3 (ipykernel)",
   "language": "python",
   "name": "python3"
  },
  "language_info": {
   "codemirror_mode": {
    "name": "ipython",
    "version": 3
   },
   "file_extension": ".py",
   "mimetype": "text/x-python",
   "name": "python",
   "nbconvert_exporter": "python",
   "pygments_lexer": "ipython3",
   "version": "3.12.6"
  }
 },
 "nbformat": 4,
 "nbformat_minor": 5
}
