{
 "cells": [
  {
   "cell_type": "code",
   "execution_count": 1,
   "id": "f173fc83-b9db-46a7-b728-477727284952",
   "metadata": {},
   "outputs": [],
   "source": [
    "import nltk\n",
    "from nltk.tokenize import sent_tokenize, word_tokenize"
   ]
  },
  {
   "cell_type": "code",
   "execution_count": 2,
   "id": "584a23ed-26a4-4129-9358-d3494d72d67f",
   "metadata": {},
   "outputs": [],
   "source": [
    "text = '''Fog everywhere. Fog up the river, where it flows among green aits and meadows; fog down the river, where it rolls deified among the tiers of shipping and the waterside pollutions of a great (and dirty) city. Fog on the Essex marshes, fog on the Kentish heights. Fog creeping into the cabooses of collier-brigs; fog lying out on the yards and hovering in the rigging of great ships; fog drooping on the gunwales of barges and small boats. Fog in the eyes and throats of ancient Greenwich pensioners, wheezing by the firesides of their wards; fog in the stem and bowl of the afternoon pipe of the wrathful skipper, down in his close cabin; fog cruelly pinching the toes and fingers of his shivering little apprentice boy on deck. Chance people on the bridges peeping over the parapets into a nether sky of fog, with fog all round them, as if they were up in a balloon and hanging in the misty clouds.'''"
   ]
  },
  {
   "cell_type": "markdown",
   "id": "f2c17631-b6b2-415c-b7df-a7e58b8df8ed",
   "metadata": {},
   "source": [
    "#### Sentences"
   ]
  },
  {
   "cell_type": "code",
   "execution_count": 3,
   "id": "81e7e0e4-ef6c-493b-b096-1ad6f204fad7",
   "metadata": {},
   "outputs": [],
   "source": [
    "sentences = sent_tokenize(text)"
   ]
  },
  {
   "cell_type": "code",
   "execution_count": 4,
   "id": "296c0085-5056-4ad5-9ca6-7bdc8286dd85",
   "metadata": {},
   "outputs": [
    {
     "data": {
      "text/plain": [
       "6"
      ]
     },
     "execution_count": 4,
     "metadata": {},
     "output_type": "execute_result"
    }
   ],
   "source": [
    "len(sentences)"
   ]
  },
  {
   "cell_type": "code",
   "execution_count": 5,
   "id": "9788bb3e-945c-4729-9a08-353b94ce1638",
   "metadata": {},
   "outputs": [
    {
     "name": "stdout",
     "output_type": "stream",
     "text": [
      "Fog everywhere....\n",
      "Fog up the river, where it flows among green aits and meadows; fog down the river, where it rolls deified among the tiers of shipping and the waterside pollutions of a great (and dirty) city....\n",
      "Fog on the Essex marshes, fog on the Kentish heights....\n",
      "Fog creeping into the cabooses of collier-brigs; fog lying out on the yards and hovering in the rigging of great ships; fog drooping on the gunwales of barges and small boats....\n",
      "Fog in the eyes and throats of ancient Greenwich pensioners, wheezing by the firesides of their wards; fog in the stem and bowl of the afternoon pipe of the wrathful skipper, down in his close cabin; fog cruelly pinching the toes and fingers of his shivering little apprentice boy on deck....\n",
      "Chance people on the bridges peeping over the parapets into a nether sky of fog, with fog all round them, as if they were up in a balloon and hanging in the misty clouds....\n"
     ]
    }
   ],
   "source": [
    "for sentence in sentences:\n",
    "    print(f\"{sentence}...\")"
   ]
  },
  {
   "cell_type": "markdown",
   "id": "8ea6ec0c-91b0-418b-a995-1f33c9d7b8ee",
   "metadata": {},
   "source": [
    "#### Tokens"
   ]
  },
  {
   "cell_type": "code",
   "execution_count": 6,
   "id": "698a5bc4-81f3-4d97-831f-5f571b1694d3",
   "metadata": {},
   "outputs": [],
   "source": [
    "words = word_tokenize(text)"
   ]
  },
  {
   "cell_type": "code",
   "execution_count": 7,
   "id": "cbc557c7-b5c3-49ff-b49c-0c1f0c5051bc",
   "metadata": {},
   "outputs": [
    {
     "name": "stdout",
     "output_type": "stream",
     "text": [
      "Fog\n",
      "everywhere\n",
      ".\n",
      "Fog\n",
      "up\n"
     ]
    }
   ],
   "source": [
    "for word in words[:5]:\n",
    "    print(word)"
   ]
  },
  {
   "cell_type": "markdown",
   "id": "74fd1765-992c-41f6-bb7d-a2a2661d92f4",
   "metadata": {},
   "source": [
    "#### Stopwords"
   ]
  },
  {
   "cell_type": "code",
   "execution_count": 8,
   "id": "08ddd15e-2f33-4963-86f6-5b46dc269e0b",
   "metadata": {},
   "outputs": [],
   "source": [
    "from nltk.corpus import stopwords"
   ]
  },
  {
   "cell_type": "code",
   "execution_count": 9,
   "id": "472bf4dc-4a21-4273-8f03-38a1b27bb045",
   "metadata": {},
   "outputs": [
    {
     "data": {
      "text/plain": [
       "179"
      ]
     },
     "execution_count": 9,
     "metadata": {},
     "output_type": "execute_result"
    }
   ],
   "source": [
    "stop_words = set(stopwords.words(\"english\"))\n",
    "len(stop_words)"
   ]
  },
  {
   "cell_type": "code",
   "execution_count": 10,
   "id": "3f6a7010-bba1-4aac-8909-50bddee01e53",
   "metadata": {},
   "outputs": [
    {
     "data": {
      "text/plain": [
       "['Fog',\n",
       " 'everywhere',\n",
       " '.',\n",
       " 'Fog',\n",
       " 'river',\n",
       " ',',\n",
       " 'flows',\n",
       " 'among',\n",
       " 'green',\n",
       " 'aits',\n",
       " 'meadows',\n",
       " ';',\n",
       " 'fog']"
      ]
     },
     "execution_count": 10,
     "metadata": {},
     "output_type": "execute_result"
    }
   ],
   "source": [
    "[word for word in words[:20] if not word.casefold() in stop_words]"
   ]
  },
  {
   "cell_type": "markdown",
   "id": "6bc0c61a-c111-4d66-8510-88944b8bcf2e",
   "metadata": {},
   "source": [
    "#### Stemming"
   ]
  },
  {
   "cell_type": "code",
   "execution_count": 11,
   "id": "cfd12400-19ea-4cd5-891c-acdba96f2f5e",
   "metadata": {},
   "outputs": [],
   "source": [
    "from nltk import PorterStemmer, SnowballStemmer, LancasterStemmer"
   ]
  },
  {
   "cell_type": "code",
   "execution_count": 12,
   "id": "dcf0b911-6ff1-4cf1-83b5-aa5ee1027f06",
   "metadata": {},
   "outputs": [],
   "source": [
    "ps = PorterStemmer()\n",
    "ss = SnowballStemmer(\"english\")\n",
    "ls = LancasterStemmer()"
   ]
  },
  {
   "cell_type": "code",
   "execution_count": 13,
   "id": "182e29c4-c578-4f74-818d-847ad3f7f8ae",
   "metadata": {},
   "outputs": [],
   "source": [
    "list_words = [\"give\", \"given\", \"giving\", \"gave\"]"
   ]
  },
  {
   "cell_type": "code",
   "execution_count": 14,
   "id": "cb2c71e4-769a-4c68-8c87-6a165eb18221",
   "metadata": {},
   "outputs": [],
   "source": [
    "def stemming(list_words):\n",
    "    print(\"Stemmer: Porter Stemmer\")\n",
    "    for word in list_words:\n",
    "        print(word + \":\" + ps.stem(word))\n",
    "        \n",
    "    print(\"Stemmer: Snowball Stemmer\")\n",
    "    for word in list_words:\n",
    "        print(word + \":\" + ss.stem(word))\n",
    "        \n",
    "    print(\"Stemmer: Lancaster Stemmer\")\n",
    "    for word in list_words:\n",
    "        print(word + \":\" + ls.stem(word))"
   ]
  },
  {
   "cell_type": "code",
   "execution_count": 15,
   "id": "377ca887-6926-4869-a64b-7d757156e8ef",
   "metadata": {},
   "outputs": [
    {
     "name": "stdout",
     "output_type": "stream",
     "text": [
      "Stemmer: Porter Stemmer\n",
      "give:give\n",
      "given:given\n",
      "giving:give\n",
      "gave:gave\n",
      "Stemmer: Snowball Stemmer\n",
      "give:give\n",
      "given:given\n",
      "giving:give\n",
      "gave:gave\n",
      "Stemmer: Lancaster Stemmer\n",
      "give:giv\n",
      "given:giv\n",
      "giving:giv\n",
      "gave:gav\n"
     ]
    }
   ],
   "source": [
    "stemming(list_words)"
   ]
  },
  {
   "cell_type": "markdown",
   "id": "0a8b40ec-700e-4fb0-a0c3-d598c8d26e90",
   "metadata": {},
   "source": [
    "#### Lemmatization"
   ]
  },
  {
   "cell_type": "code",
   "execution_count": 16,
   "id": "95c31a97-bc34-42f8-8d4f-13ffe597c9c5",
   "metadata": {},
   "outputs": [],
   "source": [
    "from nltk.stem import WordNetLemmatizer"
   ]
  },
  {
   "cell_type": "code",
   "execution_count": 17,
   "id": "981e1994-361b-43e5-ad43-261f40a1cdad",
   "metadata": {},
   "outputs": [],
   "source": [
    "wnl = WordNetLemmatizer()"
   ]
  },
  {
   "cell_type": "code",
   "execution_count": 18,
   "id": "23ce9e68-dbb4-4f72-86cf-ee7b68c2cf81",
   "metadata": {},
   "outputs": [
    {
     "name": "stdout",
     "output_type": "stream",
     "text": [
      "give:give\n",
      "given:given\n",
      "giving:giving\n",
      "gave:gave\n"
     ]
    }
   ],
   "source": [
    "#Without mentioning pos\n",
    "for word in list_words:\n",
    "    print(word + \":\" + wnl.lemmatize(word))"
   ]
  },
  {
   "cell_type": "code",
   "execution_count": 19,
   "id": "b863d6aa-2bc3-48c5-838a-1a2d1e4f3057",
   "metadata": {},
   "outputs": [
    {
     "name": "stdout",
     "output_type": "stream",
     "text": [
      "give:give\n",
      "given:give\n",
      "giving:give\n",
      "gave:give\n"
     ]
    }
   ],
   "source": [
    "#With POS as verb\n",
    "for word in list_words:\n",
    "    print(word + \":\" + wnl.lemmatize(word, pos=\"v\"))"
   ]
  },
  {
   "cell_type": "markdown",
   "id": "183af430-7808-491e-a45b-2ecbd979cf0f",
   "metadata": {},
   "source": [
    "#### Part Of Speech"
   ]
  },
  {
   "cell_type": "code",
   "execution_count": 21,
   "id": "4ef19e8f-f397-4402-8906-c955c1ace9c5",
   "metadata": {},
   "outputs": [
    {
     "data": {
      "text/plain": [
       "[('Fog', 'NNP'),\n",
       " ('everywhere', 'RB'),\n",
       " ('.', '.'),\n",
       " ('Fog', 'NNP'),\n",
       " ('up', 'IN'),\n",
       " ('the', 'DT'),\n",
       " ('river', 'NN'),\n",
       " (',', ','),\n",
       " ('where', 'WRB'),\n",
       " ('it', 'PRP')]"
      ]
     },
     "execution_count": 21,
     "metadata": {},
     "output_type": "execute_result"
    }
   ],
   "source": [
    "pos = nltk.pos_tag(words[:10])\n",
    "pos"
   ]
  },
  {
   "cell_type": "code",
   "execution_count": 22,
   "id": "ded11fa9-17a1-4bcd-a4f1-d4440a0cdbd6",
   "metadata": {},
   "outputs": [],
   "source": [
    "# nltk.help.upenn_tagset()"
   ]
  },
  {
   "cell_type": "code",
   "execution_count": 23,
   "id": "9866ac2c-936b-4f3a-850a-961950cba195",
   "metadata": {},
   "outputs": [
    {
     "data": {
      "image/svg+xml": [
       "<svg baseProfile=\"full\" height=\"120px\" preserveAspectRatio=\"xMidYMid meet\" style=\"font-family: times, serif; font-weight: normal; font-style: normal; font-size: 16px\" version=\"1.1\" viewBox=\"0,0,448.0,120.0\" width=\"448px\" xmlns=\"http://www.w3.org/2000/svg\" xmlns:ev=\"http://www.w3.org/2001/xml-events\" xmlns:xlink=\"http://www.w3.org/1999/xlink\"><defs /><svg width=\"100%\" x=\"0\" y=\"0px\"><defs /><text text-anchor=\"middle\" x=\"50%\" y=\"16px\">S</text></svg><svg width=\"8.92857%\" x=\"0%\" y=\"48px\"><defs /><svg width=\"100%\" x=\"0\" y=\"0px\"><defs /><text text-anchor=\"middle\" x=\"50%\" y=\"16px\">Fog</text></svg><svg width=\"100%\" x=\"0%\" y=\"48px\"><defs /><svg width=\"100%\" x=\"0\" y=\"0px\"><defs /><text text-anchor=\"middle\" x=\"50%\" y=\"16px\">NNP</text></svg></svg><line stroke=\"black\" x1=\"50%\" x2=\"50%\" y1=\"20px\" y2=\"48px\" /></svg><line stroke=\"black\" x1=\"50%\" x2=\"4.46429%\" y1=\"20px\" y2=\"48px\" /><svg width=\"21.4286%\" x=\"8.92857%\" y=\"48px\"><defs /><svg width=\"100%\" x=\"0\" y=\"0px\"><defs /><text text-anchor=\"middle\" x=\"50%\" y=\"16px\">everywhere</text></svg><svg width=\"100%\" x=\"0%\" y=\"48px\"><defs /><svg width=\"100%\" x=\"0\" y=\"0px\"><defs /><text text-anchor=\"middle\" x=\"50%\" y=\"16px\">RB</text></svg></svg><line stroke=\"black\" x1=\"50%\" x2=\"50%\" y1=\"20px\" y2=\"48px\" /></svg><line stroke=\"black\" x1=\"50%\" x2=\"19.6429%\" y1=\"20px\" y2=\"48px\" /><svg width=\"5.35714%\" x=\"30.3571%\" y=\"48px\"><defs /><svg width=\"100%\" x=\"0\" y=\"0px\"><defs /><text text-anchor=\"middle\" x=\"50%\" y=\"16px\">.</text></svg><svg width=\"100%\" x=\"0%\" y=\"48px\"><defs /><svg width=\"100%\" x=\"0\" y=\"0px\"><defs /><text text-anchor=\"middle\" x=\"50%\" y=\"16px\">.</text></svg></svg><line stroke=\"black\" x1=\"50%\" x2=\"50%\" y1=\"20px\" y2=\"48px\" /></svg><line stroke=\"black\" x1=\"50%\" x2=\"33.0357%\" y1=\"20px\" y2=\"48px\" /><svg width=\"8.92857%\" x=\"35.7143%\" y=\"48px\"><defs /><svg width=\"100%\" x=\"0\" y=\"0px\"><defs /><text text-anchor=\"middle\" x=\"50%\" y=\"16px\">Fog</text></svg><svg width=\"100%\" x=\"0%\" y=\"48px\"><defs /><svg width=\"100%\" x=\"0\" y=\"0px\"><defs /><text text-anchor=\"middle\" x=\"50%\" y=\"16px\">NNP</text></svg></svg><line stroke=\"black\" x1=\"50%\" x2=\"50%\" y1=\"20px\" y2=\"48px\" /></svg><line stroke=\"black\" x1=\"50%\" x2=\"40.1786%\" y1=\"20px\" y2=\"48px\" /><svg width=\"7.14286%\" x=\"44.6429%\" y=\"48px\"><defs /><svg width=\"100%\" x=\"0\" y=\"0px\"><defs /><text text-anchor=\"middle\" x=\"50%\" y=\"16px\">up</text></svg><svg width=\"100%\" x=\"0%\" y=\"48px\"><defs /><svg width=\"100%\" x=\"0\" y=\"0px\"><defs /><text text-anchor=\"middle\" x=\"50%\" y=\"16px\">IN</text></svg></svg><line stroke=\"black\" x1=\"50%\" x2=\"50%\" y1=\"20px\" y2=\"48px\" /></svg><line stroke=\"black\" x1=\"50%\" x2=\"48.2143%\" y1=\"20px\" y2=\"48px\" /><svg width=\"8.92857%\" x=\"51.7857%\" y=\"48px\"><defs /><svg width=\"100%\" x=\"0\" y=\"0px\"><defs /><text text-anchor=\"middle\" x=\"50%\" y=\"16px\">the</text></svg><svg width=\"100%\" x=\"0%\" y=\"48px\"><defs /><svg width=\"100%\" x=\"0\" y=\"0px\"><defs /><text text-anchor=\"middle\" x=\"50%\" y=\"16px\">DT</text></svg></svg><line stroke=\"black\" x1=\"50%\" x2=\"50%\" y1=\"20px\" y2=\"48px\" /></svg><line stroke=\"black\" x1=\"50%\" x2=\"56.25%\" y1=\"20px\" y2=\"48px\" /><svg width=\"12.5%\" x=\"60.7143%\" y=\"48px\"><defs /><svg width=\"100%\" x=\"0\" y=\"0px\"><defs /><text text-anchor=\"middle\" x=\"50%\" y=\"16px\">river</text></svg><svg width=\"100%\" x=\"0%\" y=\"48px\"><defs /><svg width=\"100%\" x=\"0\" y=\"0px\"><defs /><text text-anchor=\"middle\" x=\"50%\" y=\"16px\">NN</text></svg></svg><line stroke=\"black\" x1=\"50%\" x2=\"50%\" y1=\"20px\" y2=\"48px\" /></svg><line stroke=\"black\" x1=\"50%\" x2=\"66.9643%\" y1=\"20px\" y2=\"48px\" /><svg width=\"5.35714%\" x=\"73.2143%\" y=\"48px\"><defs /><svg width=\"100%\" x=\"0\" y=\"0px\"><defs /><text text-anchor=\"middle\" x=\"50%\" y=\"16px\">,</text></svg><svg width=\"100%\" x=\"0%\" y=\"48px\"><defs /><svg width=\"100%\" x=\"0\" y=\"0px\"><defs /><text text-anchor=\"middle\" x=\"50%\" y=\"16px\">,</text></svg></svg><line stroke=\"black\" x1=\"50%\" x2=\"50%\" y1=\"20px\" y2=\"48px\" /></svg><line stroke=\"black\" x1=\"50%\" x2=\"75.8929%\" y1=\"20px\" y2=\"48px\" /><svg width=\"12.5%\" x=\"78.5714%\" y=\"48px\"><defs /><svg width=\"100%\" x=\"0\" y=\"0px\"><defs /><text text-anchor=\"middle\" x=\"50%\" y=\"16px\">where</text></svg><svg width=\"100%\" x=\"0%\" y=\"48px\"><defs /><svg width=\"100%\" x=\"0\" y=\"0px\"><defs /><text text-anchor=\"middle\" x=\"50%\" y=\"16px\">WRB</text></svg></svg><line stroke=\"black\" x1=\"50%\" x2=\"50%\" y1=\"20px\" y2=\"48px\" /></svg><line stroke=\"black\" x1=\"50%\" x2=\"84.8214%\" y1=\"20px\" y2=\"48px\" /><svg width=\"8.92857%\" x=\"91.0714%\" y=\"48px\"><defs /><svg width=\"100%\" x=\"0\" y=\"0px\"><defs /><text text-anchor=\"middle\" x=\"50%\" y=\"16px\">it</text></svg><svg width=\"100%\" x=\"0%\" y=\"48px\"><defs /><svg width=\"100%\" x=\"0\" y=\"0px\"><defs /><text text-anchor=\"middle\" x=\"50%\" y=\"16px\">PRP</text></svg></svg><line stroke=\"black\" x1=\"50%\" x2=\"50%\" y1=\"20px\" y2=\"48px\" /></svg><line stroke=\"black\" x1=\"50%\" x2=\"95.5357%\" y1=\"20px\" y2=\"48px\" /></svg>"
      ],
      "text/plain": [
       "Tree('S', [('Fog', 'NNP'), ('everywhere', 'RB'), ('.', '.'), ('Fog', 'NNP'), ('up', 'IN'), ('the', 'DT'), ('river', 'NN'), (',', ','), ('where', 'WRB'), ('it', 'PRP')])"
      ]
     },
     "execution_count": 23,
     "metadata": {},
     "output_type": "execute_result"
    }
   ],
   "source": [
    "nltk.chunk.ne_chunk(pos)"
   ]
  },
  {
   "cell_type": "markdown",
   "id": "5d9ae05b-f173-4b18-888e-0e8ab53aa559",
   "metadata": {},
   "source": [
    "#### Named Entity Recognition"
   ]
  },
  {
   "cell_type": "code",
   "execution_count": 24,
   "id": "2ce2f6b0-6375-43bb-ae25-01c7b578f504",
   "metadata": {},
   "outputs": [
    {
     "data": {
      "image/svg+xml": [
       "<svg baseProfile=\"full\" height=\"168px\" preserveAspectRatio=\"xMidYMid meet\" style=\"font-family: times, serif; font-weight: normal; font-style: normal; font-size: 16px\" version=\"1.1\" viewBox=\"0,0,432.0,168.0\" width=\"432px\" xmlns=\"http://www.w3.org/2000/svg\" xmlns:ev=\"http://www.w3.org/2001/xml-events\" xmlns:xlink=\"http://www.w3.org/1999/xlink\"><defs /><svg width=\"100%\" x=\"0\" y=\"0px\"><defs /><text text-anchor=\"middle\" x=\"50%\" y=\"16px\">S</text></svg><svg width=\"12.963%\" x=\"0%\" y=\"48px\"><defs /><svg width=\"100%\" x=\"0\" y=\"0px\"><defs /><text text-anchor=\"middle\" x=\"50%\" y=\"16px\">GPE</text></svg><svg width=\"100%\" x=\"0%\" y=\"48px\"><defs /><svg width=\"100%\" x=\"0\" y=\"0px\"><defs /><text text-anchor=\"middle\" x=\"50%\" y=\"16px\">Essex</text></svg><svg width=\"100%\" x=\"0%\" y=\"48px\"><defs /><svg width=\"100%\" x=\"0\" y=\"0px\"><defs /><text text-anchor=\"middle\" x=\"50%\" y=\"16px\">NN</text></svg></svg><line stroke=\"black\" x1=\"50%\" x2=\"50%\" y1=\"20px\" y2=\"48px\" /></svg><line stroke=\"black\" x1=\"50%\" x2=\"50%\" y1=\"20px\" y2=\"48px\" /></svg><line stroke=\"black\" x1=\"50%\" x2=\"6.48148%\" y1=\"20px\" y2=\"48px\" /><svg width=\"16.6667%\" x=\"12.963%\" y=\"48px\"><defs /><svg width=\"100%\" x=\"0\" y=\"0px\"><defs /><text text-anchor=\"middle\" x=\"50%\" y=\"16px\">marshes</text></svg><svg width=\"100%\" x=\"0%\" y=\"48px\"><defs /><svg width=\"100%\" x=\"0\" y=\"0px\"><defs /><text text-anchor=\"middle\" x=\"50%\" y=\"16px\">NNS</text></svg></svg><line stroke=\"black\" x1=\"50%\" x2=\"50%\" y1=\"20px\" y2=\"48px\" /></svg><line stroke=\"black\" x1=\"50%\" x2=\"21.2963%\" y1=\"20px\" y2=\"48px\" /><svg width=\"5.55556%\" x=\"29.6296%\" y=\"48px\"><defs /><svg width=\"100%\" x=\"0\" y=\"0px\"><defs /><text text-anchor=\"middle\" x=\"50%\" y=\"16px\">,</text></svg><svg width=\"100%\" x=\"0%\" y=\"48px\"><defs /><svg width=\"100%\" x=\"0\" y=\"0px\"><defs /><text text-anchor=\"middle\" x=\"50%\" y=\"16px\">,</text></svg></svg><line stroke=\"black\" x1=\"50%\" x2=\"50%\" y1=\"20px\" y2=\"48px\" /></svg><line stroke=\"black\" x1=\"50%\" x2=\"32.4074%\" y1=\"20px\" y2=\"48px\" /><svg width=\"9.25926%\" x=\"35.1852%\" y=\"48px\"><defs /><svg width=\"100%\" x=\"0\" y=\"0px\"><defs /><text text-anchor=\"middle\" x=\"50%\" y=\"16px\">fog</text></svg><svg width=\"100%\" x=\"0%\" y=\"48px\"><defs /><svg width=\"100%\" x=\"0\" y=\"0px\"><defs /><text text-anchor=\"middle\" x=\"50%\" y=\"16px\">NN</text></svg></svg><line stroke=\"black\" x1=\"50%\" x2=\"50%\" y1=\"20px\" y2=\"48px\" /></svg><line stroke=\"black\" x1=\"50%\" x2=\"39.8148%\" y1=\"20px\" y2=\"48px\" /><svg width=\"7.40741%\" x=\"44.4444%\" y=\"48px\"><defs /><svg width=\"100%\" x=\"0\" y=\"0px\"><defs /><text text-anchor=\"middle\" x=\"50%\" y=\"16px\">on</text></svg><svg width=\"100%\" x=\"0%\" y=\"48px\"><defs /><svg width=\"100%\" x=\"0\" y=\"0px\"><defs /><text text-anchor=\"middle\" x=\"50%\" y=\"16px\">IN</text></svg></svg><line stroke=\"black\" x1=\"50%\" x2=\"50%\" y1=\"20px\" y2=\"48px\" /></svg><line stroke=\"black\" x1=\"50%\" x2=\"48.1481%\" y1=\"20px\" y2=\"48px\" /><svg width=\"9.25926%\" x=\"51.8519%\" y=\"48px\"><defs /><svg width=\"100%\" x=\"0\" y=\"0px\"><defs /><text text-anchor=\"middle\" x=\"50%\" y=\"16px\">the</text></svg><svg width=\"100%\" x=\"0%\" y=\"48px\"><defs /><svg width=\"100%\" x=\"0\" y=\"0px\"><defs /><text text-anchor=\"middle\" x=\"50%\" y=\"16px\">DT</text></svg></svg><line stroke=\"black\" x1=\"50%\" x2=\"50%\" y1=\"20px\" y2=\"48px\" /></svg><line stroke=\"black\" x1=\"50%\" x2=\"56.4815%\" y1=\"20px\" y2=\"48px\" /><svg width=\"16.6667%\" x=\"61.1111%\" y=\"48px\"><defs /><svg width=\"100%\" x=\"0\" y=\"0px\"><defs /><text text-anchor=\"middle\" x=\"50%\" y=\"16px\">GPE</text></svg><svg width=\"100%\" x=\"0%\" y=\"48px\"><defs /><svg width=\"100%\" x=\"0\" y=\"0px\"><defs /><text text-anchor=\"middle\" x=\"50%\" y=\"16px\">Kentish</text></svg><svg width=\"100%\" x=\"0%\" y=\"48px\"><defs /><svg width=\"100%\" x=\"0\" y=\"0px\"><defs /><text text-anchor=\"middle\" x=\"50%\" y=\"16px\">NNP</text></svg></svg><line stroke=\"black\" x1=\"50%\" x2=\"50%\" y1=\"20px\" y2=\"48px\" /></svg><line stroke=\"black\" x1=\"50%\" x2=\"50%\" y1=\"20px\" y2=\"48px\" /></svg><line stroke=\"black\" x1=\"50%\" x2=\"69.4444%\" y1=\"20px\" y2=\"48px\" /><svg width=\"16.6667%\" x=\"77.7778%\" y=\"48px\"><defs /><svg width=\"100%\" x=\"0\" y=\"0px\"><defs /><text text-anchor=\"middle\" x=\"50%\" y=\"16px\">heights</text></svg><svg width=\"100%\" x=\"0%\" y=\"48px\"><defs /><svg width=\"100%\" x=\"0\" y=\"0px\"><defs /><text text-anchor=\"middle\" x=\"50%\" y=\"16px\">NNS</text></svg></svg><line stroke=\"black\" x1=\"50%\" x2=\"50%\" y1=\"20px\" y2=\"48px\" /></svg><line stroke=\"black\" x1=\"50%\" x2=\"86.1111%\" y1=\"20px\" y2=\"48px\" /><svg width=\"5.55556%\" x=\"94.4444%\" y=\"48px\"><defs /><svg width=\"100%\" x=\"0\" y=\"0px\"><defs /><text text-anchor=\"middle\" x=\"50%\" y=\"16px\">.</text></svg><svg width=\"100%\" x=\"0%\" y=\"48px\"><defs /><svg width=\"100%\" x=\"0\" y=\"0px\"><defs /><text text-anchor=\"middle\" x=\"50%\" y=\"16px\">.</text></svg></svg><line stroke=\"black\" x1=\"50%\" x2=\"50%\" y1=\"20px\" y2=\"48px\" /></svg><line stroke=\"black\" x1=\"50%\" x2=\"97.2222%\" y1=\"20px\" y2=\"48px\" /></svg>"
      ],
      "text/plain": [
       "Tree('S', [Tree('GPE', [('Essex', 'NN')]), ('marshes', 'NNS'), (',', ','), ('fog', 'NN'), ('on', 'IN'), ('the', 'DT'), Tree('GPE', [('Kentish', 'NNP')]), ('heights', 'NNS'), ('.', '.')])"
      ]
     },
     "execution_count": 24,
     "metadata": {},
     "output_type": "execute_result"
    }
   ],
   "source": [
    "nltk.ne_chunk(nltk.pos_tag(words[47:56]))"
   ]
  },
  {
   "cell_type": "markdown",
   "id": "f34c806a-1cf0-4488-a3ae-21a79fc155a7",
   "metadata": {},
   "source": [
    "#### Frequency Distribution"
   ]
  },
  {
   "cell_type": "code",
   "execution_count": 25,
   "id": "008f0b42-a42f-4e56-9ee6-67fa4038f86d",
   "metadata": {},
   "outputs": [],
   "source": [
    "from nltk.probability import FreqDist"
   ]
  },
  {
   "cell_type": "code",
   "execution_count": 26,
   "id": "f928c2ce-ba5a-4406-9a0a-04de8952386d",
   "metadata": {},
   "outputs": [],
   "source": [
    "freqdist = FreqDist(words)\n"
   ]
  },
  {
   "cell_type": "code",
   "execution_count": 27,
   "id": "5a0ca63b-2aff-4d44-ae41-e2fb27fd904a",
   "metadata": {},
   "outputs": [
    {
     "data": {
      "text/plain": [
       "FreqDist({'the': 19, 'of': 11, 'and': 9, 'fog': 8, ',': 7, '.': 6, 'on': 6, 'in': 6, 'Fog': 5, ';': 5, ...})"
      ]
     },
     "execution_count": 27,
     "metadata": {},
     "output_type": "execute_result"
    }
   ],
   "source": [
    "freqdist"
   ]
  },
  {
   "cell_type": "code",
   "execution_count": 28,
   "id": "c466f161-2d61-41ec-b988-bd26c3384ed6",
   "metadata": {},
   "outputs": [
    {
     "data": {
      "text/plain": [
       "[('the', 19), ('of', 11), ('and', 9), ('fog', 8), (',', 7)]"
      ]
     },
     "execution_count": 28,
     "metadata": {},
     "output_type": "execute_result"
    }
   ],
   "source": [
    "freqdist.most_common(5)"
   ]
  },
  {
   "cell_type": "code",
   "execution_count": 29,
   "id": "b1880fc2-d35c-48f0-a403-c221aff8b950",
   "metadata": {},
   "outputs": [
    {
     "data": {
      "text/plain": [
       "<Axes: xlabel='Samples', ylabel='Cumulative Counts'>"
      ]
     },
     "execution_count": 29,
     "metadata": {},
     "output_type": "execute_result"
    },
    {
     "data": {
      "image/png": "[encoded data removed]",
      "text/plain": [
       "<Figure size 640x480 with 1 Axes>"
      ]
     },
     "metadata": {},
     "output_type": "display_data"
    }
   ],
   "source": [
    "freqdist.plot(20, cumulative=True)"
   ]
  },
  {
   "cell_type": "markdown",
   "id": "8fe67a5d-2460-49f9-ac5c-5ec1730cfeee",
   "metadata": {},
   "source": [
    "#### Collocation"
   ]
  },
  {
   "cell_type": "code",
   "execution_count": 30,
   "id": "7923a285-8472-4e62-b736-79c923d778f4",
   "metadata": {},
   "outputs": [],
   "source": [
    "from nltk.util import bigrams, trigrams, ngrams"
   ]
  },
  {
   "cell_type": "code",
   "execution_count": 31,
   "id": "11db97ea-54da-4dc0-a41b-98551e08db5d",
   "metadata": {},
   "outputs": [
    {
     "data": {
      "text/plain": [
       "[('Fog', 'everywhere'),\n",
       " ('everywhere', '.'),\n",
       " ('.', 'Fog'),\n",
       " ('Fog', 'up'),\n",
       " ('up', 'the')]"
      ]
     },
     "execution_count": 31,
     "metadata": {},
     "output_type": "execute_result"
    }
   ],
   "source": [
    "list(bigrams(words))[:5]"
   ]
  },
  {
   "cell_type": "code",
   "execution_count": 32,
   "id": "d700c4b6-2616-4062-8364-83c55a32c286",
   "metadata": {},
   "outputs": [
    {
     "data": {
      "text/plain": [
       "[('Fog', 'everywhere', '.'),\n",
       " ('everywhere', '.', 'Fog'),\n",
       " ('.', 'Fog', 'up'),\n",
       " ('Fog', 'up', 'the'),\n",
       " ('up', 'the', 'river')]"
      ]
     },
     "execution_count": 32,
     "metadata": {},
     "output_type": "execute_result"
    }
   ],
   "source": [
    "list(trigrams(words))[:5]"
   ]
  },
  {
   "cell_type": "code",
   "execution_count": 33,
   "id": "999f9ff1-e432-4846-925a-586c39eedcd1",
   "metadata": {},
   "outputs": [
    {
     "data": {
      "text/plain": [
       "[('Fog', 'everywhere', '.', 'Fog'),\n",
       " ('everywhere', '.', 'Fog', 'up'),\n",
       " ('.', 'Fog', 'up', 'the'),\n",
       " ('Fog', 'up', 'the', 'river'),\n",
       " ('up', 'the', 'river', ',')]"
      ]
     },
     "execution_count": 33,
     "metadata": {},
     "output_type": "execute_result"
    }
   ],
   "source": [
    "list(ngrams(words,4))[:5]"
   ]
  }
 ],
 "metadata": {
  "kernelspec": {
   "display_name": "Python 3 (ipykernel)",
   "language": "python",
   "name": "python3"
  },
  "language_info": {
   "codemirror_mode": {
    "name": "ipython",
    "version": 3
   },
   "file_extension": ".py",
   "mimetype": "text/x-python",
   "name": "python",
   "nbconvert_exporter": "python",
   "pygments_lexer": "ipython3",
   "version": "3.12.6"
  }
 },
 "nbformat": 4,
 "nbformat_minor": 5
}
