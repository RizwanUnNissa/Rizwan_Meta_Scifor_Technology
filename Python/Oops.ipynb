{
 "cells": [
  {
   "cell_type": "markdown",
   "id": "1196fb43-75f4-4306-99dd-d0bdf7269a1e",
   "metadata": {},
   "source": [
    "##### Method Overloading"
   ]
  },
  {
   "cell_type": "code",
   "execution_count": 1,
   "id": "4d672a7e-1e50-4ce4-9a9e-b715455112bb",
   "metadata": {},
   "outputs": [],
   "source": [
    "class Operation:\n",
    "    def add(self,a=None,b=None,c=None):\n",
    "        if a is not None and b is not None and c is not None:\n",
    "            return a+b+c\n",
    "        elif a is not None and b is not None:\n",
    "            return a+b\n",
    "        elif a is not None:\n",
    "            return a\n",
    "        else:\n",
    "            return \"No arguments given!\"\n",
    "    "
   ]
  },
  {
   "cell_type": "code",
   "execution_count": 3,
   "id": "56e6d3d9-00b2-4205-b766-7e2fb2244a10",
   "metadata": {},
   "outputs": [],
   "source": [
    "s = Operation()"
   ]
  },
  {
   "cell_type": "code",
   "execution_count": 5,
   "id": "2e76de3d-1328-4871-b2d2-41d4ae48fb5c",
   "metadata": {},
   "outputs": [
    {
     "name": "stdout",
     "output_type": "stream",
     "text": [
      "3\n",
      "6\n",
      "1\n",
      "No arguments given!\n"
     ]
    }
   ],
   "source": [
    "print(s.add(1,2))\n",
    "print(s.add(1,2,3))\n",
    "print(s.add(1))\n",
    "print(s.add())"
   ]
  },
  {
   "cell_type": "markdown",
   "id": "292b7e63-343a-4ce9-9596-1f860ae8e0bc",
   "metadata": {},
   "source": [
    "##### Method overriding"
   ]
  },
  {
   "cell_type": "code",
   "execution_count": 6,
   "id": "26dfad5d-8369-475c-9d4a-4f3a1ab3d2c3",
   "metadata": {},
   "outputs": [],
   "source": [
    "class Operation:\n",
    "    def add(self,a,b):\n",
    "        return (f'Addition of two numbers is: {a+b}')\n",
    "        "
   ]
  },
  {
   "cell_type": "code",
   "execution_count": 8,
   "id": "2fabbedf-af84-45c4-a581-954a3782e04a",
   "metadata": {},
   "outputs": [],
   "source": [
    "class Addition(Operation):\n",
    "    def add(self,a,b): #Overriding add method\n",
    "        return (f'Addition of two numbers is : {float(a)+float(b)}')"
   ]
  },
  {
   "cell_type": "code",
   "execution_count": 9,
   "id": "962c7637-ee9a-4bdf-9d01-fe8caf7adf97",
   "metadata": {},
   "outputs": [
    {
     "name": "stdout",
     "output_type": "stream",
     "text": [
      "Operation class function: Addition of two numbers is: 15\n",
      "Addition class function: Addition of two numbers is : 15.0\n"
     ]
    }
   ],
   "source": [
    "o = Operation()\n",
    "s = Addition()\n",
    "print(f\"Operation class function: {o.add(5,10)}\")\n",
    "print(f\"Addition class function: {s.add(5,10)}\")\n",
    "\n"
   ]
  },
  {
   "cell_type": "markdown",
   "id": "41cf0291-fff7-4945-bb5e-4ae6eae4acd6",
   "metadata": {},
   "source": [
    "##### Encapsulation"
   ]
  },
  {
   "cell_type": "code",
   "execution_count": 13,
   "id": "2c662824-c5db-4c6e-b513-7646f651c450",
   "metadata": {},
   "outputs": [],
   "source": [
    "class Car:\n",
    "    def __init__(self, brand,model,color,year):\n",
    "        self.__brand = brand\n",
    "        self.model = model\n",
    "        self._color = color\n",
    "        self.year = year\n",
    "        \n",
    "    def get_brand(self):\n",
    "        return (f\"The brand of the {self.model} is {self.__brand}\")\n",
    "        \n",
    "    def acceleration(self):\n",
    "        return (f\"{self.model} is accelerating!\")\n",
    "    "
   ]
  },
  {
   "cell_type": "code",
   "execution_count": 14,
   "id": "ab5be181-d52c-4f50-a0f4-5a14debdb03b",
   "metadata": {},
   "outputs": [],
   "source": [
    "car1 = Car(\"Tesla\", \"Model S\", \"Black\", 2023)"
   ]
  },
  {
   "cell_type": "code",
   "execution_count": 15,
   "id": "fe259bdc-5e2f-4b1a-82bb-c917d2b539e1",
   "metadata": {},
   "outputs": [
    {
     "data": {
      "text/plain": [
       "'The brand of the Model S is Tesla'"
      ]
     },
     "execution_count": 15,
     "metadata": {},
     "output_type": "execute_result"
    }
   ],
   "source": [
    "car1.get_brand()"
   ]
  },
  {
   "cell_type": "code",
   "execution_count": 16,
   "id": "2e1e8fdf-52ee-4f29-b796-cad3e3dc9ac8",
   "metadata": {},
   "outputs": [
    {
     "data": {
      "text/plain": [
       "'Model S is accelerating!'"
      ]
     },
     "execution_count": 16,
     "metadata": {},
     "output_type": "execute_result"
    }
   ],
   "source": [
    "car1.acceleration()"
   ]
  },
  {
   "cell_type": "code",
   "execution_count": 17,
   "id": "9758d7aa-1349-4b90-a5f6-6cf3da3583bb",
   "metadata": {},
   "outputs": [
    {
     "name": "stdout",
     "output_type": "stream",
     "text": [
      "_Car__brand : Tesla\n",
      "model : Model S\n",
      "_color : Black\n",
      "year : 2023\n"
     ]
    }
   ],
   "source": [
    "for key,value in car1.__dict__.items():\n",
    "    print(\"{} : {}\".format(key,value))"
   ]
  },
  {
   "cell_type": "markdown",
   "id": "19ce2cbc-f3aa-4eda-9513-d07418a629ad",
   "metadata": {},
   "source": [
    "##### Polymorphism"
   ]
  },
  {
   "cell_type": "code",
   "execution_count": 18,
   "id": "f59f5f40-d2f6-4567-ab8b-0f0563d83ae0",
   "metadata": {},
   "outputs": [],
   "source": [
    "class Animal:\n",
    "    def make_sound(self):\n",
    "        print(\"All animals make some sound\")\n",
    "class Dog(Animal):\n",
    "    def make_sound(self):\n",
    "        print(\"Dogs Woof!\")\n",
    "class Cat(Animal):\n",
    "    def make_sound(self):\n",
    "        print(\"Cats Meow!\")\n",
    "\n",
    "def speak(animal):\n",
    "    animal.make_sound()\n"
   ]
  },
  {
   "cell_type": "code",
   "execution_count": 19,
   "id": "9629ffbf-614a-4e45-b59c-c7b3b0ab6f81",
   "metadata": {},
   "outputs": [
    {
     "name": "stdout",
     "output_type": "stream",
     "text": [
      "All animals make some sound\n",
      "Dogs Woof!\n",
      "Cats Meow!\n"
     ]
    }
   ],
   "source": [
    "a = Animal()\n",
    "dog = Dog()\n",
    "cat = Cat()\n",
    "\n",
    "speak(a) #access make_sound function of parent class\n",
    "speak(dog) #access make_sound function of child class -Dog\n",
    "speak(cat) #access make_sound function of child class -Cat"
   ]
  },
  {
   "cell_type": "markdown",
   "id": "ce76ff77-7c60-4720-9e76-3f8edf4bbcee",
   "metadata": {},
   "source": [
    "##### Single Inhertitance"
   ]
  },
  {
   "cell_type": "code",
   "execution_count": 20,
   "id": "edb90787-dc53-4634-860f-0a1630f51450",
   "metadata": {},
   "outputs": [],
   "source": [
    "class Animal:\n",
    "    def make_sound(self):\n",
    "        print(\"All animals make some sound\")\n",
    "class Dog(Animal):\n",
    "    def bark(self):\n",
    "        print(\"Dogs Woof!\")"
   ]
  },
  {
   "cell_type": "code",
   "execution_count": 21,
   "id": "3c2af0e0-19ab-4d7b-9cc4-10ec81db400d",
   "metadata": {},
   "outputs": [
    {
     "name": "stdout",
     "output_type": "stream",
     "text": [
      "All animals make some sound\n",
      "Dogs Woof!\n"
     ]
    }
   ],
   "source": [
    "dog = Dog()\n",
    "dog.make_sound() #Dog class inherits make_sound function from Animal class\n",
    "dog.bark()"
   ]
  },
  {
   "cell_type": "markdown",
   "id": "c9261630-b204-4691-b403-4c1637798e67",
   "metadata": {},
   "source": [
    "##### Hierarchical Inheritance (Multiple child classes inheriting functionality of same base class)"
   ]
  },
  {
   "cell_type": "code",
   "execution_count": 22,
   "id": "fb7ffa96-dc82-4831-b9d0-e9e3ba575019",
   "metadata": {},
   "outputs": [],
   "source": [
    "class Animal:\n",
    "    def make_sound(self):\n",
    "        print(\"All animals make some sound\")\n",
    "        \n",
    "class Dog(Animal):\n",
    "    def bark(self):\n",
    "        print(\"Dogs Woof!\")\n",
    "        \n",
    "class Cat(Animal):\n",
    "    def meow(self):\n",
    "        print(\"Cats Meow!\")"
   ]
  },
  {
   "cell_type": "code",
   "execution_count": 23,
   "id": "0f76e648-23a9-43cf-9ea3-a283d32c5af0",
   "metadata": {},
   "outputs": [
    {
     "name": "stdout",
     "output_type": "stream",
     "text": [
      "All animals make some sound\n",
      "Dogs Woof!\n",
      "All animals make some sound\n",
      "Cats Meow!\n"
     ]
    }
   ],
   "source": [
    "dog = Dog()\n",
    "dog.make_sound() #Dog class inherits make_sound function from Animal class\n",
    "dog.bark()\n",
    "\n",
    "cat = Cat()\n",
    "cat.make_sound() #Cat class inherits make_sound function from Animal class\n",
    "cat.meow()"
   ]
  },
  {
   "cell_type": "markdown",
   "id": "e1217d9c-c4dc-4eeb-9fc2-92d47668658a",
   "metadata": {},
   "source": [
    "##### Multiple Inheritance (Child class inheriting functionality of multiple base classes)"
   ]
  },
  {
   "cell_type": "code",
   "execution_count": 25,
   "id": "ee2247fa-58ea-415d-9ecb-177b106690ac",
   "metadata": {},
   "outputs": [],
   "source": [
    "class Father:\n",
    "    def skills(self):\n",
    "        print(\"Father's skills\")\n",
    "\n",
    "class Mother:\n",
    "    def skills(Self):\n",
    "        print(\"Mother's skills\")\n",
    "\n",
    "class Child(Father, Mother):\n",
    "    def skills(self):\n",
    "        super().skills()\n",
    "        print(\"Child's skills\")\n",
    "    \n",
    "    "
   ]
  },
  {
   "cell_type": "code",
   "execution_count": 26,
   "id": "68c0a2f9-cc7b-48b2-89e8-30dbf1677d90",
   "metadata": {},
   "outputs": [
    {
     "name": "stdout",
     "output_type": "stream",
     "text": [
      "Father's skills\n",
      "Child's skills\n"
     ]
    }
   ],
   "source": [
    "child = Child()\n",
    "child.skills()"
   ]
  },
  {
   "cell_type": "code",
   "execution_count": 27,
   "id": "56b26d2e-01d4-4a65-90ef-640882ffda63",
   "metadata": {},
   "outputs": [
    {
     "name": "stdout",
     "output_type": "stream",
     "text": [
      "True\n",
      "True\n"
     ]
    }
   ],
   "source": [
    "print(isinstance(child,Father))\n",
    "print(isinstance(child,Mother))"
   ]
  },
  {
   "cell_type": "markdown",
   "id": "090dbc92-9ddb-4311-9eae-e13dd581d58d",
   "metadata": {},
   "source": [
    "##### Multilevel Inheritance (Derived class inherits functionality of another derived class which in turn inherits functionality of base class)"
   ]
  },
  {
   "cell_type": "code",
   "execution_count": 28,
   "id": "a2a068fc-7683-419d-8298-67b935d6c599",
   "metadata": {},
   "outputs": [],
   "source": [
    "class Animal():\n",
    "    def __init__(self,name):\n",
    "        self.name = name\n",
    "\n",
    "class Dog(Animal):\n",
    "    def is_dog(self):\n",
    "        return f\"{self.name} is a dog.\"\n",
    "\n",
    "class Puppy(Dog):\n",
    "    def cry(self):\n",
    "        return f'{self.name} cries!'\n"
   ]
  },
  {
   "cell_type": "code",
   "execution_count": 29,
   "id": "08dbddd8-fe86-4919-9efc-a35de12ee003",
   "metadata": {},
   "outputs": [
    {
     "name": "stdout",
     "output_type": "stream",
     "text": [
      "Tommy is a dog.\n",
      "Tommy cries!\n"
     ]
    }
   ],
   "source": [
    "pup = Puppy(\"Tommy\")\n",
    "print(pup.is_dog())\n",
    "print(pup.cry())"
   ]
  },
  {
   "cell_type": "markdown",
   "id": "0506b917-f003-4a83-bb81-51bef3b671c4",
   "metadata": {},
   "source": [
    "##### Hybrid Inheritance (Combination of Multiple and Multilevel Inheritance)"
   ]
  },
  {
   "cell_type": "code",
   "execution_count": 30,
   "id": "2fd96447-3141-4bc8-ab54-62b5c2ecaba4",
   "metadata": {},
   "outputs": [],
   "source": [
    "class Animal: #Parent class 1\n",
    "    def __init__(self,name):\n",
    "        self.name = name\n",
    "\n",
    "    def speak(self):\n",
    "        print(f\"{self.name} makes a sound\")\n",
    "\n",
    "class Dog(Animal): #Derived class\n",
    "    def speak(self):\n",
    "        print(f\"{self.name} says Woof!\")\n",
    "\n",
    "class Puppy(Dog): #Derived class # Multilevel inheritance\n",
    "    def speak(self):\n",
    "        print(f\"{self.name} says Yip!\")\n",
    "\n",
    "class Bird: #Parent class 2\n",
    "    def __init__(self,name):\n",
    "        self.name = name\n",
    "\n",
    "    def fly(self):\n",
    "        print(f\"{self.name} can fly!\")\n",
    "        \n",
    "class FlyingDog(Dog,Bird): #Multiple Inheritance\n",
    "    pass\n",
    "\n",
    "class FlyingPuppy(Puppy,FlyingDog): #Hybrid inheritance\n",
    "    pass\n",
    "\n",
    "    \n",
    "\n",
    "    "
   ]
  },
  {
   "cell_type": "code",
   "execution_count": 31,
   "id": "f0519953-0849-4d75-8fea-c303a7b4e2a8",
   "metadata": {},
   "outputs": [],
   "source": [
    "dog = Dog(\"Buddy\")\n",
    "puppy = Puppy(\"Tommy\")\n",
    "flying_dog = FlyingDog(\"Sam\")\n",
    "flying_puppy = FlyingPuppy(\"George\")"
   ]
  },
  {
   "cell_type": "code",
   "execution_count": 32,
   "id": "8025ebee-7ffd-4675-b027-7f006aaa3d06",
   "metadata": {},
   "outputs": [
    {
     "name": "stdout",
     "output_type": "stream",
     "text": [
      "Buddy says Woof!\n",
      "Tommy says Yip!\n",
      "Sam says Woof!\n",
      "Sam can fly!\n",
      "George says Yip!\n",
      "George can fly!\n"
     ]
    }
   ],
   "source": [
    "dog.speak()\n",
    "puppy.speak()\n",
    "flying_dog.speak()\n",
    "flying_dog.fly()\n",
    "flying_puppy.speak()\n",
    "flying_puppy.fly()"
   ]
  },
  {
   "cell_type": "markdown",
   "id": "6836786e-98a0-4313-914a-b531db6abbb2",
   "metadata": {},
   "source": [
    "##### Decorators"
   ]
  },
  {
   "cell_type": "code",
   "execution_count": 33,
   "id": "7ce61830-d6b4-4d0b-aa55-983fed976852",
   "metadata": {},
   "outputs": [],
   "source": [
    "def my_decorator(func):\n",
    "    def wrapper():\n",
    "        result = func().upper()\n",
    "        return result\n",
    "    return wrapper"
   ]
  },
  {
   "cell_type": "code",
   "execution_count": 34,
   "id": "dba612e1-1734-4f9a-8baf-29bef4de8bb1",
   "metadata": {},
   "outputs": [],
   "source": [
    "@my_decorator\n",
    "def greeting():\n",
    "    return(\"Hello!\")"
   ]
  },
  {
   "cell_type": "code",
   "execution_count": 35,
   "id": "78498c52-3bfd-401f-a8a6-0824bbbfdee1",
   "metadata": {},
   "outputs": [
    {
     "data": {
      "text/plain": [
       "'HELLO!'"
      ]
     },
     "execution_count": 35,
     "metadata": {},
     "output_type": "execute_result"
    }
   ],
   "source": [
    "greeting()"
   ]
  },
  {
   "cell_type": "code",
   "execution_count": 36,
   "id": "1134c161-4460-4a3d-841e-dc1ad558c54c",
   "metadata": {},
   "outputs": [],
   "source": [
    "def IntegerOutput(func):\n",
    "    def wrapper(a,b):\n",
    "        if b!=0:\n",
    "            result = int(func(a,b))\n",
    "            return result\n",
    "        else:\n",
    "            return \"Not Divisible\"\n",
    "    return wrapper"
   ]
  },
  {
   "cell_type": "code",
   "execution_count": 37,
   "id": "5ba44e4f-3175-467b-926f-8d767953ad8a",
   "metadata": {},
   "outputs": [],
   "source": [
    "@IntegerOutput\n",
    "def divide(a,b):\n",
    "    return a/b"
   ]
  },
  {
   "cell_type": "code",
   "execution_count": 38,
   "id": "d36863c7-1f69-46c6-aacf-576a46174a20",
   "metadata": {},
   "outputs": [
    {
     "data": {
      "text/plain": [
       "7"
      ]
     },
     "execution_count": 38,
     "metadata": {},
     "output_type": "execute_result"
    }
   ],
   "source": [
    "divide(49,7)"
   ]
  },
  {
   "cell_type": "code",
   "execution_count": 39,
   "id": "9377d140-44ae-4d1c-bf91-e7468cbcf331",
   "metadata": {},
   "outputs": [
    {
     "data": {
      "text/plain": [
       "'Not Divisible'"
      ]
     },
     "execution_count": 39,
     "metadata": {},
     "output_type": "execute_result"
    }
   ],
   "source": [
    "divide(49,0)"
   ]
  }
 ],
 "metadata": {
  "kernelspec": {
   "display_name": "Python 3 (ipykernel)",
   "language": "python",
   "name": "python3"
  },
  "language_info": {
   "codemirror_mode": {
    "name": "ipython",
    "version": 3
   },
   "file_extension": ".py",
   "mimetype": "text/x-python",
   "name": "python",
   "nbconvert_exporter": "python",
   "pygments_lexer": "ipython3",
   "version": "3.12.6"
  }
 },
 "nbformat": 4,
 "nbformat_minor": 5
}
