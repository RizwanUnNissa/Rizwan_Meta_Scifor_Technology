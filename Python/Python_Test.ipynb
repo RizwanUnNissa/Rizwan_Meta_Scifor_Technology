{
 "cells": [
  {
   "cell_type": "markdown",
   "id": "65d95501-357a-489a-965f-a6a3107db344",
   "metadata": {},
   "source": [
    "1. What are Python data types?"
   ]
  },
  {
   "cell_type": "markdown",
   "id": "a0896c5c-affa-4ca9-8c03-f05f9bff28eb",
   "metadata": {},
   "source": [
    "Python data types are the in-built classes that represent what type of an object is created. Various data types are:\n",
    "Integer, float, string, boolean, list, tuple, dictionary, set etc."
   ]
  },
  {
   "cell_type": "code",
   "execution_count": 5,
   "id": "00d59a9a-75e8-4dc0-8337-fe380217d9ae",
   "metadata": {},
   "outputs": [
    {
     "name": "stdout",
     "output_type": "stream",
     "text": [
      "<class 'int'>\n",
      "<class 'float'>\n",
      "<class 'str'>\n",
      "<class 'bool'>\n",
      "<class 'list'>\n",
      "<class 'tuple'>\n",
      "<class 'dict'>\n",
      "<class 'set'>\n"
     ]
    }
   ],
   "source": [
    "a = 5\n",
    "print(type(a))\n",
    "b = 5.0\n",
    "print(type(b))\n",
    "c = \"abc\"\n",
    "print(type(c))\n",
    "d = True\n",
    "print(type(d))\n",
    "e = [1,2]\n",
    "print(type(e))\n",
    "f = (5,)\n",
    "print(type(f))\n",
    "g = {}\n",
    "print(type(g))\n",
    "h = {1,}\n",
    "print(type(h))\n"
   ]
  },
  {
   "cell_type": "markdown",
   "id": "308da418-a65c-40e3-96da-33dc6c944a71",
   "metadata": {},
   "source": [
    "2 . Explain the difference between list, tuple, and set.\n"
   ]
  },
  {
   "cell_type": "markdown",
   "id": "45089766-7f99-48a9-aae6-fc02f93912dd",
   "metadata": {},
   "source": [
    "List, tuple and set all store a collection of data items but the key difference are:<br>\n",
    "a) lists and sets are mutable while as tuple is unmutable i.e, we cannot change items in a tuple once it is created. <br>\n",
    "b) lists and tuples are ordered i.e, items can be accessed using index while as sets are unordered and items cannot be accessed using an index.<br>\n",
    "c) list and tuples can hold duplicate values but the items in a set are unique."
   ]
  },
  {
   "cell_type": "code",
   "execution_count": 7,
   "id": "ba6237d2-e68b-44e9-857c-1d57c5bb537c",
   "metadata": {},
   "outputs": [],
   "source": [
    "l = [1,2,2,3,4]\n",
    "t = (1,2,3,4,5,2)\n",
    "s = {1,2,2,3}"
   ]
  },
  {
   "cell_type": "markdown",
   "id": "3b46ccbc-7c1d-4057-b890-f5b68bf8c999",
   "metadata": {},
   "source": [
    "###### Uniqueness"
   ]
  },
  {
   "cell_type": "code",
   "execution_count": 10,
   "id": "05b8ae53-3520-43aa-954c-05278e4c5eb3",
   "metadata": {},
   "outputs": [
    {
     "name": "stdout",
     "output_type": "stream",
     "text": [
      "[1, 2, 2, 3, 4]\n",
      "(1, 2, 3, 4, 5, 2)\n",
      "{1, 2, 3}\n"
     ]
    }
   ],
   "source": [
    "print(l)\n",
    "print(t)\n",
    "print(s) #no duplicates in s"
   ]
  },
  {
   "cell_type": "markdown",
   "id": "45d8fe07-5c69-4fce-a399-4bbd1cb4dd24",
   "metadata": {},
   "source": [
    "###### Ordering"
   ]
  },
  {
   "cell_type": "code",
   "execution_count": 13,
   "id": "43a91954-ac14-4956-b75e-0c0c958edb3e",
   "metadata": {},
   "outputs": [
    {
     "name": "stdout",
     "output_type": "stream",
     "text": [
      "1\n",
      "1\n"
     ]
    },
    {
     "ename": "TypeError",
     "evalue": "'set' object is not subscriptable",
     "output_type": "error",
     "traceback": [
      "\u001b[1;31m---------------------------------------------------------------------------\u001b[0m",
      "\u001b[1;31mTypeError\u001b[0m                                 Traceback (most recent call last)",
      "Cell \u001b[1;32mIn[13], line 3\u001b[0m\n\u001b[0;32m      1\u001b[0m \u001b[38;5;28mprint\u001b[39m(l[\u001b[38;5;241m0\u001b[39m])\n\u001b[0;32m      2\u001b[0m \u001b[38;5;28mprint\u001b[39m(t[\u001b[38;5;241m0\u001b[39m])\n\u001b[1;32m----> 3\u001b[0m \u001b[38;5;28mprint\u001b[39m(\u001b[43ms\u001b[49m\u001b[43m[\u001b[49m\u001b[38;5;241;43m0\u001b[39;49m\u001b[43m]\u001b[49m)\n",
      "\u001b[1;31mTypeError\u001b[0m: 'set' object is not subscriptable"
     ]
    }
   ],
   "source": [
    "print(l[0])\n",
    "print(t[0])\n",
    "print(s[0])\n",
    "\n"
   ]
  },
  {
   "cell_type": "markdown",
   "id": "624ca04a-0d4b-4e20-8983-535a7f9ebc75",
   "metadata": {},
   "source": [
    "##### Immutability"
   ]
  },
  {
   "cell_type": "code",
   "execution_count": 14,
   "id": "21e8b4b3-3dc2-4494-99bc-841d3e9019cb",
   "metadata": {},
   "outputs": [
    {
     "name": "stdout",
     "output_type": "stream",
     "text": [
      "[2, 2, 2, 3, 4]\n",
      "{1, 2, 3, 6}\n"
     ]
    },
    {
     "ename": "TypeError",
     "evalue": "'tuple' object does not support item assignment",
     "output_type": "error",
     "traceback": [
      "\u001b[1;31m---------------------------------------------------------------------------\u001b[0m",
      "\u001b[1;31mTypeError\u001b[0m                                 Traceback (most recent call last)",
      "Cell \u001b[1;32mIn[14], line 5\u001b[0m\n\u001b[0;32m      3\u001b[0m s\u001b[38;5;241m.\u001b[39madd(\u001b[38;5;241m6\u001b[39m)\n\u001b[0;32m      4\u001b[0m \u001b[38;5;28mprint\u001b[39m(s)\n\u001b[1;32m----> 5\u001b[0m \u001b[43mt\u001b[49m\u001b[43m[\u001b[49m\u001b[38;5;241;43m0\u001b[39;49m\u001b[43m]\u001b[49m\u001b[38;5;241m=\u001b[39m\u001b[38;5;241m5\u001b[39m\n\u001b[0;32m      6\u001b[0m \u001b[38;5;28mprint\u001b[39m(t)\n",
      "\u001b[1;31mTypeError\u001b[0m: 'tuple' object does not support item assignment"
     ]
    }
   ],
   "source": [
    "l[0]=2\n",
    "print(l)\n",
    "s.add(6)\n",
    "print(s)\n",
    "t[0]=5\n",
    "print(t)"
   ]
  },
  {
   "cell_type": "markdown",
   "id": "90b28ee0-3d83-422c-b398-d24d1db7ab74",
   "metadata": {},
   "source": [
    "3. How do you handle exceptions in Python?\n"
   ]
  },
  {
   "cell_type": "markdown",
   "id": "a9803a50-6a2d-402e-866f-2d0863e8176e",
   "metadata": {},
   "source": [
    "Exceptions in python are handled using a try block. The code prone to an exception is written within a try block and in case of an exception, the except block returns what kind of error exists in the code. In addition to try and except, an else clause can also be added which runs if their is no exception in the program. Further, if a finally clause exists in the code, it runs regardless of an exception. We can also make custom exceptions by creating a custom class."
   ]
  },
  {
   "cell_type": "code",
   "execution_count": 19,
   "id": "45ab0f5b-f796-4d09-b0dd-2d959174077a",
   "metadata": {},
   "outputs": [],
   "source": [
    "def divide(a,b):\n",
    "    try:\n",
    "        ans =  a/b\n",
    "    except ZeroDivisonError:\n",
    "        print (\"Cannot divide by zero\")\n",
    "    else: \n",
    "        print(\"Successful Division\", ans)\n",
    "    finally:\n",
    "        print(\"End of a function\")"
   ]
  },
  {
   "cell_type": "code",
   "execution_count": 20,
   "id": "43bcf2e4-371e-44b8-80c9-618a62706574",
   "metadata": {},
   "outputs": [
    {
     "name": "stdout",
     "output_type": "stream",
     "text": [
      "Successful Division 0.8\n",
      "End of a function\n"
     ]
    }
   ],
   "source": [
    "divide(4,5)"
   ]
  },
  {
   "cell_type": "code",
   "execution_count": 21,
   "id": "2985c984-ab75-4392-a66a-e051160d7545",
   "metadata": {},
   "outputs": [
    {
     "name": "stdout",
     "output_type": "stream",
     "text": [
      "End of a function\n"
     ]
    },
    {
     "ename": "NameError",
     "evalue": "name 'ZeroDivisonError' is not defined",
     "output_type": "error",
     "traceback": [
      "\u001b[1;31m---------------------------------------------------------------------------\u001b[0m",
      "\u001b[1;31mZeroDivisionError\u001b[0m                         Traceback (most recent call last)",
      "Cell \u001b[1;32mIn[19], line 3\u001b[0m, in \u001b[0;36mdivide\u001b[1;34m(a, b)\u001b[0m\n\u001b[0;32m      2\u001b[0m \u001b[38;5;28;01mtry\u001b[39;00m:\n\u001b[1;32m----> 3\u001b[0m     ans \u001b[38;5;241m=\u001b[39m  \u001b[43ma\u001b[49m\u001b[38;5;241;43m/\u001b[39;49m\u001b[43mb\u001b[49m\n\u001b[0;32m      4\u001b[0m \u001b[38;5;28;01mexcept\u001b[39;00m ZeroDivisonError:\n",
      "\u001b[1;31mZeroDivisionError\u001b[0m: division by zero",
      "\nDuring handling of the above exception, another exception occurred:\n",
      "\u001b[1;31mNameError\u001b[0m                                 Traceback (most recent call last)",
      "Cell \u001b[1;32mIn[21], line 1\u001b[0m\n\u001b[1;32m----> 1\u001b[0m \u001b[43mdivide\u001b[49m\u001b[43m(\u001b[49m\u001b[38;5;241;43m4\u001b[39;49m\u001b[43m,\u001b[49m\u001b[38;5;241;43m0\u001b[39;49m\u001b[43m)\u001b[49m\n",
      "Cell \u001b[1;32mIn[19], line 4\u001b[0m, in \u001b[0;36mdivide\u001b[1;34m(a, b)\u001b[0m\n\u001b[0;32m      2\u001b[0m \u001b[38;5;28;01mtry\u001b[39;00m:\n\u001b[0;32m      3\u001b[0m     ans \u001b[38;5;241m=\u001b[39m  a\u001b[38;5;241m/\u001b[39mb\n\u001b[1;32m----> 4\u001b[0m \u001b[38;5;28;01mexcept\u001b[39;00m \u001b[43mZeroDivisonError\u001b[49m:\n\u001b[0;32m      5\u001b[0m     \u001b[38;5;28mprint\u001b[39m (\u001b[38;5;124m\"\u001b[39m\u001b[38;5;124mCannot divide by zero\u001b[39m\u001b[38;5;124m\"\u001b[39m)\n\u001b[0;32m      6\u001b[0m \u001b[38;5;28;01melse\u001b[39;00m: \n",
      "\u001b[1;31mNameError\u001b[0m: name 'ZeroDivisonError' is not defined"
     ]
    }
   ],
   "source": [
    "divide(4,0)"
   ]
  },
  {
   "cell_type": "markdown",
   "id": "aca10bc5-8aea-4ba8-87ac-8f1fb0ffeba5",
   "metadata": {},
   "source": [
    "4. What are Python decorators?"
   ]
  },
  {
   "cell_type": "markdown",
   "id": "387af2db-3633-4a9f-9d82-b759f61adb82",
   "metadata": {},
   "source": [
    "Python decorators are functions that are used to wrap other functions in order to change the behaviour of the other functions without altering their code."
   ]
  },
  {
   "cell_type": "code",
   "execution_count": 22,
   "id": "ceb0c02d-7ad0-43b0-b64a-52d6417b7ba4",
   "metadata": {},
   "outputs": [],
   "source": [
    "def IntegerOutput(func):\n",
    "    def wrapper(a,b):\n",
    "        if b!=0:\n",
    "            result = int(func(a,b))\n",
    "            return result\n",
    "        else:\n",
    "            return \"Not Divisible\"\n",
    "    return wrapper\n",
    "@IntegerOutput\n",
    "def divide(a,b):\n",
    "    return a/b"
   ]
  },
  {
   "cell_type": "code",
   "execution_count": 24,
   "id": "6a20acb2-aadf-46fd-a1da-3847074ebda7",
   "metadata": {},
   "outputs": [
    {
     "data": {
      "text/plain": [
       "1"
      ]
     },
     "execution_count": 24,
     "metadata": {},
     "output_type": "execute_result"
    }
   ],
   "source": [
    "divide(10,7)"
   ]
  },
  {
   "cell_type": "markdown",
   "id": "8de25475-f5f6-4577-b7d7-08f49d306388",
   "metadata": {},
   "source": [
    "divide(10,0)"
   ]
  },
  {
   "cell_type": "markdown",
   "id": "553649d4-73b7-41d5-8ceb-4b3915bcf1fd",
   "metadata": {},
   "source": [
    "5. What is a lambda function?"
   ]
  },
  {
   "cell_type": "markdown",
   "id": "da6a4ca4-1b09-4f01-a85b-463411906f35",
   "metadata": {},
   "source": [
    "Lamda function is an anonymous function with a single expression that is written within a code in order to perform a specific task without having to create an elaborate function."
   ]
  },
  {
   "cell_type": "code",
   "execution_count": 27,
   "id": "bc6c2d3d-8527-4fef-aa47-59d1f05555db",
   "metadata": {},
   "outputs": [
    {
     "data": {
      "text/plain": [
       "8"
      ]
     },
     "execution_count": 27,
     "metadata": {},
     "output_type": "execute_result"
    }
   ],
   "source": [
    "func = lambda a,b: a*b\n",
    "func(2,4)"
   ]
  },
  {
   "cell_type": "markdown",
   "id": "db394373-fb3c-4c45-a886-1cf2c000c490",
   "metadata": {},
   "source": [
    "7. How do you work with files in Python?\n"
   ]
  },
  {
   "cell_type": "markdown",
   "id": "51fef55c-688b-4ff1-b606-19e5be694323",
   "metadata": {},
   "source": [
    "Python allows different functions to handle files. Following are the functions with specific purpose: <br>\n",
    "a) open() : It allows the user to open a file. Syntax: Open(\"<file name\", \"<level_of accessibility>\") <br>\n",
    "b) read() : It allows to peruse the file. Syntax : file.read() <br>\n",
    "c) write() : It allows to create a new and also if the file has been opened in write mode, it can be edited using this function. Syntax: file.write() <br>\n",
    "\n",
    "Different modes are:<br>\n",
    "a) r : read mode only<br>\n",
    "b) a : append mode. appends data at the end of file using write method<br>\n",
    "c) w : write mode. allows overwriting of data in a file.<br>\n"
   ]
  },
  {
   "cell_type": "markdown",
   "id": "48ce3489-17b5-4c9a-ac8f-1ce3e2a785e6",
   "metadata": {},
   "source": [
    "## OOps Impementation"
   ]
  },
  {
   "cell_type": "markdown",
   "id": "cced2e49-1084-407f-851a-371ee2c9ec4f",
   "metadata": {},
   "source": [
    "1. What is Object-Oriented Programming (OOP)?"
   ]
  },
  {
   "cell_type": "markdown",
   "id": "6bb629d3-4718-4c0e-86e5-e920e56ff24c",
   "metadata": {},
   "source": [
    "Object-Oriented program involves objects and classes. Classes are templates that hold various data types and methods which can only be accessed when an object of that class is created. <br>\n",
    "The four basic pillars of OOP are: <br>\n",
    "a) Encapsulation: It is a method by which data and method are grouped together in a class which can later be accessed using an object. It provides security.<br>\n",
    "b)Abstraction: It is a method of creating a general template without having any complex code. <br>\n",
    "c)Inheritance: It allows the reusability of a code. A class which inherits from another class can access the functionality of the parent class without having to rewrite the functions.<br>\n",
    "d) Polymorphism: It allows many forms of a single functional i.e the function name remains the same but performance of the function differs.It can entail for a speific function to perform different tasks based on the arguments or redefining the same function with different functionality."
   ]
  },
  {
   "cell_type": "markdown",
   "id": "24b2e8a9-ba7e-4680-a093-2b51ae0535a3",
   "metadata": {},
   "source": [
    "2. What is a class and an object in Python?\n"
   ]
  },
  {
   "cell_type": "markdown",
   "id": "1fc18531-6d24-4fb1-bc95-bc74e18eb9bc",
   "metadata": {},
   "source": [
    "Class is a template that has data types and methods while as object is an instance of the class. Class has no memory until an object is created."
   ]
  },
  {
   "cell_type": "code",
   "execution_count": 29,
   "id": "a24af81c-9ee8-411d-9ae7-2eb21ece1deb",
   "metadata": {},
   "outputs": [],
   "source": [
    "class Animal:\n",
    "    def __init__(self,name):\n",
    "        self.name = name\n",
    "    def make_sound(self):\n",
    "        print(f\"{self.name} makes a sound\")"
   ]
  },
  {
   "cell_type": "code",
   "execution_count": 32,
   "id": "4d826e3d-8860-4668-9b0c-e55dc6ffcb62",
   "metadata": {},
   "outputs": [
    {
     "name": "stdout",
     "output_type": "stream",
     "text": [
      "Dog makes a sound\n"
     ]
    }
   ],
   "source": [
    "obj = Animal(\"Dog\")\n",
    "obj.make_sound()"
   ]
  },
  {
   "cell_type": "markdown",
   "id": "fb37a13f-e3f7-4e89-b78f-b5a7c6b52243",
   "metadata": {},
   "source": [
    "4. What are instance variables and class variables?\n"
   ]
  },
  {
   "cell_type": "markdown",
   "id": "0885a3a7-d8c3-4deb-bbcf-03b53fde17af",
   "metadata": {},
   "source": [
    "Class variable are common variables that are shared by all instances of a class. They are defined within the class but outside the methods. Instance variables are specific to each object and are defined within the methods generally the constructor method."
   ]
  },
  {
   "cell_type": "markdown",
   "id": "685fb84d-73d4-4322-9f18-64d3e54e7ec9",
   "metadata": {},
   "source": [
    "class Animal:\n",
    "    color = \"Black\" #class variable\n",
    "    def __init__(self,name): #name instance variable\n",
    "        self.name = name\n",
    "    def make_sound(self):\n",
    "        print(f\"{self.name} makes a sound\")"
   ]
  },
  {
   "cell_type": "code",
   "execution_count": 36,
   "id": "f1c6d707-b379-4350-96dd-73d278b1104e",
   "metadata": {},
   "outputs": [
    {
     "name": "stdout",
     "output_type": "stream",
     "text": [
      "Dog makes a sound\n",
      "Black\n",
      "Cat makes a sound\n",
      "Black\n"
     ]
    }
   ],
   "source": [
    "obj1 = Animal(\"Dog\")\n",
    "obj1.make_sound()\n",
    "print(obj1.color)\n",
    "obj2 = Animal(\"Cat\")\n",
    "obj2.make_sound()\n",
    "print(obj2.color)"
   ]
  },
  {
   "cell_type": "markdown",
   "id": "d82d9259-b81e-4402-bbf7-c4cb9a33f3d4",
   "metadata": {},
   "source": [
    "5. What is the purpose of the __init__ method?"
   ]
  },
  {
   "cell_type": "markdown",
   "id": "6b26467b-5cfe-4f3b-9739-ac951676197a",
   "metadata": {},
   "source": [
    "__init__  is a constructor method and used to initialize the data of a class.It is the first method that is called when an object is created."
   ]
  },
  {
   "cell_type": "code",
   "execution_count": 37,
   "id": "5b76ed80-5281-4b5d-8727-c0c8bfe5a3bc",
   "metadata": {},
   "outputs": [],
   "source": [
    "class Addition:\n",
    "    def __init__(self,a,b):\n",
    "        self.num1 = a\n",
    "        self.num2 = b"
   ]
  },
  {
   "cell_type": "code",
   "execution_count": 40,
   "id": "18955d4d-3cb8-45a8-9274-fec623454376",
   "metadata": {},
   "outputs": [
    {
     "name": "stdout",
     "output_type": "stream",
     "text": [
      "10\n",
      "4\n"
     ]
    }
   ],
   "source": [
    "add = Addition(10,4)\n",
    "print(add.num1)\n",
    "print(add.num2)"
   ]
  },
  {
   "cell_type": "markdown",
   "id": "4cd511f5-7961-48ee-bc5a-ed71bbe4a158",
   "metadata": {},
   "source": [
    "6. What are self and cls?\n"
   ]
  },
  {
   "cell_type": "markdown",
   "id": "ae01f344-704e-4396-84f0-a9db4582ab68",
   "metadata": {},
   "source": [
    "Self refers to a that particular instance of an object that is being used and it is used to access instance variables while as cls is used to access class variables within a class."
   ]
  },
  {
   "cell_type": "markdown",
   "id": "36c9c17e-9c8d-4f70-a86c-e5834ba7e1d1",
   "metadata": {},
   "source": [
    "7. What is inheritance?"
   ]
  },
  {
   "cell_type": "markdown",
   "id": "d57ee14d-88fb-4d4d-be5c-4adc1f1a9e14",
   "metadata": {},
   "source": [
    "Inheritance allows function reusability where a class inherits the methods of another class."
   ]
  },
  {
   "cell_type": "code",
   "execution_count": 47,
   "id": "ce4f7181-7b31-4565-9a01-434d6cb60f42",
   "metadata": {},
   "outputs": [],
   "source": [
    "class Animal:\n",
    "    color = \"Black\" #class variable\n",
    "    def __init__(self,name): #name instance variable\n",
    "        self.name = name\n",
    "class Dog(Animal):\n",
    "    def speak(self):\n",
    "        print(f\"{self.name} barks\")"
   ]
  },
  {
   "cell_type": "code",
   "execution_count": 49,
   "id": "57f4fff3-bd84-42ed-8f5b-ec23d8b16c2f",
   "metadata": {},
   "outputs": [
    {
     "name": "stdout",
     "output_type": "stream",
     "text": [
      "Jim barks\n"
     ]
    }
   ],
   "source": [
    "dog = Dog(\"Jim\")\n",
    "dog.speak()"
   ]
  },
  {
   "cell_type": "markdown",
   "id": "d1926ae9-0d88-43d9-9aaf-e8ebf5e63d63",
   "metadata": {},
   "source": [
    "8. Explain method overriding and method overloading.\n"
   ]
  },
  {
   "cell_type": "markdown",
   "id": "d523422c-1e7b-4d96-b78e-5d84c16f82db",
   "metadata": {},
   "source": [
    "Method overloading is an example of compile time polymorphism where a function gives a different answer based on the type and number of arguments passed while as overriding is an example of runtime polymorphism where a two or more functions with same name perform different functionality."
   ]
  },
  {
   "cell_type": "code",
   "execution_count": 55,
   "id": "ad128aec-9c07-4541-beeb-ccce3c7efb2e",
   "metadata": {},
   "outputs": [],
   "source": [
    "#overloading\n",
    "class Add:\n",
    "    def add(self,a,b):\n",
    "        if type(a)==str and type(b)==str:\n",
    "            return a + ' ' + b\n",
    "        elif type(a)==int and type(b)==int:\n",
    "            return a+b"
   ]
  },
  {
   "cell_type": "code",
   "execution_count": 53,
   "id": "2d3df791-067f-4884-81a0-12a3bf6be362",
   "metadata": {},
   "outputs": [
    {
     "name": "stdout",
     "output_type": "stream",
     "text": [
      "3\n"
     ]
    }
   ],
   "source": [
    "nums = Add()\n",
    "print(nums.add(1,2))"
   ]
  },
  {
   "cell_type": "code",
   "execution_count": 56,
   "id": "15e76d59-a1f6-4456-8272-d9de2e34fe18",
   "metadata": {},
   "outputs": [
    {
     "name": "stdout",
     "output_type": "stream",
     "text": [
      "1 2\n"
     ]
    }
   ],
   "source": [
    "string = Add()\n",
    "print(nums.add(\"1\",\"2\"))"
   ]
  },
  {
   "cell_type": "code",
   "execution_count": 57,
   "id": "590ac565-4427-40b3-994a-c5b24c7f2523",
   "metadata": {},
   "outputs": [],
   "source": [
    "#Method overriding\n",
    "class Operation:\n",
    "    def add(self,a,b):\n",
    "        return (f'Addition of two numbers is: {a+b}')\n",
    "        \n",
    "\n",
    "class Addition(Operation):\n",
    "    def add(self,a,b): #Overriding add method\n",
    "        return (f'Addition of two numbers is : {float(a)+float(b)}')"
   ]
  },
  {
   "cell_type": "code",
   "execution_count": 58,
   "id": "f1f1197e-8582-4ab2-99f6-2564e7fd1492",
   "metadata": {},
   "outputs": [
    {
     "name": "stdout",
     "output_type": "stream",
     "text": [
      "Operation class function: Addition of two numbers is: 15\n",
      "Addition class function: Addition of two numbers is : 15.0\n"
     ]
    }
   ],
   "source": [
    "o = Operation()\n",
    "s = Addition()\n",
    "print(f\"Operation class function: {o.add(5,10)}\")\n",
    "print(f\"Addition class function: {s.add(5,10)}\")"
   ]
  },
  {
   "cell_type": "markdown",
   "id": "45976df8-75fd-4e5f-8d4f-c2eb7d394aaf",
   "metadata": {},
   "source": [
    "9. What is multiple inheritance? How does Python handle it?"
   ]
  },
  {
   "cell_type": "markdown",
   "id": "ea19b535-2230-474b-b8c8-6ef911a7b6e0",
   "metadata": {},
   "source": [
    "Multiple Inheritance occurs when a child class inherits method from two parent classes. In case the parent classed have same methods, the perference occurs from left to right i.e, methods of the first parent class are called."
   ]
  },
  {
   "cell_type": "code",
   "execution_count": 59,
   "id": "0f6ad2b9-94f9-41de-8189-e4d69a144863",
   "metadata": {},
   "outputs": [],
   "source": [
    "class Father:\n",
    "    def skills(self):\n",
    "        print(\"Father's skills\")\n",
    "\n",
    "class Mother:\n",
    "    def skills(Self):\n",
    "        print(\"Mother's skills\")\n",
    "\n",
    "class Child(Father, Mother):\n",
    "    def skills(self):\n",
    "        super().skills()\n",
    "        print(\"Child's skills\")"
   ]
  },
  {
   "cell_type": "code",
   "execution_count": 61,
   "id": "b673dd16-9c2b-4975-9e1a-9698d2c6fa4a",
   "metadata": {},
   "outputs": [
    {
     "name": "stdout",
     "output_type": "stream",
     "text": [
      "Father's skills\n",
      "Child's skills\n"
     ]
    }
   ],
   "source": [
    "child = Child()\n",
    "child.skills() "
   ]
  },
  {
   "cell_type": "code",
   "execution_count": 63,
   "id": "98070f72-fe07-4a64-a92a-e5d1366576a4",
   "metadata": {},
   "outputs": [
    {
     "name": "stdout",
     "output_type": "stream",
     "text": [
      "True\n",
      "True\n"
     ]
    }
   ],
   "source": [
    "print(isinstance(child,Father))\n",
    "print(isinstance(child,Mother))  \n",
    "# Although the child is instance of both the classes only skills method of father class gets called."
   ]
  },
  {
   "cell_type": "markdown",
   "id": "003b48e1-3e89-4471-a234-a16c1b940e85",
   "metadata": {},
   "source": [
    "11. What is polymorphism in Python?\n"
   ]
  },
  {
   "cell_type": "markdown",
   "id": "80bb99dc-a426-4ad6-9c21-ce78b6694741",
   "metadata": {},
   "source": [
    "Answered in question 8"
   ]
  },
  {
   "cell_type": "markdown",
   "id": "39dbe8cf-cd9f-49d1-9039-c2b8b0b034be",
   "metadata": {},
   "source": [
    "12. What is encapsulation in OOP?"
   ]
  },
  {
   "cell_type": "code",
   "execution_count": 65,
   "id": "85ecd8bd-fe94-4ed2-a9bd-0d8fd42eeb75",
   "metadata": {},
   "outputs": [],
   "source": [
    "class Car:\n",
    "  \n",
    "    def __init__(self, brand,model,color,year):\n",
    "        self.__brand = brand\n",
    "        self.model = model\n",
    "        self._color = color\n",
    "        self.year = year\n",
    "        \n",
    "    def get_brand(self):\n",
    "        return (f\"The brand of the {self.model} is {self.__brand}\")\n",
    "        \n",
    "    def acceleration(self):\n",
    "        return (f\"{self.model} is accelerating!\")\n",
    "    "
   ]
  },
  {
   "cell_type": "code",
   "execution_count": 67,
   "id": "70192dc1-492c-494f-9ff2-82e604182c31",
   "metadata": {},
   "outputs": [
    {
     "name": "stdout",
     "output_type": "stream",
     "text": [
      "The brand of the Model S is Tesla\n"
     ]
    },
    {
     "data": {
      "text/plain": [
       "'Model S is accelerating!'"
      ]
     },
     "execution_count": 67,
     "metadata": {},
     "output_type": "execute_result"
    }
   ],
   "source": [
    "car1 = Car(\"Tesla\", \"Model S\", \"Black\", 2023)\n",
    "\n",
    "print(car1.get_brand())\n",
    "\n",
    "car1.acceleration()"
   ]
  },
  {
   "cell_type": "code",
   "execution_count": 68,
   "id": "377c7db7-a100-49df-be1b-67592558286b",
   "metadata": {},
   "outputs": [
    {
     "name": "stdout",
     "output_type": "stream",
     "text": [
      "_Car__brand : Tesla\n",
      "model : Model S\n",
      "_color : Black\n",
      "year : 2023\n"
     ]
    }
   ],
   "source": [
    "for key,value in car1.__dict__.items():\n",
    "    print(\"{} : {}\".format(key,value))"
   ]
  },
  {
   "cell_type": "markdown",
   "id": "6faf7b91-80c9-4b70-9dcf-b05840d09f54",
   "metadata": {},
   "source": [
    "In the above example brand is a private variable and cannot be accessed directly using the object of the class and hence public method \"get_brand\" is created. Python alters the name of the private variable and stores it as \"_className__variable\""
   ]
  },
  {
   "cell_type": "markdown",
   "id": "90a536a1-0556-49ac-9495-b74402ede8ad",
   "metadata": {},
   "source": [
    "14. How do you implement operator overloading in Python?"
   ]
  },
  {
   "cell_type": "markdown",
   "id": "3fe63f9d-5bb9-41d7-b991-ee966d30d8d9",
   "metadata": {},
   "source": [
    "Some functions in python are built using overloading polymorphism eg: if we add two integers we can an integer while as if we add two string we get an appended string"
   ]
  },
  {
   "cell_type": "code",
   "execution_count": 70,
   "id": "011d9142-8a3d-4440-9427-12e12f8feb30",
   "metadata": {},
   "outputs": [
    {
     "data": {
      "text/plain": [
       "3"
      ]
     },
     "execution_count": 70,
     "metadata": {},
     "output_type": "execute_result"
    }
   ],
   "source": [
    "1+2"
   ]
  },
  {
   "cell_type": "code",
   "execution_count": 74,
   "id": "e6fcd656-4985-4def-9213-d4d671af01df",
   "metadata": {},
   "outputs": [
    {
     "data": {
      "text/plain": [
       "'ab'"
      ]
     },
     "execution_count": 74,
     "metadata": {},
     "output_type": "execute_result"
    }
   ],
   "source": [
    "\"a\"+\"b\""
   ]
  }
 ],
 "metadata": {
  "kernelspec": {
   "display_name": "Python 3 (ipykernel)",
   "language": "python",
   "name": "python3"
  },
  "language_info": {
   "codemirror_mode": {
    "name": "ipython",
    "version": 3
   },
   "file_extension": ".py",
   "mimetype": "text/x-python",
   "name": "python",
   "nbconvert_exporter": "python",
   "pygments_lexer": "ipython3",
   "version": "3.12.6"
  }
 },
 "nbformat": 4,
 "nbformat_minor": 5
}
